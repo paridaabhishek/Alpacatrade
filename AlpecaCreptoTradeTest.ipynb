{
  "nbformat": 4,
  "nbformat_minor": 0,
  "metadata": {
    "colab": {
      "name": "AlpecaCreptoTradeTest.ipynb",
      "provenance": [],
      "collapsed_sections": [],
      "authorship_tag": "ABX9TyO7vag+OuNT72cOU7JJDbqo",
      "include_colab_link": true
    },
    "kernelspec": {
      "name": "python3",
      "display_name": "Python 3"
    },
    "language_info": {
      "name": "python"
    }
  },
  "cells": [
    {
      "cell_type": "markdown",
      "metadata": {
        "id": "view-in-github",
        "colab_type": "text"
      },
      "source": [
        "<a href=\"https://colab.research.google.com/github/paridaabhishek/Alpacatrade/blob/master/AlpecaCreptoTradeTest.ipynb\" target=\"_parent\"><img src=\"https://colab.research.google.com/assets/colab-badge.svg\" alt=\"Open In Colab\"/></a>"
      ]
    },
    {
      "cell_type": "code",
      "execution_count": 1,
      "metadata": {
        "colab": {
          "base_uri": "https://localhost:8080/"
        },
        "id": "pUAZwDaDsChU",
        "outputId": "e4ca29a0-5272-4b15-c365-58e5cec299ee"
      },
      "outputs": [
        {
          "output_type": "stream",
          "name": "stdout",
          "text": [
            "Collecting alpaca-trade-api\n",
            "  Downloading alpaca_trade_api-1.5.0-py3-none-any.whl (45 kB)\n",
            "\u001b[?25l\r\u001b[K     |███████▏                        | 10 kB 21.4 MB/s eta 0:00:01\r\u001b[K     |██████████████▍                 | 20 kB 26.4 MB/s eta 0:00:01\r\u001b[K     |█████████████████████▋          | 30 kB 22.4 MB/s eta 0:00:01\r\u001b[K     |████████████████████████████▊   | 40 kB 16.3 MB/s eta 0:00:01\r\u001b[K     |████████████████████████████████| 45 kB 1.3 MB/s \n",
            "\u001b[?25hRequirement already satisfied: requests<3,>2 in /usr/local/lib/python3.7/dist-packages (from alpaca-trade-api) (2.23.0)\n",
            "Requirement already satisfied: urllib3<2,>1.24 in /usr/local/lib/python3.7/dist-packages (from alpaca-trade-api) (1.24.3)\n",
            "Collecting aiohttp==3.7.4\n",
            "  Downloading aiohttp-3.7.4-cp37-cp37m-manylinux2014_x86_64.whl (1.3 MB)\n",
            "\u001b[K     |████████████████████████████████| 1.3 MB 34.5 MB/s \n",
            "\u001b[?25hCollecting websockets<10,>=8.0\n",
            "  Downloading websockets-9.1-cp37-cp37m-manylinux2010_x86_64.whl (103 kB)\n",
            "\u001b[K     |████████████████████████████████| 103 kB 54.6 MB/s \n",
            "\u001b[?25hCollecting deprecation==2.1.0\n",
            "  Downloading deprecation-2.1.0-py2.py3-none-any.whl (11 kB)\n",
            "Requirement already satisfied: pandas>=0.18.1 in /usr/local/lib/python3.7/dist-packages (from alpaca-trade-api) (1.3.5)\n",
            "Collecting PyYAML==5.4.1\n",
            "  Downloading PyYAML-5.4.1-cp37-cp37m-manylinux1_x86_64.whl (636 kB)\n",
            "\u001b[K     |████████████████████████████████| 636 kB 41.6 MB/s \n",
            "\u001b[?25hCollecting websocket-client<2,>=0.56.0\n",
            "  Downloading websocket_client-1.2.3-py3-none-any.whl (53 kB)\n",
            "\u001b[K     |████████████████████████████████| 53 kB 1.8 MB/s \n",
            "\u001b[?25hRequirement already satisfied: numpy>=1.11.1 in /usr/local/lib/python3.7/dist-packages (from alpaca-trade-api) (1.19.5)\n",
            "Collecting msgpack==1.0.2\n",
            "  Downloading msgpack-1.0.2-cp37-cp37m-manylinux1_x86_64.whl (273 kB)\n",
            "\u001b[K     |████████████████████████████████| 273 kB 52.9 MB/s \n",
            "\u001b[?25hCollecting async-timeout<4.0,>=3.0\n",
            "  Downloading async_timeout-3.0.1-py3-none-any.whl (8.2 kB)\n",
            "Requirement already satisfied: attrs>=17.3.0 in /usr/local/lib/python3.7/dist-packages (from aiohttp==3.7.4->alpaca-trade-api) (21.4.0)\n",
            "Collecting multidict<7.0,>=4.5\n",
            "  Downloading multidict-6.0.2-cp37-cp37m-manylinux_2_17_x86_64.manylinux2014_x86_64.whl (94 kB)\n",
            "\u001b[K     |████████████████████████████████| 94 kB 3.1 MB/s \n",
            "\u001b[?25hCollecting yarl<2.0,>=1.0\n",
            "  Downloading yarl-1.7.2-cp37-cp37m-manylinux_2_5_x86_64.manylinux1_x86_64.manylinux_2_12_x86_64.manylinux2010_x86_64.whl (271 kB)\n",
            "\u001b[K     |████████████████████████████████| 271 kB 44.4 MB/s \n",
            "\u001b[?25hRequirement already satisfied: typing-extensions>=3.6.5 in /usr/local/lib/python3.7/dist-packages (from aiohttp==3.7.4->alpaca-trade-api) (3.10.0.2)\n",
            "Requirement already satisfied: chardet<4.0,>=2.0 in /usr/local/lib/python3.7/dist-packages (from aiohttp==3.7.4->alpaca-trade-api) (3.0.4)\n",
            "Requirement already satisfied: packaging in /usr/local/lib/python3.7/dist-packages (from deprecation==2.1.0->alpaca-trade-api) (21.3)\n",
            "Requirement already satisfied: python-dateutil>=2.7.3 in /usr/local/lib/python3.7/dist-packages (from pandas>=0.18.1->alpaca-trade-api) (2.8.2)\n",
            "Requirement already satisfied: pytz>=2017.3 in /usr/local/lib/python3.7/dist-packages (from pandas>=0.18.1->alpaca-trade-api) (2018.9)\n",
            "Requirement already satisfied: six>=1.5 in /usr/local/lib/python3.7/dist-packages (from python-dateutil>=2.7.3->pandas>=0.18.1->alpaca-trade-api) (1.15.0)\n",
            "Requirement already satisfied: certifi>=2017.4.17 in /usr/local/lib/python3.7/dist-packages (from requests<3,>2->alpaca-trade-api) (2021.10.8)\n",
            "Requirement already satisfied: idna<3,>=2.5 in /usr/local/lib/python3.7/dist-packages (from requests<3,>2->alpaca-trade-api) (2.10)\n",
            "Requirement already satisfied: pyparsing!=3.0.5,>=2.0.2 in /usr/local/lib/python3.7/dist-packages (from packaging->deprecation==2.1.0->alpaca-trade-api) (3.0.7)\n",
            "Installing collected packages: multidict, yarl, async-timeout, websockets, websocket-client, PyYAML, msgpack, deprecation, aiohttp, alpaca-trade-api\n",
            "  Attempting uninstall: PyYAML\n",
            "    Found existing installation: PyYAML 3.13\n",
            "    Uninstalling PyYAML-3.13:\n",
            "      Successfully uninstalled PyYAML-3.13\n",
            "  Attempting uninstall: msgpack\n",
            "    Found existing installation: msgpack 1.0.3\n",
            "    Uninstalling msgpack-1.0.3:\n",
            "      Successfully uninstalled msgpack-1.0.3\n",
            "Successfully installed PyYAML-5.4.1 aiohttp-3.7.4 alpaca-trade-api-1.5.0 async-timeout-3.0.1 deprecation-2.1.0 msgpack-1.0.2 multidict-6.0.2 websocket-client-1.2.3 websockets-9.1 yarl-1.7.2\n"
          ]
        }
      ],
      "source": [
        "!pip install alpaca-trade-api"
      ]
    },
    {
      "cell_type": "code",
      "source": [
        "#Map Google drive\n",
        "from google.colab import drive\n",
        "drive.mount('/content/drive',force_remount=True)#Map Google drive"
      ],
      "metadata": {
        "colab": {
          "base_uri": "https://localhost:8080/"
        },
        "id": "Ao72nCyRtHYA",
        "outputId": "3b023941-2073-4c57-bff4-34e4232bb304"
      },
      "execution_count": 2,
      "outputs": [
        {
          "output_type": "stream",
          "name": "stdout",
          "text": [
            "Mounted at /content/drive\n"
          ]
        }
      ]
    },
    {
      "cell_type": "code",
      "source": [
        "#Import Credentials. Kept the credential in the file Cred.py under the dir below for security.\n",
        "import sys\n",
        "import os\n",
        "import glob\n",
        "print(glob.glob(\"/content/drive/*\"))\n",
        "os.chdir('/content/drive//MyDrive/AlpecaTrading/Config')\n",
        "#sys.path.append('/content/drive/AlpecaTrading/Config')\n",
        "print(os.getcwd())\n",
        "from  Cred import *\n",
        "print(API_KEY)\n",
        "print(SECRET_KEY)"
      ],
      "metadata": {
        "colab": {
          "base_uri": "https://localhost:8080/"
        },
        "id": "KiS_Sl6vtXri",
        "outputId": "b189026d-dd40-41f9-869d-ecbab314f134"
      },
      "execution_count": 3,
      "outputs": [
        {
          "output_type": "stream",
          "name": "stdout",
          "text": [
            "['/content/drive/MyDrive']\n",
            "/content/drive/MyDrive/AlpecaTrading/Config\n",
            "PKENE1R5LIQR1J3778D0\n",
            "nT8XMPHULWGvTu4jnDJc6UMK2tSyUAc2YS7npTNV\n"
          ]
        }
      ]
    },
    {
      "cell_type": "code",
      "source": [
        "####################TestCode To check the trading api9SDK working )#########################################\n",
        "import alpaca_trade_api as tradeapi\n",
        "paper_market='https://paper-api.alpaca.markets'\n",
        "api = tradeapi.REST(key_id=API_KEY,secret_key=SECRET_KEY,base_url=paper_market)\n",
        "acc=api.get_account()\n",
        "acc"
      ],
      "metadata": {
        "colab": {
          "base_uri": "https://localhost:8080/"
        },
        "id": "CjUHhWb6tdG9",
        "outputId": "89c5afbf-1fb1-41aa-e7ba-926c04d423df"
      },
      "execution_count": 4,
      "outputs": [
        {
          "output_type": "execute_result",
          "data": {
            "text/plain": [
              "Account({   'account_blocked': False,\n",
              "    'account_number': 'PA3WFYAGY0TD',\n",
              "    'accrued_fees': '0',\n",
              "    'buying_power': '199293.889',\n",
              "    'cash': '99336.6995',\n",
              "    'created_at': '2022-02-04T18:16:52.455679Z',\n",
              "    'crypto_status': 'ACTIVE',\n",
              "    'currency': 'USD',\n",
              "    'daytrade_count': 0,\n",
              "    'daytrading_buying_power': '0',\n",
              "    'equity': '99997.73262',\n",
              "    'id': '818445eb-79e9-4861-86b3-ce3418a541cc',\n",
              "    'initial_margin': '350.78812',\n",
              "    'last_equity': '100000',\n",
              "    'last_maintenance_margin': '0',\n",
              "    'long_market_value': '661.03312',\n",
              "    'maintenance_margin': '226.69012',\n",
              "    'multiplier': '2',\n",
              "    'non_marginable_buying_power': '99336.69',\n",
              "    'pattern_day_trader': False,\n",
              "    'pending_transfer_in': '0',\n",
              "    'portfolio_value': '99997.73262',\n",
              "    'regt_buying_power': '199293.889',\n",
              "    'short_market_value': '0',\n",
              "    'shorting_enabled': True,\n",
              "    'sma': '0',\n",
              "    'status': 'ACTIVE',\n",
              "    'trade_suspended_by_user': False,\n",
              "    'trading_blocked': False,\n",
              "    'transfers_blocked': False})"
            ]
          },
          "metadata": {},
          "execution_count": 4
        }
      ]
    },
    {
      "cell_type": "code",
      "source": [
        "api.submit_order(\n",
        "    symbol='BTCUSD',\n",
        "    qty=1,  # fractional shares\n",
        "    side='buy',\n",
        "    type='market',\n",
        "    time_in_force='day',\n",
        ")"
      ],
      "metadata": {
        "colab": {
          "base_uri": "https://localhost:8080/"
        },
        "id": "NNa0_RBztepG",
        "outputId": "2f2e9d11-bac9-4edd-86a0-8651df5fc49c"
      },
      "execution_count": 8,
      "outputs": [
        {
          "output_type": "execute_result",
          "data": {
            "text/plain": [
              "Order({   'asset_class': 'crypto',\n",
              "    'asset_id': 'ef145fe0-95cd-453a-8609-db7200ff0279',\n",
              "    'canceled_at': None,\n",
              "    'client_order_id': '7918516d-cc80-4871-9ee3-874a7c157d5a',\n",
              "    'created_at': '2022-02-04T21:51:31.990637074Z',\n",
              "    'expired_at': None,\n",
              "    'extended_hours': False,\n",
              "    'failed_at': None,\n",
              "    'filled_at': None,\n",
              "    'filled_avg_price': None,\n",
              "    'filled_qty': '0',\n",
              "    'hwm': None,\n",
              "    'id': 'c40f15ed-06a0-423f-9d39-e13da620a59a',\n",
              "    'legs': None,\n",
              "    'limit_price': None,\n",
              "    'notional': None,\n",
              "    'order_class': '',\n",
              "    'order_type': 'market',\n",
              "    'qty': '1',\n",
              "    'replaced_at': None,\n",
              "    'replaced_by': None,\n",
              "    'replaces': None,\n",
              "    'side': 'buy',\n",
              "    'status': 'accepted',\n",
              "    'stop_price': None,\n",
              "    'submitted_at': '2022-02-04T21:51:31.987946643Z',\n",
              "    'symbol': 'BTCUSD',\n",
              "    'time_in_force': 'day',\n",
              "    'trail_percent': None,\n",
              "    'trail_price': None,\n",
              "    'type': 'market',\n",
              "    'updated_at': '2022-02-04T21:51:31.990637074Z'})"
            ]
          },
          "metadata": {},
          "execution_count": 8
        }
      ]
    },
    {
      "cell_type": "code",
      "source": [
        "api.submit_order(\n",
        "    symbol='BTCUSD',\n",
        "    qty=0.501,  # fractional shares\n",
        "    side='sell',\n",
        "    type='market',\n",
        "    time_in_force='day',\n",
        ")"
      ],
      "metadata": {
        "colab": {
          "base_uri": "https://localhost:8080/"
        },
        "id": "QyIeXfaft1z3",
        "outputId": "15f28337-802d-4823-9088-78a02afbcfb1"
      },
      "execution_count": 9,
      "outputs": [
        {
          "output_type": "execute_result",
          "data": {
            "text/plain": [
              "Order({   'asset_class': 'crypto',\n",
              "    'asset_id': 'ef145fe0-95cd-453a-8609-db7200ff0279',\n",
              "    'canceled_at': None,\n",
              "    'client_order_id': '1b51ac66-e94c-46dd-a3ee-c8605ca15ed8',\n",
              "    'created_at': '2022-02-04T21:52:13.540638244Z',\n",
              "    'expired_at': None,\n",
              "    'extended_hours': False,\n",
              "    'failed_at': None,\n",
              "    'filled_at': None,\n",
              "    'filled_avg_price': None,\n",
              "    'filled_qty': '0',\n",
              "    'hwm': None,\n",
              "    'id': 'fe04b0f0-81b0-4980-ab82-bff8c5d017f4',\n",
              "    'legs': None,\n",
              "    'limit_price': None,\n",
              "    'notional': None,\n",
              "    'order_class': '',\n",
              "    'order_type': 'market',\n",
              "    'qty': '0.501',\n",
              "    'replaced_at': None,\n",
              "    'replaced_by': None,\n",
              "    'replaces': None,\n",
              "    'side': 'sell',\n",
              "    'status': 'accepted',\n",
              "    'stop_price': None,\n",
              "    'submitted_at': '2022-02-04T21:52:13.539876028Z',\n",
              "    'symbol': 'BTCUSD',\n",
              "    'time_in_force': 'day',\n",
              "    'trail_percent': None,\n",
              "    'trail_price': None,\n",
              "    'type': 'market',\n",
              "    'updated_at': '2022-02-04T21:52:13.540638244Z'})"
            ]
          },
          "metadata": {},
          "execution_count": 9
        }
      ]
    }
  ]
}