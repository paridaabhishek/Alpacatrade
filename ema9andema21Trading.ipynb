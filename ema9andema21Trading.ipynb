{
  "nbformat": 4,
  "nbformat_minor": 0,
  "metadata": {
    "colab": {
      "name": "ema9andema21Trading.ipynb",
      "provenance": [],
      "collapsed_sections": [],
      "authorship_tag": "ABX9TyORCpKOnJpXgu7BjQ4hzHgg",
      "include_colab_link": true
    },
    "kernelspec": {
      "name": "python3",
      "display_name": "Python 3"
    },
    "language_info": {
      "name": "python"
    }
  },
  "cells": [
    {
      "cell_type": "markdown",
      "metadata": {
        "id": "view-in-github",
        "colab_type": "text"
      },
      "source": [
        "<a href=\"https://colab.research.google.com/github/paridaabhishek/Alpacatrade/blob/master/ema9andema21Trading.ipynb\" target=\"_parent\"><img src=\"https://colab.research.google.com/assets/colab-badge.svg\" alt=\"Open In Colab\"/></a>"
      ]
    },
    {
      "cell_type": "markdown",
      "source": [
        ""
      ],
      "metadata": {
        "id": "YOphN4fHpQfS"
      }
    },
    {
      "cell_type": "markdown",
      "source": [
        "#This process will try to figure out the net gain when we automate the ema 9 and ema 21 logic\n",
        "\n",
        "\n",
        "Rule:Ema9>ema21 buy and reverse shell . \n",
        "     We will use the 1 min bar here for\n",
        "     initial tesing . This can be extended\n",
        "     to any timeframe latter."
      ],
      "metadata": {
        "id": "HhPUXQUOpT37"
      }
    },
    {
      "cell_type": "code",
      "source": [
        "#Install WebSocket\n",
        "!pip install websocket-client"
      ],
      "metadata": {
        "colab": {
          "base_uri": "https://localhost:8080/"
        },
        "id": "fXOm4CZ1pXVO",
        "outputId": "1e691b67-b9c7-401d-c508-ad3f9720bff1"
      },
      "execution_count": 103,
      "outputs": [
        {
          "output_type": "stream",
          "name": "stdout",
          "text": [
            "Requirement already satisfied: websocket-client in /usr/local/lib/python3.7/dist-packages (1.2.3)\n"
          ]
        }
      ]
    },
    {
      "cell_type": "code",
      "source": [
        "!pip install alpaca-trade-api"
      ],
      "metadata": {
        "colab": {
          "base_uri": "https://localhost:8080/"
        },
        "id": "8OrULm7S6CUg",
        "outputId": "0cb2ece8-bab6-46c4-c8ed-f32362d3e117"
      },
      "execution_count": 104,
      "outputs": [
        {
          "output_type": "stream",
          "name": "stdout",
          "text": [
            "Requirement already satisfied: alpaca-trade-api in /usr/local/lib/python3.7/dist-packages (1.5.0)\n",
            "Requirement already satisfied: PyYAML==5.4.1 in /usr/local/lib/python3.7/dist-packages (from alpaca-trade-api) (5.4.1)\n",
            "Requirement already satisfied: websocket-client<2,>=0.56.0 in /usr/local/lib/python3.7/dist-packages (from alpaca-trade-api) (1.2.3)\n",
            "Requirement already satisfied: aiohttp==3.7.4 in /usr/local/lib/python3.7/dist-packages (from alpaca-trade-api) (3.7.4)\n",
            "Requirement already satisfied: urllib3<2,>1.24 in /usr/local/lib/python3.7/dist-packages (from alpaca-trade-api) (1.24.3)\n",
            "Requirement already satisfied: requests<3,>2 in /usr/local/lib/python3.7/dist-packages (from alpaca-trade-api) (2.23.0)\n",
            "Requirement already satisfied: pandas>=0.18.1 in /usr/local/lib/python3.7/dist-packages (from alpaca-trade-api) (1.3.5)\n",
            "Requirement already satisfied: websockets<10,>=8.0 in /usr/local/lib/python3.7/dist-packages (from alpaca-trade-api) (9.1)\n",
            "Requirement already satisfied: msgpack==1.0.2 in /usr/local/lib/python3.7/dist-packages (from alpaca-trade-api) (1.0.2)\n",
            "Requirement already satisfied: deprecation==2.1.0 in /usr/local/lib/python3.7/dist-packages (from alpaca-trade-api) (2.1.0)\n",
            "Requirement already satisfied: numpy>=1.11.1 in /usr/local/lib/python3.7/dist-packages (from alpaca-trade-api) (1.19.5)\n",
            "Requirement already satisfied: yarl<2.0,>=1.0 in /usr/local/lib/python3.7/dist-packages (from aiohttp==3.7.4->alpaca-trade-api) (1.7.2)\n",
            "Requirement already satisfied: multidict<7.0,>=4.5 in /usr/local/lib/python3.7/dist-packages (from aiohttp==3.7.4->alpaca-trade-api) (6.0.2)\n",
            "Requirement already satisfied: chardet<4.0,>=2.0 in /usr/local/lib/python3.7/dist-packages (from aiohttp==3.7.4->alpaca-trade-api) (3.0.4)\n",
            "Requirement already satisfied: async-timeout<4.0,>=3.0 in /usr/local/lib/python3.7/dist-packages (from aiohttp==3.7.4->alpaca-trade-api) (3.0.1)\n",
            "Requirement already satisfied: typing-extensions>=3.6.5 in /usr/local/lib/python3.7/dist-packages (from aiohttp==3.7.4->alpaca-trade-api) (3.10.0.2)\n",
            "Requirement already satisfied: attrs>=17.3.0 in /usr/local/lib/python3.7/dist-packages (from aiohttp==3.7.4->alpaca-trade-api) (21.4.0)\n",
            "Requirement already satisfied: packaging in /usr/local/lib/python3.7/dist-packages (from deprecation==2.1.0->alpaca-trade-api) (21.3)\n",
            "Requirement already satisfied: pytz>=2017.3 in /usr/local/lib/python3.7/dist-packages (from pandas>=0.18.1->alpaca-trade-api) (2018.9)\n",
            "Requirement already satisfied: python-dateutil>=2.7.3 in /usr/local/lib/python3.7/dist-packages (from pandas>=0.18.1->alpaca-trade-api) (2.8.2)\n",
            "Requirement already satisfied: six>=1.5 in /usr/local/lib/python3.7/dist-packages (from python-dateutil>=2.7.3->pandas>=0.18.1->alpaca-trade-api) (1.15.0)\n",
            "Requirement already satisfied: idna<3,>=2.5 in /usr/local/lib/python3.7/dist-packages (from requests<3,>2->alpaca-trade-api) (2.10)\n",
            "Requirement already satisfied: certifi>=2017.4.17 in /usr/local/lib/python3.7/dist-packages (from requests<3,>2->alpaca-trade-api) (2021.10.8)\n",
            "Requirement already satisfied: pyparsing!=3.0.5,>=2.0.2 in /usr/local/lib/python3.7/dist-packages (from packaging->deprecation==2.1.0->alpaca-trade-api) (3.0.7)\n"
          ]
        }
      ]
    },
    {
      "cell_type": "code",
      "source": [
        "#Import Libreris\n",
        "import websocket \n",
        "import json\n",
        "from datetime import datetime\n",
        "import pandas as pd\n",
        "import numpy as np\n",
        "from IPython.core.display import JSON"
      ],
      "metadata": {
        "id": "Z4igCy2lkAC6"
      },
      "execution_count": 105,
      "outputs": []
    },
    {
      "cell_type": "code",
      "source": [
        "#Map Google drive\n",
        "from google.colab import drive\n",
        "drive.mount('/content/drive',force_remount=True)"
      ],
      "metadata": {
        "colab": {
          "base_uri": "https://localhost:8080/"
        },
        "id": "K5zJCBjgj-oe",
        "outputId": "5200f357-128c-4d48-f9fc-9a3f78cf6d24"
      },
      "execution_count": 106,
      "outputs": [
        {
          "output_type": "stream",
          "name": "stdout",
          "text": [
            "Mounted at /content/drive\n"
          ]
        }
      ]
    },
    {
      "cell_type": "code",
      "source": [
        "ticket_interested = (input('Enter The Stock yo wanted to autotrade')).upper()\n",
        "print(ticket_interested+ ' Will be autotraded now!! Sitback and enjoy your day!!')\n",
        "\n",
        "listen_message='{\"action\":\"subscribe\",\"bars\":[\"'+ticket_interested+'\"]}'\n",
        "print(listen_message)"
      ],
      "metadata": {
        "colab": {
          "base_uri": "https://localhost:8080/"
        },
        "id": "uxRwhHBo7cws",
        "outputId": "9090269c-c7cf-4e19-b0cb-4efb6f559649"
      },
      "execution_count": 107,
      "outputs": [
        {
          "output_type": "stream",
          "name": "stdout",
          "text": [
            "Enter The Stock yo wanted to autotradeAAPL\n",
            "AAPL Will be autotraded now!! Sitback and enjoy your day!!\n",
            "{\"action\":\"subscribe\",\"bars\":[\"AAPL\"]}\n"
          ]
        }
      ]
    },
    {
      "cell_type": "code",
      "source": [
        "#Import Credentials. Kept the credential in the file Cred.py under the dir below for security.\n",
        "import sys\n",
        "import os\n",
        "import glob\n",
        "print(glob.glob(\"/content/drive/*\"))\n",
        "os.chdir('/content/drive//MyDrive/AlpecaTrading/Config')\n",
        "#sys.path.append('/content/drive/AlpecaTrading/Config')\n",
        "print(os.getcwd())\n",
        "from  Cred import *\n",
        "print(API_KEY)\n",
        "print(SECRET_KEY)"
      ],
      "metadata": {
        "colab": {
          "base_uri": "https://localhost:8080/"
        },
        "id": "3He2V_PtmD25",
        "outputId": "f3b05b91-d0af-411a-b00e-0c106f1463d5"
      },
      "execution_count": 108,
      "outputs": [
        {
          "output_type": "stream",
          "name": "stdout",
          "text": [
            "['/content/drive/MyDrive']\n",
            "/content/drive/MyDrive/AlpecaTrading/Config\n",
            "PKENE1R5LIQR1J3778D0\n",
            "nT8XMPHULWGvTu4jnDJc6UMK2tSyUAc2YS7npTNV\n"
          ]
        }
      ]
    },
    {
      "cell_type": "code",
      "source": [
        "####################TestCode To check the trading api9SDK working )#########################################\n",
        "import alpaca_trade_api as tradeapi\n",
        "paper_market='https://paper-api.alpaca.markets'\n",
        "api = tradeapi.REST(key_id=API_KEY,secret_key=SECRET_KEY,base_url=paper_market)\n",
        "acc=api.get_account()\n",
        "acc"
      ],
      "metadata": {
        "colab": {
          "base_uri": "https://localhost:8080/"
        },
        "id": "nnk2OpAD7cMY",
        "outputId": "df64069d-d4b7-4a59-fd9a-3d73fbf7a82a"
      },
      "execution_count": 109,
      "outputs": [
        {
          "output_type": "execute_result",
          "data": {
            "text/plain": [
              "Account({   'account_blocked': False,\n",
              "    'account_number': 'PA3WFYAGY0TD',\n",
              "    'accrued_fees': '0',\n",
              "    'buying_power': '199380.86',\n",
              "    'cash': '99377.33',\n",
              "    'created_at': '2022-02-04T18:16:52.455679Z',\n",
              "    'crypto_status': 'ACTIVE',\n",
              "    'currency': 'USD',\n",
              "    'daytrade_count': 0,\n",
              "    'daytrading_buying_power': '0',\n",
              "    'equity': '100003.53',\n",
              "    'id': '818445eb-79e9-4861-86b3-ce3418a541cc',\n",
              "    'initial_margin': '313.1',\n",
              "    'last_equity': '100000',\n",
              "    'last_maintenance_margin': '0',\n",
              "    'long_market_value': '626.2',\n",
              "    'maintenance_margin': '187.86',\n",
              "    'multiplier': '2',\n",
              "    'non_marginable_buying_power': '99377.33',\n",
              "    'pattern_day_trader': False,\n",
              "    'pending_transfer_in': '0',\n",
              "    'portfolio_value': '100003.53',\n",
              "    'regt_buying_power': '199380.86',\n",
              "    'short_market_value': '0',\n",
              "    'shorting_enabled': True,\n",
              "    'sma': '0',\n",
              "    'status': 'ACTIVE',\n",
              "    'trade_suspended_by_user': False,\n",
              "    'trading_blocked': False,\n",
              "    'transfers_blocked': False})"
            ]
          },
          "metadata": {},
          "execution_count": 109
        }
      ]
    },
    {
      "cell_type": "code",
      "source": [
        "position=json.loads(str(api.get_position(ticket_interested)).split('(')[1].split(')')[0].replace('\\n','').replace(\"'\",'\"').replace('False','\"F\"').replace('True','\"T\"'))['qty']\n",
        "if int(position) >= 1:\n",
        "  print('Selling')\n",
        "else:\n",
        "  print('Buying')"
      ],
      "metadata": {
        "colab": {
          "base_uri": "https://localhost:8080/"
        },
        "id": "sTBHs0MuZRTq",
        "outputId": "3aff6202-7c03-4fb5-c5fe-177e0e3a093d"
      },
      "execution_count": 110,
      "outputs": [
        {
          "output_type": "stream",
          "name": "stdout",
          "text": [
            "Selling\n"
          ]
        }
      ]
    },
    {
      "cell_type": "code",
      "source": [
        "st=str(acc).split('(')[1].split(')')[0].replace('\\n','').replace(\"'\",'\"').replace('False','\"F\"').replace('True','\"T\"')\n"
      ],
      "metadata": {
        "id": "cuB5poaiQxe5"
      },
      "execution_count": 111,
      "outputs": []
    },
    {
      "cell_type": "code",
      "source": [
        "res = json.loads(st)\n",
        "res\n"
      ],
      "metadata": {
        "colab": {
          "base_uri": "https://localhost:8080/"
        },
        "id": "R_VEHeJKXWZm",
        "outputId": "6c1a57fd-bd27-4fa2-acb5-b2e3d9b34a03"
      },
      "execution_count": 112,
      "outputs": [
        {
          "output_type": "execute_result",
          "data": {
            "text/plain": [
              "{'account_blocked': 'F',\n",
              " 'account_number': 'PA3WFYAGY0TD',\n",
              " 'accrued_fees': '0',\n",
              " 'buying_power': '199380.86',\n",
              " 'cash': '99377.33',\n",
              " 'created_at': '2022-02-04T18:16:52.455679Z',\n",
              " 'crypto_status': 'ACTIVE',\n",
              " 'currency': 'USD',\n",
              " 'daytrade_count': 0,\n",
              " 'daytrading_buying_power': '0',\n",
              " 'equity': '100003.53',\n",
              " 'id': '818445eb-79e9-4861-86b3-ce3418a541cc',\n",
              " 'initial_margin': '313.1',\n",
              " 'last_equity': '100000',\n",
              " 'last_maintenance_margin': '0',\n",
              " 'long_market_value': '626.2',\n",
              " 'maintenance_margin': '187.86',\n",
              " 'multiplier': '2',\n",
              " 'non_marginable_buying_power': '99377.33',\n",
              " 'pattern_day_trader': 'F',\n",
              " 'pending_transfer_in': '0',\n",
              " 'portfolio_value': '100003.53',\n",
              " 'regt_buying_power': '199380.86',\n",
              " 'short_market_value': '0',\n",
              " 'shorting_enabled': 'T',\n",
              " 'sma': '0',\n",
              " 'status': 'ACTIVE',\n",
              " 'trade_suspended_by_user': 'F',\n",
              " 'trading_blocked': 'F',\n",
              " 'transfers_blocked': 'F'}"
            ]
          },
          "metadata": {},
          "execution_count": 112
        }
      ]
    },
    {
      "cell_type": "code",
      "source": [
        "api.submit_order(\n",
        "    symbol=ticket_interested,\n",
        "    qty=1,  # fractional shares\n",
        "    side='buy',\n",
        "    type='market',\n",
        "    time_in_force='day',\n",
        ")"
      ],
      "metadata": {
        "colab": {
          "base_uri": "https://localhost:8080/"
        },
        "id": "xLO5uzkW8s2B",
        "outputId": "9ac4906e-6057-42fb-fc95-7c2b1f16ab8c"
      },
      "execution_count": 11,
      "outputs": [
        {
          "output_type": "execute_result",
          "data": {
            "text/plain": [
              "Order({   'asset_class': 'us_equity',\n",
              "    'asset_id': 'b0b6dd9d-8b9b-48a9-ba46-b9d54906e415',\n",
              "    'canceled_at': None,\n",
              "    'client_order_id': 'b63b9248-69ef-463e-9251-7bf34cd3fae2',\n",
              "    'created_at': '2022-02-04T18:30:59.202339935Z',\n",
              "    'expired_at': None,\n",
              "    'extended_hours': False,\n",
              "    'failed_at': None,\n",
              "    'filled_at': None,\n",
              "    'filled_avg_price': None,\n",
              "    'filled_qty': '0',\n",
              "    'hwm': None,\n",
              "    'id': 'e97bb779-46e8-4c2c-96a9-4e21b17d427c',\n",
              "    'legs': None,\n",
              "    'limit_price': None,\n",
              "    'notional': None,\n",
              "    'order_class': '',\n",
              "    'order_type': 'market',\n",
              "    'qty': '1',\n",
              "    'replaced_at': None,\n",
              "    'replaced_by': None,\n",
              "    'replaces': None,\n",
              "    'side': 'buy',\n",
              "    'status': 'accepted',\n",
              "    'stop_price': None,\n",
              "    'submitted_at': '2022-02-04T18:30:59.199896105Z',\n",
              "    'symbol': 'AAPL',\n",
              "    'time_in_force': 'day',\n",
              "    'trail_percent': None,\n",
              "    'trail_price': None,\n",
              "    'type': 'market',\n",
              "    'updated_at': '2022-02-04T18:30:59.202339935Z'})"
            ]
          },
          "metadata": {},
          "execution_count": 11
        }
      ]
    },
    {
      "cell_type": "code",
      "source": [
        "type(api.get_position(ticket_interested))"
      ],
      "metadata": {
        "colab": {
          "base_uri": "https://localhost:8080/"
        },
        "id": "q3PjpHvzAhS5",
        "outputId": "e3698e94-60ed-40c8-e108-56f8f28f3cb8"
      },
      "execution_count": 27,
      "outputs": [
        {
          "output_type": "execute_result",
          "data": {
            "text/plain": [
              "alpaca_trade_api.entity.Position"
            ]
          },
          "metadata": {},
          "execution_count": 27
        }
      ]
    },
    {
      "cell_type": "code",
      "source": [
        "#Websocket Code\n",
        "socket = \"wss://stream.data.alpaca.markets/v2/sip\" #Webscoket given by alpeca for \n",
        "#socket = \"wss://paper-api.alpaca.markets/stream\" #Webscoket given by alpeca for \n",
        "#socket = \"wss://stream.data.alpaca.markets/v1beta1/crypto\"\n",
        "\n",
        "print(socket.split('/')[-1])\n",
        "\n",
        "def on_ope_fun(ws):\n",
        "    print(\"Opened\")\n",
        "    auth_data = {\"action\": \"auth\",\"key\": API_KEY,\"secret\": SECRET_KEY }  #Key and Secret getting from the Cred file. \n",
        "    ws.send(json.dumps(auth_data))\n",
        "    #listen_message={\"action\":\"subscribe\",\"trades\":[\"BTCUSD\"],\"quotes\":[\"LTCUSD\",\"ETHUSD\"],\"bars\":[\"BCHUSD\"]}\n",
        "    #listen_message={\"action\":\"subscribe\",\"trades\":[\"BTCUSD\"]}\n",
        "    #listen_message={\"action\":\"subscribe\",\"bars\":[\"BTCUSD\"]}\n",
        "    listen_message='{\"action\":\"subscribe\",\"bars\":[\"'+ticket_interested+'\"]}'\n",
        "    print(listen_message)\n",
        "    #listen_message={\"action\":\"subscribe\",\"bars\":[\"AAPL\"]}  ### --> Modify based on whatever symbol you want to check\n",
        "    ws.send(json.dumps(json.loads(listen_message)))\n",
        "\n",
        "\n",
        "    print('Still Open')\n",
        "\n",
        "def on_msg_fun(ws,message):\n",
        "    now = datetime.now()\n",
        "    current_time = now.strftime(\"%H:%M:%S\")\n",
        "    print(\"messgae received at\"+ current_time)\n",
        "    print(message)\n",
        "    print('Strated wring to the steam file')\n",
        "    trade_ema_9_21(message)\n",
        "    print('Wrttin  steam file')\n",
        "\n",
        "def on_clg_fun(ws):\n",
        "    print(\"Closed\")"
      ],
      "metadata": {
        "colab": {
          "base_uri": "https://localhost:8080/"
        },
        "id": "zz4nsJfOtDp0",
        "outputId": "fb749a2b-b88e-401e-d54c-103d908326a0"
      },
      "execution_count": 113,
      "outputs": [
        {
          "output_type": "stream",
          "name": "stdout",
          "text": [
            "sip\n"
          ]
        }
      ]
    },
    {
      "cell_type": "code",
      "source": [
        ""
      ],
      "metadata": {
        "colab": {
          "base_uri": "https://localhost:8080/"
        },
        "id": "0Vly0E9uNHGt",
        "outputId": "acd044e6-44c6-4239-8c11-35e9fef98e45"
      },
      "execution_count": 49,
      "outputs": [
        {
          "output_type": "stream",
          "name": "stdout",
          "text": [
            "/content/drive//MyDrive/AlpecaTrading/DataFiles/StreamFiles/AAPL.csv\n"
          ]
        }
      ]
    },
    {
      "cell_type": "code",
      "source": [
        "#Trading Process \n",
        "def trade_ema_9_21(message):\n",
        "  try:\n",
        "    \n",
        "\n",
        "    #######################Create a file which will hold the stream data based on the ticker name ########################################################\n",
        "    messageJson = json.loads(message)\n",
        "    df = pd.DataFrame(messageJson)\n",
        "    df.to_csv('/content/drive//MyDrive/AlpecaTrading/DataFiles/StreamFiles/{}.csv'.format(ticket_interested),mode='a', index=False, header=False)\n",
        "\n",
        "\n",
        "\n",
        "    with open('/content/drive//MyDrive/AlpecaTrading/DataFiles/StreamFiles/{}.csv'.format(ticket_interested), 'r') as fp:\n",
        "      for count, line in enumerate(fp):\n",
        "        pass\n",
        "      total_lines =count+1\n",
        "\n",
        "    print('Total Lines'+str(total_lines))\n",
        "\n",
        "\n",
        "    if total_lines > 3:\n",
        "      print('Calucation Started')\n",
        "\n",
        "      if (socket.split('/')[-1] == 'sip'):\n",
        "\n",
        "        #####################read the file for next set of operations#########################################################################################\n",
        "        df = pd.read_csv('/content/drive//MyDrive/AlpecaTrading/DataFiles/StreamFiles/{}.csv'.format(ticket_interested),skiprows=3,index_col=False)\n",
        "        df.columns =['Message Type', \n",
        "                'Symbol', \n",
        "                'Open', \n",
        "                'Close',\n",
        "                'High',\n",
        "                'Low',\n",
        "                'Volume',\n",
        "                'TimeStamp',\n",
        "                'n',\n",
        "                'vw']\n",
        "\n",
        "      if (socket.split('/')[-1] == 'crypto'):\n",
        "\n",
        "\n",
        "        #####################read the file for next set of operations#########################################################################################\n",
        "        df = pd.read_csv('/content/drive//MyDrive/AlpecaTrading/DataFiles/StreamFiles/{}.csv'.format(ticket_interested),skiprows=3,index_col=False)\n",
        "        df.columns =['Message Type', \n",
        "                'Symbol', \n",
        "                'Exchange', \n",
        "                'Open', \n",
        "                'Close',\n",
        "                'High',\n",
        "                'Low',\n",
        "                'Volume',\n",
        "                'TimeStamp',\n",
        "                'n',\n",
        "                'vw']\n",
        "\n",
        "    if total_lines > 3:      \n",
        "\n",
        "      # print(df)\n",
        "      df_unique=df.drop_duplicates(subset=['TimeStamp']).copy()\n",
        "      #print(df_unique.info())\n",
        "      df_unique.loc[:,'TimeStamp'] = pd.to_datetime(df_unique['TimeStamp'],format='%Y-%m-%dT%H:%M:%SZ')\n",
        "      #print(df_unique.info())\n",
        "      df_unique.set_index('TimeStamp',inplace=True)      #print(df_unique)\n",
        "\n",
        "\n",
        "      print('Total Lines in the unique file :'+ str(len(df_unique.index)))\n",
        "      #print(df_unique)\n",
        "      #print(df_unique)\n",
        "\n",
        "      #####################Get the Exp Moving average for 9 and 21 minutes in the closed bar value##########################################################\n",
        "      if(len(df_unique.index) > 5 ):\n",
        "        print('------------------ 5 unique index----------------------') #process will start 1ith 21 points \n",
        "\n",
        "\n",
        "        df_unique['9minEMAClosed']  = df_unique['Close'].ewm(span=9,adjust=True).mean()\n",
        "        df_unique['21minEMAClosed'] = df_unique['Close'].ewm(span=21,adjust=True).mean()\n",
        "        print(df_unique[['Symbol','Close','9minEMAClosed','21minEMAClosed']])\n",
        "\n",
        "        ###Write the file to tarck the EMA data .. Can plot using this data\n",
        "        df_unique[['Symbol','Close','9minEMAClosed','21minEMAClosed']].to_csv('/content/drive//MyDrive/AlpecaTrading/DataFiles/EmaFiles/{}EMA.csv'.format(ticket_interested),mode='a', index=True, header=True)\n",
        "        #df_unique[['Close','9minEMAClosed','21minEMAClosed']].plot(kind='line',figsize=(16,6))\n",
        "        if ( (df_unique.iloc[-1,3] > df_unique.iloc[-1,9]) and (df_unique.iloc[-1,9] > df_unique.iloc[-1,10]) ):\n",
        "          print('-----------Buying-------------')## Buy one\n",
        "        elif((df_unique.iloc[-1,3] < df_unique.iloc[-1,9]) and (df_unique.iloc[-1,10] > df_unique.iloc[-1,9]) ):\n",
        "          print('-----------Selling------------')## Sell everything\n",
        "        else :\n",
        "          print('-----------stiing and wating to buy or sell------------')## Doing nothing\n",
        "\n",
        "\n",
        "\n",
        "\n",
        "\n",
        "        # api.submit_order(\n",
        "        #     symbol='SPY',\n",
        "        #     qty=1.5,  # fractional shares\n",
        "        #     side='buy',\n",
        "        #     type='market',\n",
        "        #     time_in_force='day',\n",
        "        #     )\n",
        "\n",
        "\n",
        "\n",
        "\n",
        "\n",
        "# #####################Get the Exp Moving average for 9 and 21 minutes in the closed bar value##########################################################\n",
        "    # if(len(df.index) > 21 ):\n",
        "    #   df_unique['9minEMAClosed']  = df_unique['Close'].ewm(span=9,adjust=True).mean()\n",
        "    #   df_unique['21minEMAClosed'] = df_unique['Close'].ewm(span=21,adjust=True).mean()\n",
        "\n",
        "    #   print(df_unique[['9minEMAClosed','21minEMAClosed']])\n",
        "\n",
        "\n",
        "    #   print('Calculation started as 21 data points avelable')\n",
        "    \n",
        "    # else:\n",
        "    #   print('Wating for 21 data points ')\n",
        "\n",
        "\n",
        "\n",
        "\n",
        "\n",
        "    # #####################read the file for next set of operations#########################################################################################\n",
        "    # df = pd.read_csv('/content/drive//MyDrive/AlpecaTrading/DataFiles/StreamFiles/{}.csv',skiprows=3,index_col=False)\n",
        "    # df.columns =['Message Type', \n",
        "    #          'Symbol', \n",
        "    #          'Open', \n",
        "    #          'Close',\n",
        "    #          'High',\n",
        "    #          'Low',\n",
        "    #          'Volume',\n",
        "    #          'TimeStamp',\n",
        "    #          'n',\n",
        "    #          'vw']\n",
        "    # #print(df)\n",
        "    # df_unique=df.drop_duplicates(subset=['TimeStamp']).copy()\n",
        "    # #print(df_unique.info())\n",
        "    # df_unique.loc[:,'TimeStamp'] = pd.to_datetime(df_unique['TimeStamp'],format='%Y-%m-%dT%H:%M:%SZ')\n",
        "    # #print(df_unique.info())\n",
        "    # df_unique.set_index('TimeStamp',inplace=True)\n",
        "    # #print(df_unique)\n",
        "\n",
        "\n",
        "\n",
        "    # #####################Get the Exp Moving average for 9 and 21 minutes in the closed bar value##########################################################\n",
        "    # if(len(df.index) > 21 ):\n",
        "    #   df_unique['9minEMAClosed']  = df_unique['Close'].ewm(span=9,adjust=True).mean()\n",
        "    #   df_unique['21minEMAClosed'] = df_unique['Close'].ewm(span=21,adjust=True).mean()\n",
        "\n",
        "    #   print(df_unique[['9minEMAClosed','21minEMAClosed']])\n",
        "\n",
        "\n",
        "    #   print('Calculation started as 21 data points avelable')\n",
        "    \n",
        "    # else:\n",
        "    #   print('Wating for 21 data points ')\n",
        "\n",
        "\n",
        "\n",
        "\n",
        "  except Exception as ex:\n",
        "    print(ex)\n",
        "\n",
        "    \n",
        "\n"
      ],
      "metadata": {
        "id": "g1r_TT8PKE_h"
      },
      "execution_count": 168,
      "outputs": []
    },
    {
      "cell_type": "code",
      "source": [
        "ws = websocket.WebSocketApp(socket, on_open=on_ope_fun,on_message=on_msg_fun)\n",
        "ws.run_forever()"
      ],
      "metadata": {
        "colab": {
          "base_uri": "https://localhost:8080/"
        },
        "id": "RRku8OxPiajQ",
        "outputId": "a1a55baa-0d17-45d7-9c2f-526651d0102d"
      },
      "execution_count": 169,
      "outputs": [
        {
          "output_type": "stream",
          "name": "stdout",
          "text": [
            "Opened\n",
            "{\"action\":\"subscribe\",\"bars\":[\"AAPL\"]}\n",
            "Still Open\n",
            "messgae received at21:23:21\n",
            "[{\"T\":\"success\",\"msg\":\"connected\"}]\n",
            "Strated wring to the steam file\n",
            "Total Lines1\n",
            "Wrttin  steam file\n",
            "messgae received at21:23:22\n",
            "[{\"T\":\"success\",\"msg\":\"authenticated\"}]\n",
            "Strated wring to the steam file\n",
            "Total Lines2\n",
            "Wrttin  steam file\n",
            "messgae received at21:23:22\n",
            "[{\"T\":\"subscription\",\"trades\":[],\"quotes\":[],\"bars\":[\"AAPL\"],\"dailyBars\":[],\"statuses\":[],\"lulds\":[],\"corrections\":[],\"cancelErrors\":[]}]\n",
            "Strated wring to the steam file\n",
            "Total Lines3\n",
            "Wrttin  steam file\n",
            "messgae received at21:24:00\n",
            "[{\"T\":\"b\",\"S\":\"AAPL\",\"o\":172.5,\"c\":172.5,\"h\":172.53,\"l\":172.49,\"v\":11523,\"t\":\"2022-02-04T21:23:00Z\",\"n\":84,\"vw\":172.508254}]\n",
            "Strated wring to the steam file\n",
            "Total Lines4\n",
            "Calucation Started\n",
            "Total Lines in the unique file :0\n",
            "Wrttin  steam file\n",
            "messgae received at21:25:00\n",
            "[{\"T\":\"b\",\"S\":\"AAPL\",\"o\":172.5,\"c\":172.5,\"h\":172.5,\"l\":172.5,\"v\":4986,\"t\":\"2022-02-04T21:24:00Z\",\"n\":43,\"vw\":172.499672}]\n",
            "Strated wring to the steam file\n",
            "Total Lines5\n",
            "Calucation Started\n",
            "Total Lines in the unique file :1\n",
            "Wrttin  steam file\n",
            "messgae received at21:26:00\n",
            "[{\"T\":\"b\",\"S\":\"AAPL\",\"o\":172.5,\"c\":172.47,\"h\":172.5,\"l\":172.47,\"v\":27738,\"t\":\"2022-02-04T21:25:00Z\",\"n\":56,\"vw\":172.471495}]\n",
            "Strated wring to the steam file\n",
            "Total Lines6\n",
            "Calucation Started\n",
            "Total Lines in the unique file :2\n",
            "Wrttin  steam file\n",
            "messgae received at21:27:00\n",
            "[{\"T\":\"b\",\"S\":\"AAPL\",\"o\":172.46,\"c\":172.48,\"h\":172.49,\"l\":172.45,\"v\":4184,\"t\":\"2022-02-04T21:26:00Z\",\"n\":45,\"vw\":172.463893}]\n",
            "Strated wring to the steam file\n",
            "Total Lines7\n",
            "Calucation Started\n",
            "Total Lines in the unique file :3\n",
            "Wrttin  steam file\n",
            "messgae received at21:28:00\n",
            "[{\"T\":\"b\",\"S\":\"AAPL\",\"o\":172.5,\"c\":172.51,\"h\":172.54,\"l\":172.48,\"v\":4572,\"t\":\"2022-02-04T21:27:00Z\",\"n\":42,\"vw\":172.506119}]\n",
            "Strated wring to the steam file\n",
            "Total Lines8\n",
            "Calucation Started\n",
            "Total Lines in the unique file :4\n",
            "Wrttin  steam file\n",
            "messgae received at21:29:00\n",
            "[{\"T\":\"b\",\"S\":\"AAPL\",\"o\":172.51,\"c\":172.48,\"h\":172.51,\"l\":172.48,\"v\":1639,\"t\":\"2022-02-04T21:28:00Z\",\"n\":25,\"vw\":172.486553}]\n",
            "Strated wring to the steam file\n",
            "Total Lines9\n",
            "Calucation Started\n",
            "Total Lines in the unique file :5\n",
            "Wrttin  steam file\n",
            "messgae received at21:30:00\n",
            "[{\"T\":\"b\",\"S\":\"AAPL\",\"o\":172.48,\"c\":172.48,\"h\":172.4801,\"l\":172.48,\"v\":8875,\"t\":\"2022-02-04T21:29:00Z\",\"n\":48,\"vw\":172.480381}]\n",
            "Strated wring to the steam file\n",
            "Total Lines10\n",
            "Calucation Started\n",
            "Total Lines in the unique file :6\n",
            "------------------ 5 unique index----------------------\n",
            "                    Symbol   Close  9minEMAClosed  21minEMAClosed\n",
            "TimeStamp                                                        \n",
            "2022-02-04 21:24:00   AAPL  172.50     172.500000      172.500000\n",
            "2022-02-04 21:25:00   AAPL  172.47     172.483333      172.484286\n",
            "2022-02-04 21:26:00   AAPL  172.48     172.481967      172.482719\n",
            "2022-02-04 21:27:00   AAPL  172.51     172.491463      172.490543\n",
            "2022-02-04 21:28:00   AAPL  172.48     172.488053      172.488015\n",
            "2022-02-04 21:29:00   AAPL  172.48     172.485870      172.486342\n",
            "-----------Selling------------\n",
            "Wrttin  steam file\n",
            "messgae received at21:31:00\n",
            "[{\"T\":\"b\",\"S\":\"AAPL\",\"o\":172.48,\"c\":172.48,\"h\":172.49,\"l\":172.46,\"v\":13737,\"t\":\"2022-02-04T21:30:00Z\",\"n\":52,\"vw\":172.479962}]\n",
            "Strated wring to the steam file\n",
            "Total Lines11\n",
            "Calucation Started\n",
            "Total Lines in the unique file :7\n",
            "------------------ 5 unique index----------------------\n",
            "                    Symbol   Close  9minEMAClosed  21minEMAClosed\n",
            "TimeStamp                                                        \n",
            "2022-02-04 21:24:00   AAPL  172.50     172.500000      172.500000\n",
            "2022-02-04 21:25:00   AAPL  172.47     172.483333      172.484286\n",
            "2022-02-04 21:26:00   AAPL  172.48     172.481967      172.482719\n",
            "2022-02-04 21:27:00   AAPL  172.51     172.491463      172.490543\n",
            "2022-02-04 21:28:00   AAPL  172.48     172.488053      172.488015\n",
            "2022-02-04 21:29:00   AAPL  172.48     172.485870      172.486342\n",
            "2022-02-04 21:30:00   AAPL  172.48     172.484385      172.485157\n",
            "-----------Selling------------\n",
            "Wrttin  steam file\n",
            "messgae received at21:32:00\n",
            "[{\"T\":\"b\",\"S\":\"AAPL\",\"o\":172.48,\"c\":172.45,\"h\":172.49,\"l\":172.39,\"v\":114098,\"t\":\"2022-02-04T21:31:00Z\",\"n\":100,\"vw\":172.398056}]\n",
            "Strated wring to the steam file\n",
            "Total Lines12\n",
            "Calucation Started\n",
            "Total Lines in the unique file :8\n",
            "------------------ 5 unique index----------------------\n",
            "                    Symbol   Close  9minEMAClosed  21minEMAClosed\n",
            "TimeStamp                                                        \n",
            "2022-02-04 21:24:00   AAPL  172.50     172.500000      172.500000\n",
            "2022-02-04 21:25:00   AAPL  172.47     172.483333      172.484286\n",
            "2022-02-04 21:26:00   AAPL  172.48     172.481967      172.482719\n",
            "2022-02-04 21:27:00   AAPL  172.51     172.491463      172.490543\n",
            "2022-02-04 21:28:00   AAPL  172.48     172.488053      172.488015\n",
            "2022-02-04 21:29:00   AAPL  172.48     172.485870      172.486342\n",
            "2022-02-04 21:30:00   AAPL  172.48     172.484385      172.485157\n",
            "2022-02-04 21:31:00   AAPL  172.45     172.476121      172.479167\n",
            "-----------Selling------------\n",
            "Wrttin  steam file\n"
          ]
        },
        {
          "output_type": "execute_result",
          "data": {
            "text/plain": [
              "False"
            ]
          },
          "metadata": {},
          "execution_count": 169
        }
      ]
    },
    {
      "cell_type": "markdown",
      "source": [
        "#----------------------------------Code End-----------------------------\n",
        "###All Below this is scratch pad for tesing "
      ],
      "metadata": {
        "id": "zOJ6SYQanaRm"
      }
    },
    {
      "cell_type": "code",
      "source": [
        "df = pd.read_csv('/content/drive//MyDrive/AlpecaTrading/DataFiles/StreamFiles/AAPL.csv'.format(ticket_interested),skiprows=3,index_col=False)\n",
        "df.columns =['Message Type', \n",
        "                'Symbol', \n",
        "                'Open', \n",
        "                'Close',\n",
        "                'High',\n",
        "                'Low',\n",
        "                'Volume',\n",
        "                'TimeStamp',\n",
        "                'n',\n",
        "                'vw']"
      ],
      "metadata": {
        "id": "hECIeptlekqL"
      },
      "execution_count": 122,
      "outputs": []
    },
    {
      "cell_type": "code",
      "source": [
        "'/content/drive//MyDrive/AlpecaTrading/DataFiles/StreamFiles/{}.csv'.format(ticket_interested),mode='a', index=False, header=False"
      ],
      "metadata": {
        "id": "LfUgaX-BmCjP"
      },
      "execution_count": null,
      "outputs": []
    },
    {
      "cell_type": "code",
      "source": [
        "      df_unique=df.drop_duplicates(subset=['TimeStamp']).copy()\n",
        "      #print(df_unique.info())\n",
        "      df_unique.loc[:,'TimeStamp'] = pd.to_datetime(df_unique['TimeStamp'],format='%Y-%m-%dT%H:%M:%SZ')\n",
        "      #print(df_unique.info())\n",
        "      df_unique.set_index('TimeStamp',inplace=True)      #print(df_unique)\n"
      ],
      "metadata": {
        "id": "9TbI0FdIe6XT"
      },
      "execution_count": 162,
      "outputs": []
    },
    {
      "cell_type": "code",
      "source": [
        "        df_unique['9minEMAClosed']  = df_unique['Close'].ewm(span=9,adjust=True).mean()\n",
        "        df_unique['21minEMAClosed'] = df_unique['Close'].ewm(span=21,adjust=True).mean()\n",
        "        print(df_unique[['Symbol','Close','9minEMAClosed','21minEMAClosed']])\n",
        "\n",
        "\n",
        "df_unique[['Symbol','Close','9minEMAClosed','21minEMAClosed']].to_csv('/content/drive//MyDrive/AlpecaTrading/DataFiles/EmaFiles/{}EMA.csv'.format(ticket_interested),mode='a', index=True, header=True)"
      ],
      "metadata": {
        "colab": {
          "base_uri": "https://localhost:8080/"
        },
        "id": "CEJ-GsjMmJSo",
        "outputId": "1ee308f9-e505-4571-abdd-8691d649635d"
      },
      "execution_count": 165,
      "outputs": [
        {
          "output_type": "stream",
          "name": "stdout",
          "text": [
            "                    Symbol     Close  9minEMAClosed  21minEMAClosed\n",
            "TimeStamp                                                          \n",
            "2022-02-04 20:34:00   AAPL  173.9600     173.960000      173.960000\n",
            "2022-02-04 20:35:00   AAPL  173.8150     173.879444      173.884048\n",
            "2022-02-04 20:36:00   AAPL  173.8850     173.881721      173.884396\n",
            "2022-02-04 20:37:00   AAPL  173.9420     173.902141      173.900916\n",
            "2022-02-04 20:38:00   AAPL  173.8300     173.880681      173.883909\n",
            "2022-02-04 20:39:00   AAPL  173.7300     173.839838      173.851783\n",
            "2022-02-04 20:40:00   AAPL  173.6359     173.788227      173.811471\n",
            "2022-02-04 20:41:00   AAPL  173.4300     173.702138      173.746467\n",
            "2022-02-04 20:42:00   AAPL  173.5250     173.661218      173.711507\n"
          ]
        }
      ]
    },
    {
      "cell_type": "code",
      "source": [
        "if(len(df_unique.index) > 5 ):\n",
        "  print('------------------ 5 unique index----------------------') #process will start 1ith 21 points \n",
        "  df_unique['9minEMAClosed']  = df_unique['Close'].ewm(span=9,adjust=True).mean()\n",
        "  df_unique['21minEMAClosed'] = df_unique['Close'].ewm(span=21,adjust=True).mean()\n",
        "  print(df_unique)\n",
        "  if ( df_unique.iloc[-1,3] > df_unique.iloc[-1,9]  ):\n",
        "    print('-----------Buying-------------')\n",
        "  else:\n",
        "    print('-----------Selling------------')\n",
        "\n",
        "\n",
        "\n",
        "        \n",
        "else:\n",
        "  print('-----------------less than 5 -------------------------')\n"
      ],
      "metadata": {
        "colab": {
          "base_uri": "https://localhost:8080/"
        },
        "id": "Rasn1zWbfE-T",
        "outputId": "4910b5cb-2dcc-4ec2-a69d-3c7ed56ed4d4"
      },
      "execution_count": 157,
      "outputs": [
        {
          "output_type": "stream",
          "name": "stdout",
          "text": [
            "------------------ 5 unique index----------------------\n",
            "                    Message Type Symbol  ...  9minEMAClosed  21minEMAClosed\n",
            "TimeStamp                                ...                               \n",
            "2022-02-04 20:34:00            b   AAPL  ...     173.960000      173.960000\n",
            "2022-02-04 20:35:00            b   AAPL  ...     173.879444      173.884048\n",
            "2022-02-04 20:36:00            b   AAPL  ...     173.881721      173.884396\n",
            "2022-02-04 20:37:00            b   AAPL  ...     173.902141      173.900916\n",
            "2022-02-04 20:38:00            b   AAPL  ...     173.880681      173.883909\n",
            "2022-02-04 20:39:00            b   AAPL  ...     173.839838      173.851783\n",
            "2022-02-04 20:40:00            b   AAPL  ...     173.788227      173.811471\n",
            "2022-02-04 20:41:00            b   AAPL  ...     173.702138      173.746467\n",
            "2022-02-04 20:42:00            b   AAPL  ...     173.661218      173.711507\n",
            "\n",
            "[9 rows x 11 columns]\n",
            "-----------Selling------------\n"
          ]
        }
      ]
    },
    {
      "cell_type": "code",
      "source": [
        "  # df_unique.iloc[-1] \n",
        "  if ( df_unique.iloc[-1,3] > df_unique.iloc[-1,9]  ):\n",
        "    print('-----------Buying-------------')\n",
        "  else:\n",
        "    print('-----------Selling------------')"
      ],
      "metadata": {
        "colab": {
          "base_uri": "https://localhost:8080/"
        },
        "id": "4K2hJE-efzzi",
        "outputId": "f3d085eb-a052-4781-c769-388e89904d95"
      },
      "execution_count": 156,
      "outputs": [
        {
          "output_type": "stream",
          "name": "stdout",
          "text": [
            "-----------Selling------------\n"
          ]
        }
      ]
    },
    {
      "cell_type": "code",
      "source": [
        "df_unique.iloc[-1,10]"
      ],
      "metadata": {
        "colab": {
          "base_uri": "https://localhost:8080/"
        },
        "id": "CFHScgexgk1r",
        "outputId": "73697fc6-b7da-437a-c120-484d0a883661"
      },
      "execution_count": 153,
      "outputs": [
        {
          "output_type": "execute_result",
          "data": {
            "text/plain": [
              "173.7115071870725"
            ]
          },
          "metadata": {},
          "execution_count": 153
        }
      ]
    },
    {
      "cell_type": "code",
      "source": [
        "df_unique"
      ],
      "metadata": {
        "colab": {
          "base_uri": "https://localhost:8080/",
          "height": 363
        },
        "id": "IXzIy-E2e9RR",
        "outputId": "b0dfa2a3-d571-411c-cab9-cb15c877f746"
      },
      "execution_count": 124,
      "outputs": [
        {
          "output_type": "execute_result",
          "data": {
            "text/html": [
              "\n",
              "  <div id=\"df-bda1aea4-b40a-4a82-94ee-80304050de11\">\n",
              "    <div class=\"colab-df-container\">\n",
              "      <div>\n",
              "<style scoped>\n",
              "    .dataframe tbody tr th:only-of-type {\n",
              "        vertical-align: middle;\n",
              "    }\n",
              "\n",
              "    .dataframe tbody tr th {\n",
              "        vertical-align: top;\n",
              "    }\n",
              "\n",
              "    .dataframe thead th {\n",
              "        text-align: right;\n",
              "    }\n",
              "</style>\n",
              "<table border=\"1\" class=\"dataframe\">\n",
              "  <thead>\n",
              "    <tr style=\"text-align: right;\">\n",
              "      <th></th>\n",
              "      <th>Message Type</th>\n",
              "      <th>Symbol</th>\n",
              "      <th>Open</th>\n",
              "      <th>Close</th>\n",
              "      <th>High</th>\n",
              "      <th>Low</th>\n",
              "      <th>Volume</th>\n",
              "      <th>n</th>\n",
              "      <th>vw</th>\n",
              "    </tr>\n",
              "    <tr>\n",
              "      <th>TimeStamp</th>\n",
              "      <th></th>\n",
              "      <th></th>\n",
              "      <th></th>\n",
              "      <th></th>\n",
              "      <th></th>\n",
              "      <th></th>\n",
              "      <th></th>\n",
              "      <th></th>\n",
              "      <th></th>\n",
              "    </tr>\n",
              "  </thead>\n",
              "  <tbody>\n",
              "    <tr>\n",
              "      <th>2022-02-04 20:34:00</th>\n",
              "      <td>b</td>\n",
              "      <td>AAPL</td>\n",
              "      <td>173.9600</td>\n",
              "      <td>173.9600</td>\n",
              "      <td>174.055</td>\n",
              "      <td>173.890</td>\n",
              "      <td>156822</td>\n",
              "      <td>1657</td>\n",
              "      <td>173.974373</td>\n",
              "    </tr>\n",
              "    <tr>\n",
              "      <th>2022-02-04 20:35:00</th>\n",
              "      <td>b</td>\n",
              "      <td>AAPL</td>\n",
              "      <td>173.9600</td>\n",
              "      <td>173.8150</td>\n",
              "      <td>173.970</td>\n",
              "      <td>173.800</td>\n",
              "      <td>180827</td>\n",
              "      <td>1688</td>\n",
              "      <td>173.847236</td>\n",
              "    </tr>\n",
              "    <tr>\n",
              "      <th>2022-02-04 20:36:00</th>\n",
              "      <td>b</td>\n",
              "      <td>AAPL</td>\n",
              "      <td>173.8000</td>\n",
              "      <td>173.8850</td>\n",
              "      <td>173.970</td>\n",
              "      <td>173.770</td>\n",
              "      <td>193547</td>\n",
              "      <td>1945</td>\n",
              "      <td>173.864692</td>\n",
              "    </tr>\n",
              "    <tr>\n",
              "      <th>2022-02-04 20:37:00</th>\n",
              "      <td>b</td>\n",
              "      <td>AAPL</td>\n",
              "      <td>173.8900</td>\n",
              "      <td>173.9420</td>\n",
              "      <td>173.970</td>\n",
              "      <td>173.860</td>\n",
              "      <td>138235</td>\n",
              "      <td>1367</td>\n",
              "      <td>173.922554</td>\n",
              "    </tr>\n",
              "    <tr>\n",
              "      <th>2022-02-04 20:38:00</th>\n",
              "      <td>b</td>\n",
              "      <td>AAPL</td>\n",
              "      <td>173.9500</td>\n",
              "      <td>173.8300</td>\n",
              "      <td>174.000</td>\n",
              "      <td>173.750</td>\n",
              "      <td>176090</td>\n",
              "      <td>1904</td>\n",
              "      <td>173.898841</td>\n",
              "    </tr>\n",
              "    <tr>\n",
              "      <th>2022-02-04 20:39:00</th>\n",
              "      <td>b</td>\n",
              "      <td>AAPL</td>\n",
              "      <td>173.8308</td>\n",
              "      <td>173.7300</td>\n",
              "      <td>173.835</td>\n",
              "      <td>173.700</td>\n",
              "      <td>155259</td>\n",
              "      <td>1571</td>\n",
              "      <td>173.758775</td>\n",
              "    </tr>\n",
              "    <tr>\n",
              "      <th>2022-02-04 20:40:00</th>\n",
              "      <td>b</td>\n",
              "      <td>AAPL</td>\n",
              "      <td>173.7300</td>\n",
              "      <td>173.6359</td>\n",
              "      <td>173.755</td>\n",
              "      <td>173.581</td>\n",
              "      <td>187127</td>\n",
              "      <td>1970</td>\n",
              "      <td>173.688963</td>\n",
              "    </tr>\n",
              "    <tr>\n",
              "      <th>2022-02-04 20:41:00</th>\n",
              "      <td>b</td>\n",
              "      <td>AAPL</td>\n",
              "      <td>173.6300</td>\n",
              "      <td>173.4300</td>\n",
              "      <td>173.640</td>\n",
              "      <td>173.370</td>\n",
              "      <td>259699</td>\n",
              "      <td>2115</td>\n",
              "      <td>173.476760</td>\n",
              "    </tr>\n",
              "    <tr>\n",
              "      <th>2022-02-04 20:42:00</th>\n",
              "      <td>b</td>\n",
              "      <td>AAPL</td>\n",
              "      <td>173.4300</td>\n",
              "      <td>173.5250</td>\n",
              "      <td>173.560</td>\n",
              "      <td>173.370</td>\n",
              "      <td>208693</td>\n",
              "      <td>1755</td>\n",
              "      <td>173.473676</td>\n",
              "    </tr>\n",
              "  </tbody>\n",
              "</table>\n",
              "</div>\n",
              "      <button class=\"colab-df-convert\" onclick=\"convertToInteractive('df-bda1aea4-b40a-4a82-94ee-80304050de11')\"\n",
              "              title=\"Convert this dataframe to an interactive table.\"\n",
              "              style=\"display:none;\">\n",
              "        \n",
              "  <svg xmlns=\"http://www.w3.org/2000/svg\" height=\"24px\"viewBox=\"0 0 24 24\"\n",
              "       width=\"24px\">\n",
              "    <path d=\"M0 0h24v24H0V0z\" fill=\"none\"/>\n",
              "    <path d=\"M18.56 5.44l.94 2.06.94-2.06 2.06-.94-2.06-.94-.94-2.06-.94 2.06-2.06.94zm-11 1L8.5 8.5l.94-2.06 2.06-.94-2.06-.94L8.5 2.5l-.94 2.06-2.06.94zm10 10l.94 2.06.94-2.06 2.06-.94-2.06-.94-.94-2.06-.94 2.06-2.06.94z\"/><path d=\"M17.41 7.96l-1.37-1.37c-.4-.4-.92-.59-1.43-.59-.52 0-1.04.2-1.43.59L10.3 9.45l-7.72 7.72c-.78.78-.78 2.05 0 2.83L4 21.41c.39.39.9.59 1.41.59.51 0 1.02-.2 1.41-.59l7.78-7.78 2.81-2.81c.8-.78.8-2.07 0-2.86zM5.41 20L4 18.59l7.72-7.72 1.47 1.35L5.41 20z\"/>\n",
              "  </svg>\n",
              "      </button>\n",
              "      \n",
              "  <style>\n",
              "    .colab-df-container {\n",
              "      display:flex;\n",
              "      flex-wrap:wrap;\n",
              "      gap: 12px;\n",
              "    }\n",
              "\n",
              "    .colab-df-convert {\n",
              "      background-color: #E8F0FE;\n",
              "      border: none;\n",
              "      border-radius: 50%;\n",
              "      cursor: pointer;\n",
              "      display: none;\n",
              "      fill: #1967D2;\n",
              "      height: 32px;\n",
              "      padding: 0 0 0 0;\n",
              "      width: 32px;\n",
              "    }\n",
              "\n",
              "    .colab-df-convert:hover {\n",
              "      background-color: #E2EBFA;\n",
              "      box-shadow: 0px 1px 2px rgba(60, 64, 67, 0.3), 0px 1px 3px 1px rgba(60, 64, 67, 0.15);\n",
              "      fill: #174EA6;\n",
              "    }\n",
              "\n",
              "    [theme=dark] .colab-df-convert {\n",
              "      background-color: #3B4455;\n",
              "      fill: #D2E3FC;\n",
              "    }\n",
              "\n",
              "    [theme=dark] .colab-df-convert:hover {\n",
              "      background-color: #434B5C;\n",
              "      box-shadow: 0px 1px 3px 1px rgba(0, 0, 0, 0.15);\n",
              "      filter: drop-shadow(0px 1px 2px rgba(0, 0, 0, 0.3));\n",
              "      fill: #FFFFFF;\n",
              "    }\n",
              "  </style>\n",
              "\n",
              "      <script>\n",
              "        const buttonEl =\n",
              "          document.querySelector('#df-bda1aea4-b40a-4a82-94ee-80304050de11 button.colab-df-convert');\n",
              "        buttonEl.style.display =\n",
              "          google.colab.kernel.accessAllowed ? 'block' : 'none';\n",
              "\n",
              "        async function convertToInteractive(key) {\n",
              "          const element = document.querySelector('#df-bda1aea4-b40a-4a82-94ee-80304050de11');\n",
              "          const dataTable =\n",
              "            await google.colab.kernel.invokeFunction('convertToInteractive',\n",
              "                                                     [key], {});\n",
              "          if (!dataTable) return;\n",
              "\n",
              "          const docLinkHtml = 'Like what you see? Visit the ' +\n",
              "            '<a target=\"_blank\" href=https://colab.research.google.com/notebooks/data_table.ipynb>data table notebook</a>'\n",
              "            + ' to learn more about interactive tables.';\n",
              "          element.innerHTML = '';\n",
              "          dataTable['output_type'] = 'display_data';\n",
              "          await google.colab.output.renderOutput(dataTable, element);\n",
              "          const docLink = document.createElement('div');\n",
              "          docLink.innerHTML = docLinkHtml;\n",
              "          element.appendChild(docLink);\n",
              "        }\n",
              "      </script>\n",
              "    </div>\n",
              "  </div>\n",
              "  "
            ],
            "text/plain": [
              "                    Message Type Symbol      Open  ...  Volume     n          vw\n",
              "TimeStamp                                          ...                          \n",
              "2022-02-04 20:34:00            b   AAPL  173.9600  ...  156822  1657  173.974373\n",
              "2022-02-04 20:35:00            b   AAPL  173.9600  ...  180827  1688  173.847236\n",
              "2022-02-04 20:36:00            b   AAPL  173.8000  ...  193547  1945  173.864692\n",
              "2022-02-04 20:37:00            b   AAPL  173.8900  ...  138235  1367  173.922554\n",
              "2022-02-04 20:38:00            b   AAPL  173.9500  ...  176090  1904  173.898841\n",
              "2022-02-04 20:39:00            b   AAPL  173.8308  ...  155259  1571  173.758775\n",
              "2022-02-04 20:40:00            b   AAPL  173.7300  ...  187127  1970  173.688963\n",
              "2022-02-04 20:41:00            b   AAPL  173.6300  ...  259699  2115  173.476760\n",
              "2022-02-04 20:42:00            b   AAPL  173.4300  ...  208693  1755  173.473676\n",
              "\n",
              "[9 rows x 9 columns]"
            ]
          },
          "metadata": {},
          "execution_count": 124
        }
      ]
    },
    {
      "cell_type": "code",
      "source": [
        "trade_ema_9_21('Test')\n"
      ],
      "metadata": {
        "colab": {
          "base_uri": "https://localhost:8080/"
        },
        "id": "GGGW2EeKQbTx",
        "outputId": "9fcb7531-6664-42ab-95ff-675723f1f19c"
      },
      "execution_count": 115,
      "outputs": [
        {
          "output_type": "stream",
          "name": "stdout",
          "text": [
            "Expecting value: line 1 column 1 (char 0)\n"
          ]
        }
      ]
    },
    {
      "cell_type": "code",
      "source": [
        "ws = websocket.WebSocketApp(socket, on_open=on_ope_fun,on_message=on_msg_fun)\n",
        "ws.run_forever()"
      ],
      "metadata": {
        "colab": {
          "base_uri": "https://localhost:8080/"
        },
        "id": "9_Jx8iJduO6T",
        "outputId": "84772c3d-a27e-4406-dd69-c5cd2c20c436"
      },
      "execution_count": 116,
      "outputs": [
        {
          "output_type": "stream",
          "name": "stdout",
          "text": [
            "Opened\n",
            "{\"action\":\"subscribe\",\"bars\":[\"AAPL\"]}\n",
            "Still Open\n",
            "messgae received at20:33:46\n",
            "[{\"T\":\"success\",\"msg\":\"connected\"}]\n",
            "Strated wring to the steam file\n",
            "Total Lines1\n",
            "Wrttin  steam file\n",
            "messgae received at20:33:47\n",
            "[{\"T\":\"success\",\"msg\":\"authenticated\"}]\n",
            "Strated wring to the steam file\n",
            "Total Lines2\n",
            "Wrttin  steam file\n",
            "messgae received at20:33:47\n",
            "[{\"T\":\"subscription\",\"trades\":[],\"quotes\":[],\"bars\":[\"AAPL\"],\"dailyBars\":[],\"statuses\":[],\"lulds\":[],\"corrections\":[],\"cancelErrors\":[]}]\n",
            "Strated wring to the steam file\n",
            "Total Lines3\n",
            "Wrttin  steam file\n",
            "messgae received at20:34:00\n",
            "[{\"T\":\"b\",\"S\":\"AAPL\",\"o\":173.81,\"c\":173.9699,\"h\":174.1,\"l\":173.81,\"v\":377468,\"t\":\"2022-02-04T20:33:00Z\",\"n\":3540,\"vw\":173.976803}]\n",
            "Strated wring to the steam file\n",
            "Total Lines4\n",
            "Calucation Started\n",
            "Total Lines in the unique file :0\n",
            "Wrttin  steam file\n",
            "messgae received at20:35:03\n",
            "[{\"T\":\"b\",\"S\":\"AAPL\",\"o\":173.96,\"c\":173.96,\"h\":174.055,\"l\":173.89,\"v\":156822,\"t\":\"2022-02-04T20:34:00Z\",\"n\":1657,\"vw\":173.974373}]\n",
            "Strated wring to the steam file\n",
            "Total Lines5\n",
            "Calucation Started\n",
            "Total Lines in the unique file :1\n",
            "Wrttin  steam file\n",
            "messgae received at20:36:00\n",
            "[{\"T\":\"b\",\"S\":\"AAPL\",\"o\":173.96,\"c\":173.815,\"h\":173.97,\"l\":173.8,\"v\":180827,\"t\":\"2022-02-04T20:35:00Z\",\"n\":1688,\"vw\":173.847236}]\n",
            "Strated wring to the steam file\n",
            "Total Lines6\n",
            "Calucation Started\n",
            "Total Lines in the unique file :2\n",
            "Wrttin  steam file\n",
            "messgae received at20:37:00\n",
            "[{\"T\":\"b\",\"S\":\"AAPL\",\"o\":173.8,\"c\":173.885,\"h\":173.97,\"l\":173.77,\"v\":193547,\"t\":\"2022-02-04T20:36:00Z\",\"n\":1945,\"vw\":173.864692}]\n",
            "Strated wring to the steam file\n",
            "Total Lines7\n",
            "Calucation Started\n",
            "Total Lines in the unique file :3\n",
            "Wrttin  steam file\n",
            "messgae received at20:38:00\n",
            "[{\"T\":\"b\",\"S\":\"AAPL\",\"o\":173.89,\"c\":173.942,\"h\":173.97,\"l\":173.86,\"v\":138235,\"t\":\"2022-02-04T20:37:00Z\",\"n\":1367,\"vw\":173.922554}]\n",
            "Strated wring to the steam file\n",
            "Total Lines8\n",
            "Calucation Started\n",
            "Total Lines in the unique file :4\n",
            "Wrttin  steam file\n",
            "messgae received at20:38:30\n",
            "[{\"T\":\"b\",\"S\":\"AAPL\",\"o\":173.89,\"c\":173.945,\"h\":173.97,\"l\":173.86,\"v\":138335,\"t\":\"2022-02-04T20:37:00Z\",\"n\":1368,\"vw\":173.922571}]\n",
            "Strated wring to the steam file\n",
            "Total Lines9\n",
            "Calucation Started\n",
            "Total Lines in the unique file :4\n",
            "Wrttin  steam file\n",
            "messgae received at20:39:00\n",
            "[{\"T\":\"b\",\"S\":\"AAPL\",\"o\":173.95,\"c\":173.83,\"h\":174,\"l\":173.75,\"v\":176090,\"t\":\"2022-02-04T20:38:00Z\",\"n\":1904,\"vw\":173.898841}]\n",
            "Strated wring to the steam file\n",
            "Total Lines10\n",
            "Calucation Started\n",
            "Total Lines in the unique file :5\n",
            "Wrttin  steam file\n",
            "messgae received at20:40:00\n",
            "[{\"T\":\"b\",\"S\":\"AAPL\",\"o\":173.8308,\"c\":173.73,\"h\":173.835,\"l\":173.7,\"v\":155259,\"t\":\"2022-02-04T20:39:00Z\",\"n\":1571,\"vw\":173.758775}]\n",
            "Strated wring to the steam file\n",
            "Total Lines11\n",
            "Calucation Started\n",
            "Total Lines in the unique file :6\n",
            "------------------ 5 unique index----------------------\n",
            "                       Close  9minEMAClosed  21minEMAClosed\n",
            "TimeStamp                                                  \n",
            "2022-02-04 20:34:00  173.960     173.960000      173.960000\n",
            "2022-02-04 20:35:00  173.815     173.879444      173.884048\n",
            "2022-02-04 20:36:00  173.885     173.881721      173.884396\n",
            "2022-02-04 20:37:00  173.942     173.902141      173.900916\n",
            "2022-02-04 20:38:00  173.830     173.880681      173.883909\n",
            "2022-02-04 20:39:00  173.730     173.839838      173.851783\n",
            "-1\n",
            "Wrttin  steam file\n",
            "messgae received at20:41:00\n",
            "[{\"T\":\"b\",\"S\":\"AAPL\",\"o\":173.73,\"c\":173.6359,\"h\":173.755,\"l\":173.581,\"v\":187127,\"t\":\"2022-02-04T20:40:00Z\",\"n\":1970,\"vw\":173.688963}]\n",
            "Strated wring to the steam file\n",
            "Total Lines12\n",
            "Calucation Started\n",
            "Total Lines in the unique file :7\n",
            "------------------ 5 unique index----------------------\n",
            "                        Close  9minEMAClosed  21minEMAClosed\n",
            "TimeStamp                                                   \n",
            "2022-02-04 20:34:00  173.9600     173.960000      173.960000\n",
            "2022-02-04 20:35:00  173.8150     173.879444      173.884048\n",
            "2022-02-04 20:36:00  173.8850     173.881721      173.884396\n",
            "2022-02-04 20:37:00  173.9420     173.902141      173.900916\n",
            "2022-02-04 20:38:00  173.8300     173.880681      173.883909\n",
            "2022-02-04 20:39:00  173.7300     173.839838      173.851783\n",
            "2022-02-04 20:40:00  173.6359     173.788227      173.811471\n",
            "-1\n",
            "Wrttin  steam file\n",
            "messgae received at20:41:30\n",
            "[{\"T\":\"b\",\"S\":\"AAPL\",\"o\":173.73,\"c\":173.6359,\"h\":173.755,\"l\":173.581,\"v\":187129,\"t\":\"2022-02-04T20:40:00Z\",\"n\":1972,\"vw\":173.688962}]\n",
            "Strated wring to the steam file\n",
            "Total Lines13\n",
            "Calucation Started\n",
            "Total Lines in the unique file :7\n",
            "------------------ 5 unique index----------------------\n",
            "                        Close  9minEMAClosed  21minEMAClosed\n",
            "TimeStamp                                                   \n",
            "2022-02-04 20:34:00  173.9600     173.960000      173.960000\n",
            "2022-02-04 20:35:00  173.8150     173.879444      173.884048\n",
            "2022-02-04 20:36:00  173.8850     173.881721      173.884396\n",
            "2022-02-04 20:37:00  173.9420     173.902141      173.900916\n",
            "2022-02-04 20:38:00  173.8300     173.880681      173.883909\n",
            "2022-02-04 20:39:00  173.7300     173.839838      173.851783\n",
            "2022-02-04 20:40:00  173.6359     173.788227      173.811471\n",
            "-1\n",
            "Wrttin  steam file\n",
            "messgae received at20:42:00\n",
            "[{\"T\":\"b\",\"S\":\"AAPL\",\"o\":173.63,\"c\":173.43,\"h\":173.64,\"l\":173.37,\"v\":259699,\"t\":\"2022-02-04T20:41:00Z\",\"n\":2115,\"vw\":173.47676}]\n",
            "Strated wring to the steam file\n",
            "Total Lines14\n",
            "Calucation Started\n",
            "Total Lines in the unique file :8\n",
            "------------------ 5 unique index----------------------\n",
            "                        Close  9minEMAClosed  21minEMAClosed\n",
            "TimeStamp                                                   \n",
            "2022-02-04 20:34:00  173.9600     173.960000      173.960000\n",
            "2022-02-04 20:35:00  173.8150     173.879444      173.884048\n",
            "2022-02-04 20:36:00  173.8850     173.881721      173.884396\n",
            "2022-02-04 20:37:00  173.9420     173.902141      173.900916\n",
            "2022-02-04 20:38:00  173.8300     173.880681      173.883909\n",
            "2022-02-04 20:39:00  173.7300     173.839838      173.851783\n",
            "2022-02-04 20:40:00  173.6359     173.788227      173.811471\n",
            "2022-02-04 20:41:00  173.4300     173.702138      173.746467\n",
            "-1\n",
            "Wrttin  steam file\n",
            "messgae received at20:43:00\n",
            "[{\"T\":\"b\",\"S\":\"AAPL\",\"o\":173.43,\"c\":173.525,\"h\":173.56,\"l\":173.37,\"v\":208693,\"t\":\"2022-02-04T20:42:00Z\",\"n\":1755,\"vw\":173.473676}]\n",
            "Strated wring to the steam file\n",
            "Total Lines15\n",
            "Calucation Started\n",
            "Total Lines in the unique file :9\n",
            "------------------ 5 unique index----------------------\n",
            "                        Close  9minEMAClosed  21minEMAClosed\n",
            "TimeStamp                                                   \n",
            "2022-02-04 20:34:00  173.9600     173.960000      173.960000\n",
            "2022-02-04 20:35:00  173.8150     173.879444      173.884048\n",
            "2022-02-04 20:36:00  173.8850     173.881721      173.884396\n",
            "2022-02-04 20:37:00  173.9420     173.902141      173.900916\n",
            "2022-02-04 20:38:00  173.8300     173.880681      173.883909\n",
            "2022-02-04 20:39:00  173.7300     173.839838      173.851783\n",
            "2022-02-04 20:40:00  173.6359     173.788227      173.811471\n",
            "2022-02-04 20:41:00  173.4300     173.702138      173.746467\n",
            "2022-02-04 20:42:00  173.5250     173.661218      173.711507\n",
            "-1\n",
            "Wrttin  steam file\n"
          ]
        },
        {
          "output_type": "execute_result",
          "data": {
            "text/plain": [
              "False"
            ]
          },
          "metadata": {},
          "execution_count": 116
        }
      ]
    },
    {
      "cell_type": "code",
      "source": [
        ""
      ],
      "metadata": {
        "id": "v5gV1V2Ivhun"
      },
      "execution_count": 50,
      "outputs": []
    }
  ]
}