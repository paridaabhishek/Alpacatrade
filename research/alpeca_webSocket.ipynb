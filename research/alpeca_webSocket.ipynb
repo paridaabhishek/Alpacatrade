{
  "nbformat": 4,
  "nbformat_minor": 0,
  "metadata": {
    "colab": {
      "name": "alpeca_webSocket.ipynb",
      "provenance": [],
      "collapsed_sections": [],
      "authorship_tag": "ABX9TyPGQEEIHqFK9pGpfY3ic27u",
      "include_colab_link": true
    },
    "kernelspec": {
      "name": "python3",
      "display_name": "Python 3"
    },
    "language_info": {
      "name": "python"
    }
  },
  "cells": [
    {
      "cell_type": "markdown",
      "metadata": {
        "id": "view-in-github",
        "colab_type": "text"
      },
      "source": [
        "<a href=\"https://colab.research.google.com/github/paridaabhishek/Alpacatrade/blob/master/alpeca_webSocket.ipynb\" target=\"_parent\"><img src=\"https://colab.research.google.com/assets/colab-badge.svg\" alt=\"Open In Colab\"/></a>"
      ]
    },
    {
      "cell_type": "code",
      "execution_count": 4,
      "metadata": {
        "colab": {
          "base_uri": "https://localhost:8080/"
        },
        "id": "MlE46PDhePJd",
        "outputId": "706b333a-b01b-49f1-9e56-3a13ad3f62a9"
      },
      "outputs": [
        {
          "output_type": "stream",
          "name": "stdout",
          "text": [
            "Collecting websocket-client\n",
            "  Downloading websocket_client-1.2.3-py3-none-any.whl (53 kB)\n",
            "\u001b[?25l\r\u001b[K     |██████▏                         | 10 kB 19.7 MB/s eta 0:00:01\r\u001b[K     |████████████▎                   | 20 kB 11.7 MB/s eta 0:00:01\r\u001b[K     |██████████████████▍             | 30 kB 9.2 MB/s eta 0:00:01\r\u001b[K     |████████████████████████▌       | 40 kB 8.2 MB/s eta 0:00:01\r\u001b[K     |██████████████████████████████▋ | 51 kB 5.3 MB/s eta 0:00:01\r\u001b[K     |████████████████████████████████| 53 kB 1.3 MB/s \n",
            "\u001b[?25hInstalling collected packages: websocket-client\n",
            "Successfully installed websocket-client-1.2.3\n"
          ]
        }
      ],
      "source": [
        " !pip install websocket-client"
      ]
    },
    {
      "cell_type": "code",
      "source": [
        "import websocket \n",
        "import json\n",
        "\n",
        "from datetime import datetime\n",
        "\n"
      ],
      "metadata": {
        "colab": {
          "base_uri": "https://localhost:8080/"
        },
        "id": "ih-43JPTeoa1",
        "outputId": "1f4e69cc-929e-4a37-af23-8b076eb89291"
      },
      "execution_count": 63,
      "outputs": [
        {
          "output_type": "stream",
          "name": "stdout",
          "text": [
            "Current Time = 08:34:49\n"
          ]
        }
      ]
    },
    {
      "cell_type": "code",
      "source": [
        "from IPython.core.display import JSON\n",
        "\n",
        "#socket = \"wss://paper-api.alpaca.markets/stream\"\n",
        "#socket = \"wss://stream.data.alpaca.markets/v2/sip\"\n",
        "socket = \"wss://stream.data.alpaca.markets/v1beta1/crypto\"\n",
        "\n",
        "def on_ope_fun(ws):\n",
        "    print(\"Opened\")\n",
        "    auth_data = {\"action\": \"auth\",\"key\": \"PKJXPDHQP9O6O3PVCIGK\",\"secret\": \"OIUIYGbLOYNq4D8mzbNdDe9dB2FUCCTP8xIKQXba\"}\n",
        "    ws.send(json.dumps(auth_data))\n",
        "    #listen_message={\"action\":\"subscribe\",\"trades\":[\"BTCUSD\"],\"quotes\":[\"LTCUSD\",\"ETHUSD\"],\"bars\":[\"BCHUSD\"]}\n",
        "    #listen_message={\"action\":\"subscribe\",\"trades\":[\"BTCUSD\"]}\n",
        "    listen_message={\"action\":\"subscribe\",\"bars\":[\"BTCUSD\"]}\n",
        "    #listen_message={\"action\":\"subscribe\",\"trades\":[\"AAPL\"],\"quotes\":[\"AMD\",\"CLDR\"],\"bars\":[\"AAPL\",\"VOO\"]}\n",
        "    ws.send(json.dumps(listen_message))\n",
        "    print('Still Open')\n",
        "\n",
        "\n",
        "def on_msg_fun(ws,message):\n",
        "\n",
        "    now = datetime.now()\n",
        "\n",
        "    current_time = now.strftime(\"%H:%M:%S\")\n",
        "    print(\"messgae received at\"+ current_time)\n",
        "  \n",
        "    print(message)\n",
        "\n",
        "\n",
        "def on_clg_fun(ws):\n",
        "    print(\"Opened\")\n",
        "    auth_data = {\n",
        "        \"action\": \"auth\",\n",
        "        \"key\": \"PKJXPDHQP9O6O3PVCIGK\",\n",
        "        \"secret\": \"OIUIYGbLOYNq4D8mzbNdDe9dB2FUCCTP8xIKQXba\"\n",
        "    }\n"
      ],
      "metadata": {
        "id": "Y6EhlAn0ethe"
      },
      "execution_count": 65,
      "outputs": []
    },
    {
      "cell_type": "code",
      "source": [
        "ws = websocket.WebSocketApp(socket, on_open=on_ope_fun,on_message=on_msg_fun)\n",
        "ws.run_forever()"
      ],
      "metadata": {
        "colab": {
          "base_uri": "https://localhost:8080/"
        },
        "id": "E95voQ3He7R8",
        "outputId": "8141ae10-d166-4abb-98c4-c78b1f57c492"
      },
      "execution_count": 66,
      "outputs": [
        {
          "output_type": "stream",
          "name": "stdout",
          "text": [
            "Opened\n",
            "Still Open\n",
            "messgae received at08:35:44\n",
            "[{\"T\":\"success\",\"msg\":\"connected\"}]\n",
            "messgae received at08:35:44\n",
            "[{\"T\":\"success\",\"msg\":\"authenticated\"}]\n",
            "messgae received at08:35:44\n",
            "[{\"T\":\"subscription\",\"trades\":[],\"quotes\":[],\"bars\":[\"BTCUSD\"],\"dailyBars\":[]}]\n",
            "messgae received at08:36:00\n",
            "[{\"T\":\"b\",\"S\":\"BTCUSD\",\"x\":\"CBSE\",\"o\":38045.23,\"c\":38020.27,\"h\":38045.23,\"l\":38018.34,\"v\":2.98536143,\"t\":\"2022-01-30T08:35:00Z\",\"n\":315,\"vw\":38034.3161544177}]\n",
            "messgae received at08:36:00\n",
            "[{\"T\":\"b\",\"S\":\"BTCUSD\",\"x\":\"FTXU\",\"o\":38024,\"c\":38024,\"h\":38024,\"l\":38024,\"v\":0.0131,\"t\":\"2022-01-30T08:35:00Z\",\"n\":1,\"vw\":38024}]\n",
            "messgae received at08:37:00\n",
            "[{\"T\":\"b\",\"S\":\"BTCUSD\",\"x\":\"CBSE\",\"o\":38023,\"c\":38027.85,\"h\":38031.68,\"l\":38019.75,\"v\":3.71759621,\"t\":\"2022-01-30T08:36:00Z\",\"n\":223,\"vw\":38024.7290219728}]\n",
            "messgae received at08:38:00\n",
            "[{\"T\":\"b\",\"S\":\"BTCUSD\",\"x\":\"CBSE\",\"o\":38030.59,\"c\":38000.9,\"h\":38036.41,\"l\":37990.23,\"v\":14.52730765,\"t\":\"2022-01-30T08:37:00Z\",\"n\":492,\"vw\":38018.8726971108}]\n",
            "messgae received at08:38:00\n",
            "[{\"T\":\"b\",\"S\":\"BTCUSD\",\"x\":\"FTXU\",\"o\":38024,\"c\":38013,\"h\":38024,\"l\":38013,\"v\":0.2518,\"t\":\"2022-01-30T08:37:00Z\",\"n\":3,\"vw\":38015.5075456712}]\n",
            "messgae received at08:38:30\n",
            "[{\"T\":\"b\",\"S\":\"BTCUSD\",\"x\":\"CBSE\",\"o\":38030.59,\"c\":38002.95,\"h\":38036.41,\"l\":37990.23,\"v\":15.16368487,\"t\":\"2022-01-30T08:37:00Z\",\"n\":503,\"vw\":38018.1375354682}]\n",
            "messgae received at08:39:00\n",
            "[{\"T\":\"b\",\"S\":\"BTCUSD\",\"x\":\"CBSE\",\"o\":38008.53,\"c\":38022.67,\"h\":38023.8,\"l\":38000.15,\"v\":6.08334698,\"t\":\"2022-01-30T08:38:00Z\",\"n\":302,\"vw\":38007.7695163504}]\n",
            "messgae received at08:39:00\n",
            "[{\"T\":\"b\",\"S\":\"BTCUSD\",\"x\":\"FTXU\",\"o\":38001,\"c\":38006,\"h\":38006,\"l\":38001,\"v\":0.0705,\"t\":\"2022-01-30T08:38:00Z\",\"n\":2,\"vw\":38005.0709219858}]\n"
          ]
        },
        {
          "output_type": "execute_result",
          "data": {
            "text/plain": [
              "False"
            ]
          },
          "metadata": {},
          "execution_count": 66
        }
      ]
    },
    {
      "cell_type": "code",
      "source": [
        "from IPython.core.display import JSON\n",
        "import pandas as pd\n",
        "\n",
        "\n",
        "\n",
        "df = pd.DataFrame(columns=['message type', \n",
        "                           'symbol',\n",
        "                           'exchange',  \n",
        "                           'open price',\n",
        "                           'close price',\n",
        "                           'high price', \n",
        "                           'low price',\n",
        "                           'volume', \n",
        "                           'timestamp', \n",
        "                           'n', \n",
        "                           'vw'])\n",
        "\n",
        "\n",
        "#socket = \"wss://paper-api.alpaca.markets/stream\"\n",
        "#socket = \"wss://stream.data.alpaca.markets/v2/sip\"\n",
        "socket = \"wss://stream.data.alpaca.markets/v1beta1/crypto\"\n",
        "\n",
        "def on_ope_fun(ws):\n",
        "    print(\"Opened\")\n",
        "    auth_data = {\"action\": \"auth\",\"key\": \"PKJXPDHQP9O6O3PVCIGK\",\"secret\": \"OIUIYGbLOYNq4D8mzbNdDe9dB2FUCCTP8xIKQXba\"}\n",
        "    ws.send(json.dumps(auth_data))\n",
        "    #listen_message={\"action\":\"subscribe\",\"trades\":[\"BTCUSD\"],\"quotes\":[\"LTCUSD\",\"ETHUSD\"],\"bars\":[\"BCHUSD\"]}\n",
        "    #listen_message={\"action\":\"subscribe\",\"trades\":[\"BTCUSD\"]}\n",
        "    listen_message={\"action\":\"subscribe\",\"bars\":[\"BTCUSD\"]}\n",
        "    #listen_message={\"action\":\"subscribe\",\"trades\":[\"AAPL\"],\"quotes\":[\"AMD\",\"CLDR\"],\"bars\":[\"AAPL\",\"VOO\"]}\n",
        "    ws.send(json.dumps(listen_message))\n",
        "    print('Still Open')\n",
        "\n",
        "\n",
        "def on_msg_fun(ws,message):\n",
        "\n",
        "    now = datetime.now()\n",
        "\n",
        "    current_time = now.strftime(\"%H:%M:%S\")\n",
        "    print(\"messgae received at\"+ current_time)\n",
        "    print(type(message))\n",
        "    print(message)\n",
        "    msg= message\n",
        "    try:\n",
        "      #df = pd.DataFrame()\n",
        "      #sr =pd.Series(msg)\n",
        "      #print(sr)\n",
        "      global df\n",
        "      convertedDict = json.loads(msg)\n",
        "      df = pd.DataFrame()\n",
        "      df =df.append(convertedDict)\n",
        "\n",
        "      df.to_csv('/content/drive/MyDrive/bitcoin.csv', mode='a', index=False, header=False)\n",
        "    except Exception as ex:\n",
        "      print(ex)\n",
        "    print(type(convertedDict))\n",
        "\n",
        "\n",
        "    # file_path = '/content/drive/MyDrive/btc.txt' #choose your file path\n",
        "    # with open(file_path, \"a\") as output_file:\n",
        "    #   output_file.write(message + \"\\n\")\n",
        "    # #global df\n",
        "    # df = pd.DataFrame()\n",
        "    # df =df.append(msg)\n",
        "    #df = df.append({\"T\":\"b\",\"S\":\"BTCUSD\",\"x\":\"CBSE\",\"o\":38069.31,\"c\":38070.21,\"h\":38070.21,\"l\":38068.65,\"v\":2.41626553,\"t\":\"2022-01-30T09:16:00Z\",\"n\":145,\"vw\":38069.621001808},ignore_index=True)\n",
        "    # # df.to_csv('BTC')\n",
        "    # # print(df['symbol'])\n",
        "    print('message created')\n",
        "    print(df)\n",
        "\n",
        "\n",
        "\n",
        "def on_clg_fun(ws):\n",
        "    print(\"Opened\")\n",
        "    auth_data = {\n",
        "        \"action\": \"auth\",\n",
        "        \"key\": \"***\",\n",
        "        \"secret\": \"***\"\n",
        "    }\n"
      ],
      "metadata": {
        "id": "EBAhYROrrMR0"
      },
      "execution_count": 225,
      "outputs": []
    },
    {
      "cell_type": "code",
      "source": [
        "ws = websocket.WebSocketApp(socket, on_open=on_ope_fun,on_message=on_msg_fun)\n",
        "ws.run_forever()"
      ],
      "metadata": {
        "colab": {
          "base_uri": "https://localhost:8080/"
        },
        "id": "iDUTyxg7NYci",
        "outputId": "70a272ee-ecd0-487f-8eff-c4d1088b6b0f"
      },
      "execution_count": null,
      "outputs": [
        {
          "output_type": "stream",
          "name": "stdout",
          "text": [
            "Opened\n",
            "Still Open\n",
            "messgae received at10:50:31\n",
            "<class 'str'>\n",
            "[{\"T\":\"success\",\"msg\":\"connected\"}]\n",
            "<class 'list'>\n",
            "message created\n",
            "         T        msg\n",
            "0  success  connected\n",
            "messgae received at10:50:31\n",
            "<class 'str'>\n",
            "[{\"T\":\"success\",\"msg\":\"authenticated\"}]\n",
            "<class 'list'>\n",
            "message created\n",
            "         T            msg\n",
            "0  success  authenticated\n",
            "messgae received at10:50:31\n",
            "<class 'str'>\n",
            "[{\"T\":\"subscription\",\"trades\":[],\"quotes\":[],\"bars\":[\"BTCUSD\"],\"dailyBars\":[]}]\n",
            "<class 'list'>\n",
            "message created\n",
            "              T trades quotes      bars dailyBars\n",
            "0  subscription     []     []  [BTCUSD]        []\n",
            "messgae received at10:51:00\n",
            "<class 'str'>\n",
            "[{\"T\":\"b\",\"S\":\"BTCUSD\",\"x\":\"CBSE\",\"o\":38149.34,\"c\":38138.93,\"h\":38150.23,\"l\":38138.92,\"v\":2.443429,\"t\":\"2022-01-30T10:50:00Z\",\"n\":189,\"vw\":38146.0361313986}]\n",
            "<class 'list'>\n",
            "message created\n",
            "   T       S     x         o  ...         v                     t    n            vw\n",
            "0  b  BTCUSD  CBSE  38149.34  ...  2.443429  2022-01-30T10:50:00Z  189  38146.036131\n",
            "\n",
            "[1 rows x 11 columns]\n",
            "messgae received at10:51:30\n",
            "<class 'str'>\n",
            "[{\"T\":\"b\",\"S\":\"BTCUSD\",\"x\":\"CBSE\",\"o\":38149.34,\"c\":38147.88,\"h\":38150.23,\"l\":38138.92,\"v\":3.47466189,\"t\":\"2022-01-30T10:50:00Z\",\"n\":243,\"vw\":38145.0225404737}]\n",
            "<class 'list'>\n",
            "message created\n",
            "   T       S     x         o  ...         v                     t    n           vw\n",
            "0  b  BTCUSD  CBSE  38149.34  ...  3.474662  2022-01-30T10:50:00Z  243  38145.02254\n",
            "\n",
            "[1 rows x 11 columns]\n",
            "messgae received at10:52:00\n",
            "<class 'str'>\n",
            "[{\"T\":\"b\",\"S\":\"BTCUSD\",\"x\":\"CBSE\",\"o\":38148.19,\"c\":38162.4,\"h\":38167.14,\"l\":38148.19,\"v\":3.91238557,\"t\":\"2022-01-30T10:51:00Z\",\"n\":262,\"vw\":38157.4736382381}]\n",
            "<class 'list'>\n",
            "message created\n",
            "   T       S     x         o  ...         v                     t    n            vw\n",
            "0  b  BTCUSD  CBSE  38148.19  ...  3.912386  2022-01-30T10:51:00Z  262  38157.473638\n",
            "\n",
            "[1 rows x 11 columns]\n",
            "messgae received at10:53:00\n",
            "<class 'str'>\n",
            "[{\"T\":\"b\",\"S\":\"BTCUSD\",\"x\":\"CBSE\",\"o\":38162.4,\"c\":38135.48,\"h\":38162.4,\"l\":38126.49,\"v\":5.36565187,\"t\":\"2022-01-30T10:52:00Z\",\"n\":281,\"vw\":38148.3799489111}]\n",
            "<class 'list'>\n",
            "message created\n",
            "   T       S     x        o  ...         v                     t    n            vw\n",
            "0  b  BTCUSD  CBSE  38162.4  ...  5.365652  2022-01-30T10:52:00Z  281  38148.379949\n",
            "\n",
            "[1 rows x 11 columns]\n"
          ]
        }
      ]
    },
    {
      "cell_type": "code",
      "source": [
        "msg='[{\"T\":\"b\",\"S\":\"BTCUSD\",\"x\":\"CBSE\",\"o\":38069.31,\"c\":38070.21,\"h\":38070.21,\"l\":38068.65,\"v\":2.41626553,\"t\":\"2022-01-30T09:16:00Z\",\"n\":145,\"vw\":38069.621001808}]'\n",
        "#type(msg)\n",
        "\n",
        "\n",
        "\n",
        "sr = pd.Series({\"T\":\"b\",\"S\":\"BTCUSD\",\"x\":\"CBSE\",\"o\":38069.31,\"c\":38070.21,\"h\":38070.21,\"l\":38068.65,\"v\":2.41626553,\"t\":\"2022-01-30T09:16:00Z\",\"n\":145,\"vw\":38069.621001808})\n",
        "sr\n",
        "#df = pd.DataFrame()"
      ],
      "metadata": {
        "colab": {
          "base_uri": "https://localhost:8080/"
        },
        "id": "s_ylMTiqRkoP",
        "outputId": "450b4da3-c55d-4d07-95f2-76d229bcc3f7"
      },
      "execution_count": 209,
      "outputs": [
        {
          "output_type": "execute_result",
          "data": {
            "text/plain": [
              "T                        b\n",
              "S                   BTCUSD\n",
              "x                     CBSE\n",
              "o                  38069.3\n",
              "c                  38070.2\n",
              "h                  38070.2\n",
              "l                  38068.7\n",
              "v                  2.41627\n",
              "t     2022-01-30T09:16:00Z\n",
              "n                      145\n",
              "vw                 38069.6\n",
              "dtype: object"
            ]
          },
          "metadata": {},
          "execution_count": 209
        }
      ]
    },
    {
      "cell_type": "code",
      "source": [
        "#msg='[{\"T\":\"b\",\"S\":\"BTCUSD\",\"x\":\"CBSE\",\"o\":38069.31,\"c\":38070.21,\"h\":38070.21,\"l\":38068.65,\"v\":2.41626553,\"t\":\"2022-01-30T09:16:00Z\",\"n\":145,\"vw\":38069.621001808}]'\n",
        "df = df.append({\"T\":\"b\",\"S\":\"BTCUSD\",\"x\":\"CBSE\",\"o\":38069.31,\"c\":38070.21,\"h\":38070.21,\"l\":38068.65,\"v\":2.41626553,\"t\":\"2022-01-30T09:16:00Z\",\"n\":145,\"vw\":38069.621001808},ignore_index=True)\n",
        "print(df)"
      ],
      "metadata": {
        "colab": {
          "base_uri": "https://localhost:8080/"
        },
        "id": "5Jn_ljzyR2zK",
        "outputId": "cfe307fe-1803-45be-9b3b-e5b8fbe2722c"
      },
      "execution_count": 187,
      "outputs": [
        {
          "output_type": "stream",
          "name": "stdout",
          "text": [
            "        S  T         c  ...         v            vw     x\n",
            "0  BTCUSD  b  38070.21  ...  2.416266  38069.621002  CBSE\n",
            "1  BTCUSD  b  38070.21  ...  2.416266  38069.621002  CBSE\n",
            "\n",
            "[2 rows x 11 columns]\n"
          ]
        }
      ]
    },
    {
      "cell_type": "code",
      "source": [
        "from google.colab import drive\n",
        "drive.mount('/content/drive')\n",
        "\n"
      ],
      "metadata": {
        "colab": {
          "base_uri": "https://localhost:8080/"
        },
        "id": "i4IWryYsPMmS",
        "outputId": "7f67be99-a5e9-4032-b09f-ba0d3183803b"
      },
      "execution_count": 78,
      "outputs": [
        {
          "output_type": "stream",
          "name": "stdout",
          "text": [
            "Mounted at /content/drive\n"
          ]
        }
      ]
    },
    {
      "cell_type": "code",
      "source": [
        "import os\n",
        "import glob\n",
        "print(glob.glob(\"/content/drive/MyDrive/*\"))"
      ],
      "metadata": {
        "colab": {
          "base_uri": "https://localhost:8080/"
        },
        "id": "bU_RNA0pVdGE",
        "outputId": "13748644-d017-4e6b-d977-898d4c15b8e4"
      },
      "execution_count": 157,
      "outputs": [
        {
          "output_type": "stream",
          "name": "stdout",
          "text": [
            "['/content/drive/MyDrive/Teradata Startup', '/content/drive/MyDrive/Rosh docs.zip', '/content/drive/MyDrive/Infosys.zip', '/content/drive/MyDrive/157752.pdf', '/content/drive/MyDrive/Google Photos', '/content/drive/MyDrive/marksheet_degree.pdf', '/content/drive/MyDrive/Omy', '/content/drive/MyDrive/Infosys_Tech_Experience.doc', '/content/drive/MyDrive/For omy', '/content/drive/MyDrive/Lifeline', '/content/drive/MyDrive/219200 skills.pdf', '/content/drive/MyDrive/Recent_pay_with_6_months.pdf', '/content/drive/MyDrive/NotSoEasyMoney.gdoc', '/content/drive/MyDrive/Colab Notebooks', '/content/drive/MyDrive/Untitled spreadsheet.gsheet', '/content/drive/MyDrive/Untitled Jam.gjam', '/content/drive/MyDrive/TreasureStone', '/content/drive/MyDrive/ScratchPad - Bar chart 1.gsheet', '/content/drive/MyDrive/Ab Initio EME v1.0.ppt', '/content/drive/MyDrive/OSAYouth_NE_Omysha_Song.mp4', '/content/drive/MyDrive/Vroom Deal Summary - Abhishek Parida.pdf', '/content/drive/MyDrive/dw.ipynb', '/content/drive/MyDrive/Travel planner.gsheet', '/content/drive/MyDrive/Mount Rushmore.gsheet', '/content/drive/MyDrive/Untitled document (1).gdoc', '/content/drive/MyDrive/Takeout', '/content/drive/MyDrive/UNL Interview.gdoc', '/content/drive/MyDrive/DHHS Interview.gdoc', '/content/drive/MyDrive/InfosysInterview07152021.gdoc', '/content/drive/MyDrive/Automated Trading V1 Dt 7 17 2021.gdoc', '/content/drive/MyDrive/celebrity staff.gdoc', '/content/drive/MyDrive/BA .gdoc', '/content/drive/MyDrive/Untitled document.gdoc', '/content/drive/MyDrive/Utilitites', '/content/drive/MyDrive/OldImmigrationDocs.zip']\n"
          ]
        }
      ]
    },
    {
      "cell_type": "code",
      "source": [
        "print (os.getcwd())\n",
        "os.chdir('/content/drive/MyDrive')\n",
        "print (os.getcwd())"
      ],
      "metadata": {
        "colab": {
          "base_uri": "https://localhost:8080/"
        },
        "id": "Ypjh6nchV4UM",
        "outputId": "68cf0ba4-82e3-4df8-9bc6-4cdf8e86005e"
      },
      "execution_count": 154,
      "outputs": [
        {
          "output_type": "stream",
          "name": "stdout",
          "text": [
            "/content/drive\n",
            "/content/drive/MyDrive\n"
          ]
        }
      ]
    }
  ]
}
