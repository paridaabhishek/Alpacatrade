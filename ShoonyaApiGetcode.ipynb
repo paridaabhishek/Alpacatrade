{
  "nbformat": 4,
  "nbformat_minor": 0,
  "metadata": {
    "colab": {
      "name": "ShoonyaApiGetcode.ipynb",
      "provenance": [],
      "collapsed_sections": [],
      "authorship_tag": "ABX9TyNpSodFvwpHQMy+qJ9F2dc6",
      "include_colab_link": true
    },
    "kernelspec": {
      "name": "python3",
      "display_name": "Python 3"
    },
    "language_info": {
      "name": "python"
    }
  },
  "cells": [
    {
      "cell_type": "markdown",
      "metadata": {
        "id": "view-in-github",
        "colab_type": "text"
      },
      "source": [
        "<a href=\"https://colab.research.google.com/github/paridaabhishek/Alpacatrade/blob/master/ShoonyaApiGetcode.ipynb\" target=\"_parent\"><img src=\"https://colab.research.google.com/assets/colab-badge.svg\" alt=\"Open In Colab\"/></a>"
      ]
    },
    {
      "cell_type": "code",
      "execution_count": null,
      "metadata": {
        "id": "nlyAYryMunXK"
      },
      "outputs": [],
      "source": [
        "##############################################################################\n",
        "############Ticker Symbol generation##########################################\n",
        "#########Input --->symbols_copy.csv###########################################\n",
        "#########Output --->SymbolCOde.csv############################################\n",
        "######Note : delete SymbolCOde.csv before restarting to avoid duplicates######\n",
        "##############################################################################\n",
        "\n",
        "####################Import############\n",
        "from api_helper import ShoonyaApiPy\n",
        "import yaml\n",
        "import pandas as pd\n",
        "import csv\n",
        "import json\n",
        "\n",
        "\n",
        "#########################Login to the Soonya########################################################################\n",
        "api = ShoonyaApiPy()\n",
        "with open('cred.yml') as f:\n",
        "    cred = yaml.load(f, Loader=yaml.FullLoader)\n",
        "ret = api.login(userid = cred['user'], password = cred['pwd'], twoFA=cred['factor2'], vendor_code=cred['vc'], api_secret=cred['apikey'], imei=cred['imei'])\n",
        "\n",
        "\n",
        "##############################Get Codes for tickers#############################################################################\n",
        "with open('symbols_copy.csv') as sym:\n",
        "    lines = sym.readlines()\n",
        "    #print(lines)\n",
        "    for line in lines:\n",
        "\n",
        "        if 'Ok' in str(api.searchscrip('NSE', line.split(',')[0])):\n",
        "            try:\n",
        "                var=json.loads(str(str(api.searchscrip('NSE', line.split(',')[0]))).split('[')[1].split(']')[0].replace('\\'','\"'))\n",
        "                print(var)\n",
        "                df_dictionary = pd.DataFrame([var])\n",
        "                df_dictionary.to_csv('SymbolCOde.csv',mode='a', index=False, header=False)               \n",
        "            except Exception :\n",
        "                print('Error for '+str(line.split(',')[0]))\n",
        "                pass\n",
        "        else:\n",
        "            print('Not fething data from endpoint for '+str(line.split(',')[0]))\n",
        "\n",
        "output_df = pd.read_csv('SymbolCOde.csv',header=None,names=['exch', 'token', 'tsym', 'pp', 'ls', 'ti'])\n",
        "\n",
        "print(output_df)\n",
        "\n",
        "\n",
        "\n",
        "# print(next(csvreader))"
      ]
    }
  ]
}