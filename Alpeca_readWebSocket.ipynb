{
  "nbformat": 4,
  "nbformat_minor": 0,
  "metadata": {
    "colab": {
      "name": "Alpeca_readWebSocket.ipynb",
      "provenance": [],
      "authorship_tag": "ABX9TyOvl4DOfKGdOJkfK9USwcpi",
      "include_colab_link": true
    },
    "kernelspec": {
      "name": "python3",
      "display_name": "Python 3"
    },
    "language_info": {
      "name": "python"
    }
  },
  "cells": [
    {
      "cell_type": "markdown",
      "metadata": {
        "id": "view-in-github",
        "colab_type": "text"
      },
      "source": [
        "<a href=\"https://colab.research.google.com/github/paridaabhishek/Alpacatrade/blob/master/Alpeca_readWebSocket.ipynb\" target=\"_parent\"><img src=\"https://colab.research.google.com/assets/colab-badge.svg\" alt=\"Open In Colab\"/></a>"
      ]
    },
    {
      "cell_type": "code",
      "execution_count": 50,
      "metadata": {
        "colab": {
          "base_uri": "https://localhost:8080/"
        },
        "id": "ZF0HuOpIoPLY",
        "outputId": "088980e1-de67-444e-bbf6-ae057f42a0db"
      },
      "outputs": [
        {
          "output_type": "stream",
          "name": "stdout",
          "text": [
            "Drive already mounted at /content/drive; to attempt to forcibly remount, call drive.mount(\"/content/drive\", force_remount=True).\n"
          ]
        }
      ],
      "source": [
        "from google.colab import drive\n",
        "drive.mount('/content/drive')\n"
      ]
    },
    {
      "cell_type": "code",
      "source": [
        "import pandas as pd\n",
        "from datetime import datetime"
      ],
      "metadata": {
        "id": "ibp-kf-JoeuJ"
      },
      "execution_count": 51,
      "outputs": []
    },
    {
      "cell_type": "code",
      "source": [
        "df = pd.read_csv('/content/drive/MyDrive/AAPL.csv',skiprows=3,index_col=False)\n",
        "\n",
        "df.columns"
      ],
      "metadata": {
        "colab": {
          "base_uri": "https://localhost:8080/"
        },
        "id": "ko30F1CRok8m",
        "outputId": "b5bbd6a7-21dd-43dc-f4f4-ab24df706988"
      },
      "execution_count": 52,
      "outputs": [
        {
          "output_type": "execute_result",
          "data": {
            "text/plain": [
              "Index(['b', 'AAPL', '172.9', '172.83', '172.93', '172.73', '139404',\n",
              "       '2022-01-31T16:18:00Z', '1535', '172.824783'],\n",
              "      dtype='object')"
            ]
          },
          "metadata": {},
          "execution_count": 52
        }
      ]
    },
    {
      "cell_type": "code",
      "source": [
        ""
      ],
      "metadata": {
        "id": "jST6w2eZxWZ4"
      },
      "execution_count": null,
      "outputs": []
    },
    {
      "cell_type": "code",
      "source": [
        "df.columns =['Message Type', \n",
        "             'Symbol', \n",
        "             'Open', \n",
        "             'Close',\n",
        "             'High',\n",
        "             'Low',\n",
        "             'Volume',\n",
        "             'TimeStamp',\n",
        "             'n',\n",
        "             'vw']\n",
        "\n",
        "             "
      ],
      "metadata": {
        "id": "LBOEdyTpp_No"
      },
      "execution_count": 56,
      "outputs": []
    },
    {
      "cell_type": "code",
      "source": [
        "df\n"
      ],
      "metadata": {
        "colab": {
          "base_uri": "https://localhost:8080/",
          "height": 423
        },
        "id": "r-qmGjbUxwV9",
        "outputId": "6815374a-7b2e-49cb-e05a-4c0af0c8b5a1"
      },
      "execution_count": 57,
      "outputs": [
        {
          "output_type": "execute_result",
          "data": {
            "text/html": [
              "\n",
              "  <div id=\"df-2fb6ddcd-3763-4e92-b7c7-3b6f3d21f409\">\n",
              "    <div class=\"colab-df-container\">\n",
              "      <div>\n",
              "<style scoped>\n",
              "    .dataframe tbody tr th:only-of-type {\n",
              "        vertical-align: middle;\n",
              "    }\n",
              "\n",
              "    .dataframe tbody tr th {\n",
              "        vertical-align: top;\n",
              "    }\n",
              "\n",
              "    .dataframe thead th {\n",
              "        text-align: right;\n",
              "    }\n",
              "</style>\n",
              "<table border=\"1\" class=\"dataframe\">\n",
              "  <thead>\n",
              "    <tr style=\"text-align: right;\">\n",
              "      <th></th>\n",
              "      <th>Message Type</th>\n",
              "      <th>Symbol</th>\n",
              "      <th>Open</th>\n",
              "      <th>Close</th>\n",
              "      <th>High</th>\n",
              "      <th>Low</th>\n",
              "      <th>Volume</th>\n",
              "      <th>TimeStamp</th>\n",
              "      <th>n</th>\n",
              "      <th>vw</th>\n",
              "    </tr>\n",
              "  </thead>\n",
              "  <tbody>\n",
              "    <tr>\n",
              "      <th>0</th>\n",
              "      <td>b</td>\n",
              "      <td>AAPL</td>\n",
              "      <td>172.82</td>\n",
              "      <td>172.8101</td>\n",
              "      <td>172.95</td>\n",
              "      <td>172.7000</td>\n",
              "      <td>131099</td>\n",
              "      <td>2022-01-31T16:19:00Z</td>\n",
              "      <td>1615</td>\n",
              "      <td>172.819059</td>\n",
              "    </tr>\n",
              "    <tr>\n",
              "      <th>1</th>\n",
              "      <td>b</td>\n",
              "      <td>AAPL</td>\n",
              "      <td>172.82</td>\n",
              "      <td>172.8500</td>\n",
              "      <td>172.98</td>\n",
              "      <td>172.8100</td>\n",
              "      <td>177425</td>\n",
              "      <td>2022-01-31T16:20:00Z</td>\n",
              "      <td>1987</td>\n",
              "      <td>172.887658</td>\n",
              "    </tr>\n",
              "    <tr>\n",
              "      <th>2</th>\n",
              "      <td>b</td>\n",
              "      <td>AAPL</td>\n",
              "      <td>172.82</td>\n",
              "      <td>172.8500</td>\n",
              "      <td>172.98</td>\n",
              "      <td>172.8100</td>\n",
              "      <td>177426</td>\n",
              "      <td>2022-01-31T16:20:00Z</td>\n",
              "      <td>1988</td>\n",
              "      <td>172.887658</td>\n",
              "    </tr>\n",
              "    <tr>\n",
              "      <th>3</th>\n",
              "      <td>b</td>\n",
              "      <td>AAPL</td>\n",
              "      <td>172.85</td>\n",
              "      <td>172.7998</td>\n",
              "      <td>173.00</td>\n",
              "      <td>172.7998</td>\n",
              "      <td>146230</td>\n",
              "      <td>2022-01-31T16:21:00Z</td>\n",
              "      <td>1756</td>\n",
              "      <td>172.895073</td>\n",
              "    </tr>\n",
              "    <tr>\n",
              "      <th>4</th>\n",
              "      <td>b</td>\n",
              "      <td>AAPL</td>\n",
              "      <td>172.79</td>\n",
              "      <td>172.6200</td>\n",
              "      <td>172.79</td>\n",
              "      <td>172.5000</td>\n",
              "      <td>266468</td>\n",
              "      <td>2022-01-31T16:22:00Z</td>\n",
              "      <td>2706</td>\n",
              "      <td>172.613082</td>\n",
              "    </tr>\n",
              "    <tr>\n",
              "      <th>...</th>\n",
              "      <td>...</td>\n",
              "      <td>...</td>\n",
              "      <td>...</td>\n",
              "      <td>...</td>\n",
              "      <td>...</td>\n",
              "      <td>...</td>\n",
              "      <td>...</td>\n",
              "      <td>...</td>\n",
              "      <td>...</td>\n",
              "      <td>...</td>\n",
              "    </tr>\n",
              "    <tr>\n",
              "      <th>412</th>\n",
              "      <td>b</td>\n",
              "      <td>AAPL</td>\n",
              "      <td>174.33</td>\n",
              "      <td>174.3400</td>\n",
              "      <td>174.34</td>\n",
              "      <td>174.3000</td>\n",
              "      <td>1514</td>\n",
              "      <td>2022-01-31T21:56:00Z</td>\n",
              "      <td>30</td>\n",
              "      <td>174.318900</td>\n",
              "    </tr>\n",
              "    <tr>\n",
              "      <th>413</th>\n",
              "      <td>b</td>\n",
              "      <td>AAPL</td>\n",
              "      <td>174.34</td>\n",
              "      <td>174.3400</td>\n",
              "      <td>174.34</td>\n",
              "      <td>174.3200</td>\n",
              "      <td>2031</td>\n",
              "      <td>2022-01-31T21:57:00Z</td>\n",
              "      <td>47</td>\n",
              "      <td>174.335862</td>\n",
              "    </tr>\n",
              "    <tr>\n",
              "      <th>414</th>\n",
              "      <td>b</td>\n",
              "      <td>AAPL</td>\n",
              "      <td>174.35</td>\n",
              "      <td>174.3500</td>\n",
              "      <td>174.35</td>\n",
              "      <td>174.3500</td>\n",
              "      <td>515</td>\n",
              "      <td>2022-01-31T21:59:00Z</td>\n",
              "      <td>24</td>\n",
              "      <td>174.336806</td>\n",
              "    </tr>\n",
              "    <tr>\n",
              "      <th>415</th>\n",
              "      <td>b</td>\n",
              "      <td>AAPL</td>\n",
              "      <td>174.35</td>\n",
              "      <td>174.3400</td>\n",
              "      <td>174.35</td>\n",
              "      <td>174.3400</td>\n",
              "      <td>1228</td>\n",
              "      <td>2022-01-31T22:00:00Z</td>\n",
              "      <td>22</td>\n",
              "      <td>174.350094</td>\n",
              "    </tr>\n",
              "    <tr>\n",
              "      <th>416</th>\n",
              "      <td>b</td>\n",
              "      <td>AAPL</td>\n",
              "      <td>174.32</td>\n",
              "      <td>174.3200</td>\n",
              "      <td>174.32</td>\n",
              "      <td>174.3200</td>\n",
              "      <td>2729</td>\n",
              "      <td>2022-01-31T22:03:00Z</td>\n",
              "      <td>35</td>\n",
              "      <td>174.320606</td>\n",
              "    </tr>\n",
              "  </tbody>\n",
              "</table>\n",
              "<p>417 rows × 10 columns</p>\n",
              "</div>\n",
              "      <button class=\"colab-df-convert\" onclick=\"convertToInteractive('df-2fb6ddcd-3763-4e92-b7c7-3b6f3d21f409')\"\n",
              "              title=\"Convert this dataframe to an interactive table.\"\n",
              "              style=\"display:none;\">\n",
              "        \n",
              "  <svg xmlns=\"http://www.w3.org/2000/svg\" height=\"24px\"viewBox=\"0 0 24 24\"\n",
              "       width=\"24px\">\n",
              "    <path d=\"M0 0h24v24H0V0z\" fill=\"none\"/>\n",
              "    <path d=\"M18.56 5.44l.94 2.06.94-2.06 2.06-.94-2.06-.94-.94-2.06-.94 2.06-2.06.94zm-11 1L8.5 8.5l.94-2.06 2.06-.94-2.06-.94L8.5 2.5l-.94 2.06-2.06.94zm10 10l.94 2.06.94-2.06 2.06-.94-2.06-.94-.94-2.06-.94 2.06-2.06.94z\"/><path d=\"M17.41 7.96l-1.37-1.37c-.4-.4-.92-.59-1.43-.59-.52 0-1.04.2-1.43.59L10.3 9.45l-7.72 7.72c-.78.78-.78 2.05 0 2.83L4 21.41c.39.39.9.59 1.41.59.51 0 1.02-.2 1.41-.59l7.78-7.78 2.81-2.81c.8-.78.8-2.07 0-2.86zM5.41 20L4 18.59l7.72-7.72 1.47 1.35L5.41 20z\"/>\n",
              "  </svg>\n",
              "      </button>\n",
              "      \n",
              "  <style>\n",
              "    .colab-df-container {\n",
              "      display:flex;\n",
              "      flex-wrap:wrap;\n",
              "      gap: 12px;\n",
              "    }\n",
              "\n",
              "    .colab-df-convert {\n",
              "      background-color: #E8F0FE;\n",
              "      border: none;\n",
              "      border-radius: 50%;\n",
              "      cursor: pointer;\n",
              "      display: none;\n",
              "      fill: #1967D2;\n",
              "      height: 32px;\n",
              "      padding: 0 0 0 0;\n",
              "      width: 32px;\n",
              "    }\n",
              "\n",
              "    .colab-df-convert:hover {\n",
              "      background-color: #E2EBFA;\n",
              "      box-shadow: 0px 1px 2px rgba(60, 64, 67, 0.3), 0px 1px 3px 1px rgba(60, 64, 67, 0.15);\n",
              "      fill: #174EA6;\n",
              "    }\n",
              "\n",
              "    [theme=dark] .colab-df-convert {\n",
              "      background-color: #3B4455;\n",
              "      fill: #D2E3FC;\n",
              "    }\n",
              "\n",
              "    [theme=dark] .colab-df-convert:hover {\n",
              "      background-color: #434B5C;\n",
              "      box-shadow: 0px 1px 3px 1px rgba(0, 0, 0, 0.15);\n",
              "      filter: drop-shadow(0px 1px 2px rgba(0, 0, 0, 0.3));\n",
              "      fill: #FFFFFF;\n",
              "    }\n",
              "  </style>\n",
              "\n",
              "      <script>\n",
              "        const buttonEl =\n",
              "          document.querySelector('#df-2fb6ddcd-3763-4e92-b7c7-3b6f3d21f409 button.colab-df-convert');\n",
              "        buttonEl.style.display =\n",
              "          google.colab.kernel.accessAllowed ? 'block' : 'none';\n",
              "\n",
              "        async function convertToInteractive(key) {\n",
              "          const element = document.querySelector('#df-2fb6ddcd-3763-4e92-b7c7-3b6f3d21f409');\n",
              "          const dataTable =\n",
              "            await google.colab.kernel.invokeFunction('convertToInteractive',\n",
              "                                                     [key], {});\n",
              "          if (!dataTable) return;\n",
              "\n",
              "          const docLinkHtml = 'Like what you see? Visit the ' +\n",
              "            '<a target=\"_blank\" href=https://colab.research.google.com/notebooks/data_table.ipynb>data table notebook</a>'\n",
              "            + ' to learn more about interactive tables.';\n",
              "          element.innerHTML = '';\n",
              "          dataTable['output_type'] = 'display_data';\n",
              "          await google.colab.output.renderOutput(dataTable, element);\n",
              "          const docLink = document.createElement('div');\n",
              "          docLink.innerHTML = docLinkHtml;\n",
              "          element.appendChild(docLink);\n",
              "        }\n",
              "      </script>\n",
              "    </div>\n",
              "  </div>\n",
              "  "
            ],
            "text/plain": [
              "    Message Type Symbol    Open  ...             TimeStamp     n          vw\n",
              "0              b   AAPL  172.82  ...  2022-01-31T16:19:00Z  1615  172.819059\n",
              "1              b   AAPL  172.82  ...  2022-01-31T16:20:00Z  1987  172.887658\n",
              "2              b   AAPL  172.82  ...  2022-01-31T16:20:00Z  1988  172.887658\n",
              "3              b   AAPL  172.85  ...  2022-01-31T16:21:00Z  1756  172.895073\n",
              "4              b   AAPL  172.79  ...  2022-01-31T16:22:00Z  2706  172.613082\n",
              "..           ...    ...     ...  ...                   ...   ...         ...\n",
              "412            b   AAPL  174.33  ...  2022-01-31T21:56:00Z    30  174.318900\n",
              "413            b   AAPL  174.34  ...  2022-01-31T21:57:00Z    47  174.335862\n",
              "414            b   AAPL  174.35  ...  2022-01-31T21:59:00Z    24  174.336806\n",
              "415            b   AAPL  174.35  ...  2022-01-31T22:00:00Z    22  174.350094\n",
              "416            b   AAPL  174.32  ...  2022-01-31T22:03:00Z    35  174.320606\n",
              "\n",
              "[417 rows x 10 columns]"
            ]
          },
          "metadata": {},
          "execution_count": 57
        }
      ]
    },
    {
      "cell_type": "code",
      "source": [
        "df_unique=df.drop_duplicates(subset=['TimeStamp'])\n"
      ],
      "metadata": {
        "id": "QSYklMVIy2I8"
      },
      "execution_count": 58,
      "outputs": []
    },
    {
      "cell_type": "code",
      "source": [
        "df_unique['TimeStamp'] = pd.to_datetime(df_unique['TimeStamp'])"
      ],
      "metadata": {
        "colab": {
          "base_uri": "https://localhost:8080/"
        },
        "id": "Lafl4Ig36h6P",
        "outputId": "69a07dfd-a76c-46ac-fba1-42153db61696"
      },
      "execution_count": 60,
      "outputs": [
        {
          "output_type": "stream",
          "name": "stderr",
          "text": [
            "/usr/local/lib/python3.7/dist-packages/ipykernel_launcher.py:1: SettingWithCopyWarning: \n",
            "A value is trying to be set on a copy of a slice from a DataFrame.\n",
            "Try using .loc[row_indexer,col_indexer] = value instead\n",
            "\n",
            "See the caveats in the documentation: https://pandas.pydata.org/pandas-docs/stable/user_guide/indexing.html#returning-a-view-versus-a-copy\n",
            "  \"\"\"Entry point for launching an IPython kernel.\n"
          ]
        }
      ]
    }
  ]
}