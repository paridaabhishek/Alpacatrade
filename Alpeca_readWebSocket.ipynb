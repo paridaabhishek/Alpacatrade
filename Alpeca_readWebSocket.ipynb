{
  "nbformat": 4,
  "nbformat_minor": 0,
  "metadata": {
    "colab": {
      "name": "Alpeca_readWebSocket.ipynb",
      "provenance": [],
      "authorship_tag": "ABX9TyOBb7eSHWSCd+2gpFdo4Aqj",
      "include_colab_link": true
    },
    "kernelspec": {
      "name": "python3",
      "display_name": "Python 3"
    },
    "language_info": {
      "name": "python"
    }
  },
  "cells": [
    {
      "cell_type": "markdown",
      "metadata": {
        "id": "view-in-github",
        "colab_type": "text"
      },
      "source": [
        "<a href=\"https://colab.research.google.com/github/paridaabhishek/Alpacatrade/blob/master/Alpeca_readWebSocket.ipynb\" target=\"_parent\"><img src=\"https://colab.research.google.com/assets/colab-badge.svg\" alt=\"Open In Colab\"/></a>"
      ]
    },
    {
      "cell_type": "code",
      "execution_count": 1,
      "metadata": {
        "colab": {
          "base_uri": "https://localhost:8080/"
        },
        "id": "ZF0HuOpIoPLY",
        "outputId": "42224703-b31c-406a-b157-0c066cb04cb9"
      },
      "outputs": [
        {
          "output_type": "stream",
          "name": "stdout",
          "text": [
            "Mounted at /content/drive\n"
          ]
        }
      ],
      "source": [
        "from google.colab import drive\n",
        "drive.mount('/content/drive')\n"
      ]
    },
    {
      "cell_type": "code",
      "source": [
        "import pandas as pd\n",
        "from datetime import datetime"
      ],
      "metadata": {
        "id": "ibp-kf-JoeuJ"
      },
      "execution_count": 2,
      "outputs": []
    },
    {
      "cell_type": "code",
      "source": [
        "df = pd.read_csv('/content/drive/MyDrive/AAPL.csv',skiprows=3,index_col=False)\n",
        "\n",
        "df.columns"
      ],
      "metadata": {
        "colab": {
          "base_uri": "https://localhost:8080/"
        },
        "id": "ko30F1CRok8m",
        "outputId": "9ce38ac4-63a5-4986-a0a1-65504fd8c6b0"
      },
      "execution_count": 32,
      "outputs": [
        {
          "output_type": "execute_result",
          "data": {
            "text/plain": [
              "Index(['b', 'AAPL', '172.9', '172.83', '172.93', '172.73', '139404',\n",
              "       '2022-01-31T16:18:00Z', '1535', '172.824783'],\n",
              "      dtype='object')"
            ]
          },
          "metadata": {},
          "execution_count": 32
        }
      ]
    },
    {
      "cell_type": "code",
      "source": [
        ""
      ],
      "metadata": {
        "id": "jST6w2eZxWZ4"
      },
      "execution_count": 3,
      "outputs": []
    },
    {
      "cell_type": "code",
      "source": [
        "df.columns =['Message Type', \n",
        "             'Symbol', \n",
        "             'Open', \n",
        "             'Close',\n",
        "             'High',\n",
        "             'Low',\n",
        "             'Volume',\n",
        "             'TimeStamp',\n",
        "             'n',\n",
        "             'vw']\n",
        "\n",
        "             "
      ],
      "metadata": {
        "id": "LBOEdyTpp_No"
      },
      "execution_count": 35,
      "outputs": []
    },
    {
      "cell_type": "code",
      "source": [
        "df\n"
      ],
      "metadata": {
        "colab": {
          "base_uri": "https://localhost:8080/",
          "height": 424
        },
        "id": "r-qmGjbUxwV9",
        "outputId": "c130f2c4-48a5-482e-caf7-4ba1bc46df0c"
      },
      "execution_count": 36,
      "outputs": [
        {
          "output_type": "execute_result",
          "data": {
            "text/html": [
              "\n",
              "  <div id=\"df-215b79e0-27cc-4b08-a5f5-645dff526d1e\">\n",
              "    <div class=\"colab-df-container\">\n",
              "      <div>\n",
              "<style scoped>\n",
              "    .dataframe tbody tr th:only-of-type {\n",
              "        vertical-align: middle;\n",
              "    }\n",
              "\n",
              "    .dataframe tbody tr th {\n",
              "        vertical-align: top;\n",
              "    }\n",
              "\n",
              "    .dataframe thead th {\n",
              "        text-align: right;\n",
              "    }\n",
              "</style>\n",
              "<table border=\"1\" class=\"dataframe\">\n",
              "  <thead>\n",
              "    <tr style=\"text-align: right;\">\n",
              "      <th></th>\n",
              "      <th>Message Type</th>\n",
              "      <th>Symbol</th>\n",
              "      <th>Open</th>\n",
              "      <th>Close</th>\n",
              "      <th>High</th>\n",
              "      <th>Low</th>\n",
              "      <th>Volume</th>\n",
              "      <th>TimeStamp</th>\n",
              "      <th>n</th>\n",
              "      <th>vw</th>\n",
              "    </tr>\n",
              "  </thead>\n",
              "  <tbody>\n",
              "    <tr>\n",
              "      <th>0</th>\n",
              "      <td>b</td>\n",
              "      <td>AAPL</td>\n",
              "      <td>172.82</td>\n",
              "      <td>172.8101</td>\n",
              "      <td>172.95</td>\n",
              "      <td>172.7000</td>\n",
              "      <td>131099</td>\n",
              "      <td>2022-01-31T16:19:00Z</td>\n",
              "      <td>1615</td>\n",
              "      <td>172.819059</td>\n",
              "    </tr>\n",
              "    <tr>\n",
              "      <th>1</th>\n",
              "      <td>b</td>\n",
              "      <td>AAPL</td>\n",
              "      <td>172.82</td>\n",
              "      <td>172.8500</td>\n",
              "      <td>172.98</td>\n",
              "      <td>172.8100</td>\n",
              "      <td>177425</td>\n",
              "      <td>2022-01-31T16:20:00Z</td>\n",
              "      <td>1987</td>\n",
              "      <td>172.887658</td>\n",
              "    </tr>\n",
              "    <tr>\n",
              "      <th>2</th>\n",
              "      <td>b</td>\n",
              "      <td>AAPL</td>\n",
              "      <td>172.82</td>\n",
              "      <td>172.8500</td>\n",
              "      <td>172.98</td>\n",
              "      <td>172.8100</td>\n",
              "      <td>177426</td>\n",
              "      <td>2022-01-31T16:20:00Z</td>\n",
              "      <td>1988</td>\n",
              "      <td>172.887658</td>\n",
              "    </tr>\n",
              "    <tr>\n",
              "      <th>3</th>\n",
              "      <td>b</td>\n",
              "      <td>AAPL</td>\n",
              "      <td>172.85</td>\n",
              "      <td>172.7998</td>\n",
              "      <td>173.00</td>\n",
              "      <td>172.7998</td>\n",
              "      <td>146230</td>\n",
              "      <td>2022-01-31T16:21:00Z</td>\n",
              "      <td>1756</td>\n",
              "      <td>172.895073</td>\n",
              "    </tr>\n",
              "    <tr>\n",
              "      <th>4</th>\n",
              "      <td>b</td>\n",
              "      <td>AAPL</td>\n",
              "      <td>172.79</td>\n",
              "      <td>172.6200</td>\n",
              "      <td>172.79</td>\n",
              "      <td>172.5000</td>\n",
              "      <td>266468</td>\n",
              "      <td>2022-01-31T16:22:00Z</td>\n",
              "      <td>2706</td>\n",
              "      <td>172.613082</td>\n",
              "    </tr>\n",
              "    <tr>\n",
              "      <th>...</th>\n",
              "      <td>...</td>\n",
              "      <td>...</td>\n",
              "      <td>...</td>\n",
              "      <td>...</td>\n",
              "      <td>...</td>\n",
              "      <td>...</td>\n",
              "      <td>...</td>\n",
              "      <td>...</td>\n",
              "      <td>...</td>\n",
              "      <td>...</td>\n",
              "    </tr>\n",
              "    <tr>\n",
              "      <th>412</th>\n",
              "      <td>b</td>\n",
              "      <td>AAPL</td>\n",
              "      <td>174.33</td>\n",
              "      <td>174.3400</td>\n",
              "      <td>174.34</td>\n",
              "      <td>174.3000</td>\n",
              "      <td>1514</td>\n",
              "      <td>2022-01-31T21:56:00Z</td>\n",
              "      <td>30</td>\n",
              "      <td>174.318900</td>\n",
              "    </tr>\n",
              "    <tr>\n",
              "      <th>413</th>\n",
              "      <td>b</td>\n",
              "      <td>AAPL</td>\n",
              "      <td>174.34</td>\n",
              "      <td>174.3400</td>\n",
              "      <td>174.34</td>\n",
              "      <td>174.3200</td>\n",
              "      <td>2031</td>\n",
              "      <td>2022-01-31T21:57:00Z</td>\n",
              "      <td>47</td>\n",
              "      <td>174.335862</td>\n",
              "    </tr>\n",
              "    <tr>\n",
              "      <th>414</th>\n",
              "      <td>b</td>\n",
              "      <td>AAPL</td>\n",
              "      <td>174.35</td>\n",
              "      <td>174.3500</td>\n",
              "      <td>174.35</td>\n",
              "      <td>174.3500</td>\n",
              "      <td>515</td>\n",
              "      <td>2022-01-31T21:59:00Z</td>\n",
              "      <td>24</td>\n",
              "      <td>174.336806</td>\n",
              "    </tr>\n",
              "    <tr>\n",
              "      <th>415</th>\n",
              "      <td>b</td>\n",
              "      <td>AAPL</td>\n",
              "      <td>174.35</td>\n",
              "      <td>174.3400</td>\n",
              "      <td>174.35</td>\n",
              "      <td>174.3400</td>\n",
              "      <td>1228</td>\n",
              "      <td>2022-01-31T22:00:00Z</td>\n",
              "      <td>22</td>\n",
              "      <td>174.350094</td>\n",
              "    </tr>\n",
              "    <tr>\n",
              "      <th>416</th>\n",
              "      <td>b</td>\n",
              "      <td>AAPL</td>\n",
              "      <td>174.32</td>\n",
              "      <td>174.3200</td>\n",
              "      <td>174.32</td>\n",
              "      <td>174.3200</td>\n",
              "      <td>2729</td>\n",
              "      <td>2022-01-31T22:03:00Z</td>\n",
              "      <td>35</td>\n",
              "      <td>174.320606</td>\n",
              "    </tr>\n",
              "  </tbody>\n",
              "</table>\n",
              "<p>417 rows × 10 columns</p>\n",
              "</div>\n",
              "      <button class=\"colab-df-convert\" onclick=\"convertToInteractive('df-215b79e0-27cc-4b08-a5f5-645dff526d1e')\"\n",
              "              title=\"Convert this dataframe to an interactive table.\"\n",
              "              style=\"display:none;\">\n",
              "        \n",
              "  <svg xmlns=\"http://www.w3.org/2000/svg\" height=\"24px\"viewBox=\"0 0 24 24\"\n",
              "       width=\"24px\">\n",
              "    <path d=\"M0 0h24v24H0V0z\" fill=\"none\"/>\n",
              "    <path d=\"M18.56 5.44l.94 2.06.94-2.06 2.06-.94-2.06-.94-.94-2.06-.94 2.06-2.06.94zm-11 1L8.5 8.5l.94-2.06 2.06-.94-2.06-.94L8.5 2.5l-.94 2.06-2.06.94zm10 10l.94 2.06.94-2.06 2.06-.94-2.06-.94-.94-2.06-.94 2.06-2.06.94z\"/><path d=\"M17.41 7.96l-1.37-1.37c-.4-.4-.92-.59-1.43-.59-.52 0-1.04.2-1.43.59L10.3 9.45l-7.72 7.72c-.78.78-.78 2.05 0 2.83L4 21.41c.39.39.9.59 1.41.59.51 0 1.02-.2 1.41-.59l7.78-7.78 2.81-2.81c.8-.78.8-2.07 0-2.86zM5.41 20L4 18.59l7.72-7.72 1.47 1.35L5.41 20z\"/>\n",
              "  </svg>\n",
              "      </button>\n",
              "      \n",
              "  <style>\n",
              "    .colab-df-container {\n",
              "      display:flex;\n",
              "      flex-wrap:wrap;\n",
              "      gap: 12px;\n",
              "    }\n",
              "\n",
              "    .colab-df-convert {\n",
              "      background-color: #E8F0FE;\n",
              "      border: none;\n",
              "      border-radius: 50%;\n",
              "      cursor: pointer;\n",
              "      display: none;\n",
              "      fill: #1967D2;\n",
              "      height: 32px;\n",
              "      padding: 0 0 0 0;\n",
              "      width: 32px;\n",
              "    }\n",
              "\n",
              "    .colab-df-convert:hover {\n",
              "      background-color: #E2EBFA;\n",
              "      box-shadow: 0px 1px 2px rgba(60, 64, 67, 0.3), 0px 1px 3px 1px rgba(60, 64, 67, 0.15);\n",
              "      fill: #174EA6;\n",
              "    }\n",
              "\n",
              "    [theme=dark] .colab-df-convert {\n",
              "      background-color: #3B4455;\n",
              "      fill: #D2E3FC;\n",
              "    }\n",
              "\n",
              "    [theme=dark] .colab-df-convert:hover {\n",
              "      background-color: #434B5C;\n",
              "      box-shadow: 0px 1px 3px 1px rgba(0, 0, 0, 0.15);\n",
              "      filter: drop-shadow(0px 1px 2px rgba(0, 0, 0, 0.3));\n",
              "      fill: #FFFFFF;\n",
              "    }\n",
              "  </style>\n",
              "\n",
              "      <script>\n",
              "        const buttonEl =\n",
              "          document.querySelector('#df-215b79e0-27cc-4b08-a5f5-645dff526d1e button.colab-df-convert');\n",
              "        buttonEl.style.display =\n",
              "          google.colab.kernel.accessAllowed ? 'block' : 'none';\n",
              "\n",
              "        async function convertToInteractive(key) {\n",
              "          const element = document.querySelector('#df-215b79e0-27cc-4b08-a5f5-645dff526d1e');\n",
              "          const dataTable =\n",
              "            await google.colab.kernel.invokeFunction('convertToInteractive',\n",
              "                                                     [key], {});\n",
              "          if (!dataTable) return;\n",
              "\n",
              "          const docLinkHtml = 'Like what you see? Visit the ' +\n",
              "            '<a target=\"_blank\" href=https://colab.research.google.com/notebooks/data_table.ipynb>data table notebook</a>'\n",
              "            + ' to learn more about interactive tables.';\n",
              "          element.innerHTML = '';\n",
              "          dataTable['output_type'] = 'display_data';\n",
              "          await google.colab.output.renderOutput(dataTable, element);\n",
              "          const docLink = document.createElement('div');\n",
              "          docLink.innerHTML = docLinkHtml;\n",
              "          element.appendChild(docLink);\n",
              "        }\n",
              "      </script>\n",
              "    </div>\n",
              "  </div>\n",
              "  "
            ],
            "text/plain": [
              "    Message Type Symbol    Open  ...             TimeStamp     n          vw\n",
              "0              b   AAPL  172.82  ...  2022-01-31T16:19:00Z  1615  172.819059\n",
              "1              b   AAPL  172.82  ...  2022-01-31T16:20:00Z  1987  172.887658\n",
              "2              b   AAPL  172.82  ...  2022-01-31T16:20:00Z  1988  172.887658\n",
              "3              b   AAPL  172.85  ...  2022-01-31T16:21:00Z  1756  172.895073\n",
              "4              b   AAPL  172.79  ...  2022-01-31T16:22:00Z  2706  172.613082\n",
              "..           ...    ...     ...  ...                   ...   ...         ...\n",
              "412            b   AAPL  174.33  ...  2022-01-31T21:56:00Z    30  174.318900\n",
              "413            b   AAPL  174.34  ...  2022-01-31T21:57:00Z    47  174.335862\n",
              "414            b   AAPL  174.35  ...  2022-01-31T21:59:00Z    24  174.336806\n",
              "415            b   AAPL  174.35  ...  2022-01-31T22:00:00Z    22  174.350094\n",
              "416            b   AAPL  174.32  ...  2022-01-31T22:03:00Z    35  174.320606\n",
              "\n",
              "[417 rows x 10 columns]"
            ]
          },
          "metadata": {},
          "execution_count": 36
        }
      ]
    },
    {
      "cell_type": "code",
      "source": [
        ""
      ],
      "metadata": {
        "id": "Lafl4Ig36h6P"
      },
      "execution_count": 68,
      "outputs": []
    },
    {
      "cell_type": "code",
      "source": [
        "df_unique=df.drop_duplicates(subset=['TimeStamp']).copy()\n"
      ],
      "metadata": {
        "id": "QSYklMVIy2I8"
      },
      "execution_count": 37,
      "outputs": []
    },
    {
      "cell_type": "code",
      "source": [
        "df_unique.info()"
      ],
      "metadata": {
        "colab": {
          "base_uri": "https://localhost:8080/"
        },
        "id": "cgKsqMEtPxQQ",
        "outputId": "10a9a94b-3284-4e29-d595-9dd1f5799b4f"
      },
      "execution_count": 44,
      "outputs": [
        {
          "output_type": "stream",
          "name": "stdout",
          "text": [
            "<class 'pandas.core.frame.DataFrame'>\n",
            "Int64Index: 341 entries, 0 to 416\n",
            "Data columns (total 10 columns):\n",
            " #   Column        Non-Null Count  Dtype         \n",
            "---  ------        --------------  -----         \n",
            " 0   Message Type  341 non-null    object        \n",
            " 1   Symbol        341 non-null    object        \n",
            " 2   Open          341 non-null    float64       \n",
            " 3   Close         341 non-null    float64       \n",
            " 4   High          341 non-null    float64       \n",
            " 5   Low           341 non-null    float64       \n",
            " 6   Volume        341 non-null    int64         \n",
            " 7   TimeStamp     341 non-null    datetime64[ns]\n",
            " 8   n             341 non-null    int64         \n",
            " 9   vw            341 non-null    float64       \n",
            "dtypes: datetime64[ns](1), float64(5), int64(2), object(2)\n",
            "memory usage: 39.3+ KB\n"
          ]
        }
      ]
    },
    {
      "cell_type": "code",
      "source": [
        "import pandas as pd\n",
        "pd.options.mode.chained_assignment = None"
      ],
      "metadata": {
        "id": "TvpFNSkYPpF8"
      },
      "execution_count": 84,
      "outputs": []
    },
    {
      "cell_type": "code",
      "source": [
        "df_unique.loc[:,'TimeStamp'] = pd.to_datetime(df_unique['TimeStamp'],format='%Y-%m-%dT%H:%M:%SZ')"
      ],
      "metadata": {
        "id": "JtOX2lYrOFxn"
      },
      "execution_count": 40,
      "outputs": []
    },
    {
      "cell_type": "code",
      "source": [
        "df_unique.head(10)"
      ],
      "metadata": {
        "colab": {
          "base_uri": "https://localhost:8080/",
          "height": 394
        },
        "id": "6saCbDnYOglr",
        "outputId": "10b4ffc4-2a75-4641-a8ab-675edca38e36"
      },
      "execution_count": 60,
      "outputs": [
        {
          "output_type": "execute_result",
          "data": {
            "text/html": [
              "\n",
              "  <div id=\"df-26f43cdc-1791-4cde-b8a2-ebb2db2af5a3\">\n",
              "    <div class=\"colab-df-container\">\n",
              "      <div>\n",
              "<style scoped>\n",
              "    .dataframe tbody tr th:only-of-type {\n",
              "        vertical-align: middle;\n",
              "    }\n",
              "\n",
              "    .dataframe tbody tr th {\n",
              "        vertical-align: top;\n",
              "    }\n",
              "\n",
              "    .dataframe thead th {\n",
              "        text-align: right;\n",
              "    }\n",
              "</style>\n",
              "<table border=\"1\" class=\"dataframe\">\n",
              "  <thead>\n",
              "    <tr style=\"text-align: right;\">\n",
              "      <th></th>\n",
              "      <th>Message Type</th>\n",
              "      <th>Symbol</th>\n",
              "      <th>Open</th>\n",
              "      <th>Close</th>\n",
              "      <th>High</th>\n",
              "      <th>Low</th>\n",
              "      <th>Volume</th>\n",
              "      <th>n</th>\n",
              "      <th>vw</th>\n",
              "      <th>14minEMAonOpen</th>\n",
              "    </tr>\n",
              "    <tr>\n",
              "      <th>TimeStamp</th>\n",
              "      <th></th>\n",
              "      <th></th>\n",
              "      <th></th>\n",
              "      <th></th>\n",
              "      <th></th>\n",
              "      <th></th>\n",
              "      <th></th>\n",
              "      <th></th>\n",
              "      <th></th>\n",
              "      <th></th>\n",
              "    </tr>\n",
              "  </thead>\n",
              "  <tbody>\n",
              "    <tr>\n",
              "      <th>2022-01-31 16:19:00</th>\n",
              "      <td>b</td>\n",
              "      <td>AAPL</td>\n",
              "      <td>172.82</td>\n",
              "      <td>172.8101</td>\n",
              "      <td>172.9500</td>\n",
              "      <td>172.7000</td>\n",
              "      <td>131099</td>\n",
              "      <td>1615</td>\n",
              "      <td>172.819059</td>\n",
              "      <td>172.820000</td>\n",
              "    </tr>\n",
              "    <tr>\n",
              "      <th>2022-01-31 16:20:00</th>\n",
              "      <td>b</td>\n",
              "      <td>AAPL</td>\n",
              "      <td>172.82</td>\n",
              "      <td>172.8500</td>\n",
              "      <td>172.9800</td>\n",
              "      <td>172.8100</td>\n",
              "      <td>177425</td>\n",
              "      <td>1987</td>\n",
              "      <td>172.887658</td>\n",
              "      <td>172.820000</td>\n",
              "    </tr>\n",
              "    <tr>\n",
              "      <th>2022-01-31 16:21:00</th>\n",
              "      <td>b</td>\n",
              "      <td>AAPL</td>\n",
              "      <td>172.85</td>\n",
              "      <td>172.7998</td>\n",
              "      <td>173.0000</td>\n",
              "      <td>172.7998</td>\n",
              "      <td>146230</td>\n",
              "      <td>1756</td>\n",
              "      <td>172.895073</td>\n",
              "      <td>172.831460</td>\n",
              "    </tr>\n",
              "    <tr>\n",
              "      <th>2022-01-31 16:22:00</th>\n",
              "      <td>b</td>\n",
              "      <td>AAPL</td>\n",
              "      <td>172.79</td>\n",
              "      <td>172.6200</td>\n",
              "      <td>172.7900</td>\n",
              "      <td>172.5000</td>\n",
              "      <td>266468</td>\n",
              "      <td>2706</td>\n",
              "      <td>172.613082</td>\n",
              "      <td>172.818776</td>\n",
              "    </tr>\n",
              "    <tr>\n",
              "      <th>2022-01-31 16:23:00</th>\n",
              "      <td>b</td>\n",
              "      <td>AAPL</td>\n",
              "      <td>172.63</td>\n",
              "      <td>172.5674</td>\n",
              "      <td>172.6650</td>\n",
              "      <td>172.5200</td>\n",
              "      <td>127973</td>\n",
              "      <td>1493</td>\n",
              "      <td>172.601534</td>\n",
              "      <td>172.769525</td>\n",
              "    </tr>\n",
              "    <tr>\n",
              "      <th>2022-01-31 16:24:00</th>\n",
              "      <td>b</td>\n",
              "      <td>AAPL</td>\n",
              "      <td>172.57</td>\n",
              "      <td>172.5450</td>\n",
              "      <td>172.6100</td>\n",
              "      <td>172.5000</td>\n",
              "      <td>138431</td>\n",
              "      <td>1464</td>\n",
              "      <td>172.534428</td>\n",
              "      <td>172.723358</td>\n",
              "    </tr>\n",
              "    <tr>\n",
              "      <th>2022-01-31 16:25:00</th>\n",
              "      <td>b</td>\n",
              "      <td>AAPL</td>\n",
              "      <td>172.54</td>\n",
              "      <td>172.5299</td>\n",
              "      <td>172.7050</td>\n",
              "      <td>172.5100</td>\n",
              "      <td>156433</td>\n",
              "      <td>1755</td>\n",
              "      <td>172.614057</td>\n",
              "      <td>172.684721</td>\n",
              "    </tr>\n",
              "    <tr>\n",
              "      <th>2022-01-31 16:26:00</th>\n",
              "      <td>b</td>\n",
              "      <td>AAPL</td>\n",
              "      <td>172.53</td>\n",
              "      <td>172.6150</td>\n",
              "      <td>172.6800</td>\n",
              "      <td>172.5242</td>\n",
              "      <td>154183</td>\n",
              "      <td>1732</td>\n",
              "      <td>172.615402</td>\n",
              "      <td>172.654460</td>\n",
              "    </tr>\n",
              "    <tr>\n",
              "      <th>2022-01-31 16:27:00</th>\n",
              "      <td>b</td>\n",
              "      <td>AAPL</td>\n",
              "      <td>172.61</td>\n",
              "      <td>172.6101</td>\n",
              "      <td>172.7000</td>\n",
              "      <td>172.5501</td>\n",
              "      <td>168806</td>\n",
              "      <td>1881</td>\n",
              "      <td>172.628971</td>\n",
              "      <td>172.646274</td>\n",
              "    </tr>\n",
              "    <tr>\n",
              "      <th>2022-01-31 16:28:00</th>\n",
              "      <td>b</td>\n",
              "      <td>AAPL</td>\n",
              "      <td>172.62</td>\n",
              "      <td>172.6700</td>\n",
              "      <td>172.7265</td>\n",
              "      <td>172.5500</td>\n",
              "      <td>177509</td>\n",
              "      <td>1967</td>\n",
              "      <td>172.642230</td>\n",
              "      <td>172.641670</td>\n",
              "    </tr>\n",
              "  </tbody>\n",
              "</table>\n",
              "</div>\n",
              "      <button class=\"colab-df-convert\" onclick=\"convertToInteractive('df-26f43cdc-1791-4cde-b8a2-ebb2db2af5a3')\"\n",
              "              title=\"Convert this dataframe to an interactive table.\"\n",
              "              style=\"display:none;\">\n",
              "        \n",
              "  <svg xmlns=\"http://www.w3.org/2000/svg\" height=\"24px\"viewBox=\"0 0 24 24\"\n",
              "       width=\"24px\">\n",
              "    <path d=\"M0 0h24v24H0V0z\" fill=\"none\"/>\n",
              "    <path d=\"M18.56 5.44l.94 2.06.94-2.06 2.06-.94-2.06-.94-.94-2.06-.94 2.06-2.06.94zm-11 1L8.5 8.5l.94-2.06 2.06-.94-2.06-.94L8.5 2.5l-.94 2.06-2.06.94zm10 10l.94 2.06.94-2.06 2.06-.94-2.06-.94-.94-2.06-.94 2.06-2.06.94z\"/><path d=\"M17.41 7.96l-1.37-1.37c-.4-.4-.92-.59-1.43-.59-.52 0-1.04.2-1.43.59L10.3 9.45l-7.72 7.72c-.78.78-.78 2.05 0 2.83L4 21.41c.39.39.9.59 1.41.59.51 0 1.02-.2 1.41-.59l7.78-7.78 2.81-2.81c.8-.78.8-2.07 0-2.86zM5.41 20L4 18.59l7.72-7.72 1.47 1.35L5.41 20z\"/>\n",
              "  </svg>\n",
              "      </button>\n",
              "      \n",
              "  <style>\n",
              "    .colab-df-container {\n",
              "      display:flex;\n",
              "      flex-wrap:wrap;\n",
              "      gap: 12px;\n",
              "    }\n",
              "\n",
              "    .colab-df-convert {\n",
              "      background-color: #E8F0FE;\n",
              "      border: none;\n",
              "      border-radius: 50%;\n",
              "      cursor: pointer;\n",
              "      display: none;\n",
              "      fill: #1967D2;\n",
              "      height: 32px;\n",
              "      padding: 0 0 0 0;\n",
              "      width: 32px;\n",
              "    }\n",
              "\n",
              "    .colab-df-convert:hover {\n",
              "      background-color: #E2EBFA;\n",
              "      box-shadow: 0px 1px 2px rgba(60, 64, 67, 0.3), 0px 1px 3px 1px rgba(60, 64, 67, 0.15);\n",
              "      fill: #174EA6;\n",
              "    }\n",
              "\n",
              "    [theme=dark] .colab-df-convert {\n",
              "      background-color: #3B4455;\n",
              "      fill: #D2E3FC;\n",
              "    }\n",
              "\n",
              "    [theme=dark] .colab-df-convert:hover {\n",
              "      background-color: #434B5C;\n",
              "      box-shadow: 0px 1px 3px 1px rgba(0, 0, 0, 0.15);\n",
              "      filter: drop-shadow(0px 1px 2px rgba(0, 0, 0, 0.3));\n",
              "      fill: #FFFFFF;\n",
              "    }\n",
              "  </style>\n",
              "\n",
              "      <script>\n",
              "        const buttonEl =\n",
              "          document.querySelector('#df-26f43cdc-1791-4cde-b8a2-ebb2db2af5a3 button.colab-df-convert');\n",
              "        buttonEl.style.display =\n",
              "          google.colab.kernel.accessAllowed ? 'block' : 'none';\n",
              "\n",
              "        async function convertToInteractive(key) {\n",
              "          const element = document.querySelector('#df-26f43cdc-1791-4cde-b8a2-ebb2db2af5a3');\n",
              "          const dataTable =\n",
              "            await google.colab.kernel.invokeFunction('convertToInteractive',\n",
              "                                                     [key], {});\n",
              "          if (!dataTable) return;\n",
              "\n",
              "          const docLinkHtml = 'Like what you see? Visit the ' +\n",
              "            '<a target=\"_blank\" href=https://colab.research.google.com/notebooks/data_table.ipynb>data table notebook</a>'\n",
              "            + ' to learn more about interactive tables.';\n",
              "          element.innerHTML = '';\n",
              "          dataTable['output_type'] = 'display_data';\n",
              "          await google.colab.output.renderOutput(dataTable, element);\n",
              "          const docLink = document.createElement('div');\n",
              "          docLink.innerHTML = docLinkHtml;\n",
              "          element.appendChild(docLink);\n",
              "        }\n",
              "      </script>\n",
              "    </div>\n",
              "  </div>\n",
              "  "
            ],
            "text/plain": [
              "                    Message Type Symbol  ...          vw  14minEMAonOpen\n",
              "TimeStamp                                ...                            \n",
              "2022-01-31 16:19:00            b   AAPL  ...  172.819059      172.820000\n",
              "2022-01-31 16:20:00            b   AAPL  ...  172.887658      172.820000\n",
              "2022-01-31 16:21:00            b   AAPL  ...  172.895073      172.831460\n",
              "2022-01-31 16:22:00            b   AAPL  ...  172.613082      172.818776\n",
              "2022-01-31 16:23:00            b   AAPL  ...  172.601534      172.769525\n",
              "2022-01-31 16:24:00            b   AAPL  ...  172.534428      172.723358\n",
              "2022-01-31 16:25:00            b   AAPL  ...  172.614057      172.684721\n",
              "2022-01-31 16:26:00            b   AAPL  ...  172.615402      172.654460\n",
              "2022-01-31 16:27:00            b   AAPL  ...  172.628971      172.646274\n",
              "2022-01-31 16:28:00            b   AAPL  ...  172.642230      172.641670\n",
              "\n",
              "[10 rows x 10 columns]"
            ]
          },
          "metadata": {},
          "execution_count": 60
        }
      ]
    },
    {
      "cell_type": "code",
      "source": [
        "df_unique.set_index('TimeStamp',inplace=True)"
      ],
      "metadata": {
        "id": "CSPUuaT5P8F_"
      },
      "execution_count": null,
      "outputs": []
    },
    {
      "cell_type": "code",
      "source": [
        "df_unique['14minEMAonOpen'] = df_unique['Close'].ewm(span=14,adjust=True).mean()"
      ],
      "metadata": {
        "id": "E5O1XYjR3NKR"
      },
      "execution_count": 73,
      "outputs": []
    },
    {
      "cell_type": "code",
      "source": [
        "import matplotlib.pyplot as plt"
      ],
      "metadata": {
        "id": "6svTI3C87EWd"
      },
      "execution_count": 53,
      "outputs": []
    },
    {
      "cell_type": "code",
      "source": [
        "df_unique[['Close','14minEMAonOpen']].plot()"
      ],
      "metadata": {
        "colab": {
          "base_uri": "https://localhost:8080/",
          "height": 296
        },
        "id": "pIEQz1n_7KLl",
        "outputId": "56bbc762-848f-4fd4-a899-024e70c7a9f4"
      },
      "execution_count": 81,
      "outputs": [
        {
          "output_type": "execute_result",
          "data": {
            "text/plain": [
              "<matplotlib.axes._subplots.AxesSubplot at 0x7fbd39518210>"
            ]
          },
          "metadata": {},
          "execution_count": 81
        },
        {
          "output_type": "display_data",
          "data": {
            "image/png": "[encoded data removed]",
            "text/plain": [
              "<Figure size 432x288 with 1 Axes>"
            ]
          },
          "metadata": {
            "needs_background": "light"
          }
        }
      ]
    },
    {
      "cell_type": "code",
      "source": [
        "df_unique['Gap'] = df_unique['Close']-df_unique['14minEMAonOpen']\n",
        "\n"
      ],
      "metadata": {
        "id": "4-1tCAwZ9G3p"
      },
      "execution_count": 92,
      "outputs": []
    },
    {
      "cell_type": "code",
      "source": [
        " df_unique['NextMinClosePrice'] =df_unique['Close'].shift(periods=-1)"
      ],
      "metadata": {
        "id": "KKooHFlEDJnW"
      },
      "execution_count": 95,
      "outputs": []
    },
    {
      "cell_type": "code",
      "source": [
        " df_unique['NetGainInMinute'] =df_unique['NextMinClosePrice']-df_unique['Close']"
      ],
      "metadata": {
        "id": "8A_Ti_HvD2Xz"
      },
      "execution_count": 98,
      "outputs": []
    },
    {
      "cell_type": "code",
      "source": [
        "df_unique[['Close','NextMinClosePrice','14minEMAonOpen','Gap']]"
      ],
      "metadata": {
        "colab": {
          "base_uri": "https://localhost:8080/",
          "height": 455
        },
        "id": "m2zzm6tI9tXu",
        "outputId": "4e953948-d009-49d1-b3ad-8e719e6a98eb"
      },
      "execution_count": 96,
      "outputs": [
        {
          "output_type": "execute_result",
          "data": {
            "text/html": [
              "\n",
              "  <div id=\"df-07cd4659-e2ba-44c9-b309-5bdf6f3d69e7\">\n",
              "    <div class=\"colab-df-container\">\n",
              "      <div>\n",
              "<style scoped>\n",
              "    .dataframe tbody tr th:only-of-type {\n",
              "        vertical-align: middle;\n",
              "    }\n",
              "\n",
              "    .dataframe tbody tr th {\n",
              "        vertical-align: top;\n",
              "    }\n",
              "\n",
              "    .dataframe thead th {\n",
              "        text-align: right;\n",
              "    }\n",
              "</style>\n",
              "<table border=\"1\" class=\"dataframe\">\n",
              "  <thead>\n",
              "    <tr style=\"text-align: right;\">\n",
              "      <th></th>\n",
              "      <th>Close</th>\n",
              "      <th>NextMinClosePrice</th>\n",
              "      <th>14minEMAonOpen</th>\n",
              "      <th>Gap</th>\n",
              "    </tr>\n",
              "    <tr>\n",
              "      <th>TimeStamp</th>\n",
              "      <th></th>\n",
              "      <th></th>\n",
              "      <th></th>\n",
              "      <th></th>\n",
              "    </tr>\n",
              "  </thead>\n",
              "  <tbody>\n",
              "    <tr>\n",
              "      <th>2022-01-31 16:19:00</th>\n",
              "      <td>172.8101</td>\n",
              "      <td>172.8500</td>\n",
              "      <td>172.810100</td>\n",
              "      <td>0.000000</td>\n",
              "    </tr>\n",
              "    <tr>\n",
              "      <th>2022-01-31 16:20:00</th>\n",
              "      <td>172.8500</td>\n",
              "      <td>172.7998</td>\n",
              "      <td>172.831475</td>\n",
              "      <td>0.018525</td>\n",
              "    </tr>\n",
              "    <tr>\n",
              "      <th>2022-01-31 16:21:00</th>\n",
              "      <td>172.7998</td>\n",
              "      <td>172.6200</td>\n",
              "      <td>172.819375</td>\n",
              "      <td>-0.019575</td>\n",
              "    </tr>\n",
              "    <tr>\n",
              "      <th>2022-01-31 16:22:00</th>\n",
              "      <td>172.6200</td>\n",
              "      <td>172.5674</td>\n",
              "      <td>172.758381</td>\n",
              "      <td>-0.138381</td>\n",
              "    </tr>\n",
              "    <tr>\n",
              "      <th>2022-01-31 16:23:00</th>\n",
              "      <td>172.5674</td>\n",
              "      <td>172.5450</td>\n",
              "      <td>172.708554</td>\n",
              "      <td>-0.141154</td>\n",
              "    </tr>\n",
              "    <tr>\n",
              "      <th>...</th>\n",
              "      <td>...</td>\n",
              "      <td>...</td>\n",
              "      <td>...</td>\n",
              "      <td>...</td>\n",
              "    </tr>\n",
              "    <tr>\n",
              "      <th>2022-01-31 21:56:00</th>\n",
              "      <td>174.3400</td>\n",
              "      <td>174.3400</td>\n",
              "      <td>174.340800</td>\n",
              "      <td>-0.000800</td>\n",
              "    </tr>\n",
              "    <tr>\n",
              "      <th>2022-01-31 21:57:00</th>\n",
              "      <td>174.3400</td>\n",
              "      <td>174.3500</td>\n",
              "      <td>174.340693</td>\n",
              "      <td>-0.000693</td>\n",
              "    </tr>\n",
              "    <tr>\n",
              "      <th>2022-01-31 21:59:00</th>\n",
              "      <td>174.3500</td>\n",
              "      <td>174.3400</td>\n",
              "      <td>174.341934</td>\n",
              "      <td>0.008066</td>\n",
              "    </tr>\n",
              "    <tr>\n",
              "      <th>2022-01-31 22:00:00</th>\n",
              "      <td>174.3400</td>\n",
              "      <td>174.3200</td>\n",
              "      <td>174.341676</td>\n",
              "      <td>-0.001676</td>\n",
              "    </tr>\n",
              "    <tr>\n",
              "      <th>2022-01-31 22:03:00</th>\n",
              "      <td>174.3200</td>\n",
              "      <td>NaN</td>\n",
              "      <td>174.338786</td>\n",
              "      <td>-0.018786</td>\n",
              "    </tr>\n",
              "  </tbody>\n",
              "</table>\n",
              "<p>341 rows × 4 columns</p>\n",
              "</div>\n",
              "      <button class=\"colab-df-convert\" onclick=\"convertToInteractive('df-07cd4659-e2ba-44c9-b309-5bdf6f3d69e7')\"\n",
              "              title=\"Convert this dataframe to an interactive table.\"\n",
              "              style=\"display:none;\">\n",
              "        \n",
              "  <svg xmlns=\"http://www.w3.org/2000/svg\" height=\"24px\"viewBox=\"0 0 24 24\"\n",
              "       width=\"24px\">\n",
              "    <path d=\"M0 0h24v24H0V0z\" fill=\"none\"/>\n",
              "    <path d=\"M18.56 5.44l.94 2.06.94-2.06 2.06-.94-2.06-.94-.94-2.06-.94 2.06-2.06.94zm-11 1L8.5 8.5l.94-2.06 2.06-.94-2.06-.94L8.5 2.5l-.94 2.06-2.06.94zm10 10l.94 2.06.94-2.06 2.06-.94-2.06-.94-.94-2.06-.94 2.06-2.06.94z\"/><path d=\"M17.41 7.96l-1.37-1.37c-.4-.4-.92-.59-1.43-.59-.52 0-1.04.2-1.43.59L10.3 9.45l-7.72 7.72c-.78.78-.78 2.05 0 2.83L4 21.41c.39.39.9.59 1.41.59.51 0 1.02-.2 1.41-.59l7.78-7.78 2.81-2.81c.8-.78.8-2.07 0-2.86zM5.41 20L4 18.59l7.72-7.72 1.47 1.35L5.41 20z\"/>\n",
              "  </svg>\n",
              "      </button>\n",
              "      \n",
              "  <style>\n",
              "    .colab-df-container {\n",
              "      display:flex;\n",
              "      flex-wrap:wrap;\n",
              "      gap: 12px;\n",
              "    }\n",
              "\n",
              "    .colab-df-convert {\n",
              "      background-color: #E8F0FE;\n",
              "      border: none;\n",
              "      border-radius: 50%;\n",
              "      cursor: pointer;\n",
              "      display: none;\n",
              "      fill: #1967D2;\n",
              "      height: 32px;\n",
              "      padding: 0 0 0 0;\n",
              "      width: 32px;\n",
              "    }\n",
              "\n",
              "    .colab-df-convert:hover {\n",
              "      background-color: #E2EBFA;\n",
              "      box-shadow: 0px 1px 2px rgba(60, 64, 67, 0.3), 0px 1px 3px 1px rgba(60, 64, 67, 0.15);\n",
              "      fill: #174EA6;\n",
              "    }\n",
              "\n",
              "    [theme=dark] .colab-df-convert {\n",
              "      background-color: #3B4455;\n",
              "      fill: #D2E3FC;\n",
              "    }\n",
              "\n",
              "    [theme=dark] .colab-df-convert:hover {\n",
              "      background-color: #434B5C;\n",
              "      box-shadow: 0px 1px 3px 1px rgba(0, 0, 0, 0.15);\n",
              "      filter: drop-shadow(0px 1px 2px rgba(0, 0, 0, 0.3));\n",
              "      fill: #FFFFFF;\n",
              "    }\n",
              "  </style>\n",
              "\n",
              "      <script>\n",
              "        const buttonEl =\n",
              "          document.querySelector('#df-07cd4659-e2ba-44c9-b309-5bdf6f3d69e7 button.colab-df-convert');\n",
              "        buttonEl.style.display =\n",
              "          google.colab.kernel.accessAllowed ? 'block' : 'none';\n",
              "\n",
              "        async function convertToInteractive(key) {\n",
              "          const element = document.querySelector('#df-07cd4659-e2ba-44c9-b309-5bdf6f3d69e7');\n",
              "          const dataTable =\n",
              "            await google.colab.kernel.invokeFunction('convertToInteractive',\n",
              "                                                     [key], {});\n",
              "          if (!dataTable) return;\n",
              "\n",
              "          const docLinkHtml = 'Like what you see? Visit the ' +\n",
              "            '<a target=\"_blank\" href=https://colab.research.google.com/notebooks/data_table.ipynb>data table notebook</a>'\n",
              "            + ' to learn more about interactive tables.';\n",
              "          element.innerHTML = '';\n",
              "          dataTable['output_type'] = 'display_data';\n",
              "          await google.colab.output.renderOutput(dataTable, element);\n",
              "          const docLink = document.createElement('div');\n",
              "          docLink.innerHTML = docLinkHtml;\n",
              "          element.appendChild(docLink);\n",
              "        }\n",
              "      </script>\n",
              "    </div>\n",
              "  </div>\n",
              "  "
            ],
            "text/plain": [
              "                        Close  NextMinClosePrice  14minEMAonOpen       Gap\n",
              "TimeStamp                                                                 \n",
              "2022-01-31 16:19:00  172.8101           172.8500      172.810100  0.000000\n",
              "2022-01-31 16:20:00  172.8500           172.7998      172.831475  0.018525\n",
              "2022-01-31 16:21:00  172.7998           172.6200      172.819375 -0.019575\n",
              "2022-01-31 16:22:00  172.6200           172.5674      172.758381 -0.138381\n",
              "2022-01-31 16:23:00  172.5674           172.5450      172.708554 -0.141154\n",
              "...                       ...                ...             ...       ...\n",
              "2022-01-31 21:56:00  174.3400           174.3400      174.340800 -0.000800\n",
              "2022-01-31 21:57:00  174.3400           174.3500      174.340693 -0.000693\n",
              "2022-01-31 21:59:00  174.3500           174.3400      174.341934  0.008066\n",
              "2022-01-31 22:00:00  174.3400           174.3200      174.341676 -0.001676\n",
              "2022-01-31 22:03:00  174.3200                NaN      174.338786 -0.018786\n",
              "\n",
              "[341 rows x 4 columns]"
            ]
          },
          "metadata": {},
          "execution_count": 96
        }
      ]
    },
    {
      "cell_type": "code",
      "source": [
        "df_unique['Gap'].plot.hist(bins =30)"
      ],
      "metadata": {
        "colab": {
          "base_uri": "https://localhost:8080/",
          "height": 282
        },
        "id": "Ka6jAVtt97y-",
        "outputId": "615744a8-d877-4bf8-ebb7-4e3dd23800c1"
      },
      "execution_count": 84,
      "outputs": [
        {
          "output_type": "execute_result",
          "data": {
            "text/plain": [
              "<matplotlib.axes._subplots.AxesSubplot at 0x7fbd39395e10>"
            ]
          },
          "metadata": {},
          "execution_count": 84
        },
        {
          "output_type": "display_data",
          "data": {
            "image/png": "[encoded data removed]",
            "text/plain": [
              "<Figure size 432x288 with 1 Axes>"
            ]
          },
          "metadata": {
            "needs_background": "light"
          }
        }
      ]
    },
    {
      "cell_type": "code",
      "source": [
        "df_unique[df_unique['Gap']<0][['Close','NextMinClosePrice','14minEMAonOpen','Gap','NetGainInMinute']].count()"
      ],
      "metadata": {
        "colab": {
          "base_uri": "https://localhost:8080/"
        },
        "id": "KsA6r9gTAmP1",
        "outputId": "9a1ff5b2-2f74-4208-aa51-2b9619c198b1"
      },
      "execution_count": 109,
      "outputs": [
        {
          "output_type": "execute_result",
          "data": {
            "text/plain": [
              "Close                158\n",
              "NextMinClosePrice    157\n",
              "14minEMAonOpen       158\n",
              "Gap                  158\n",
              "NetGainInMinute      157\n",
              "dtype: int64"
            ]
          },
          "metadata": {},
          "execution_count": 109
        }
      ]
    },
    {
      "cell_type": "code",
      "source": [
        "df_unique[df_unique['Gap']<0][['Close','NextMinClosePrice','14minEMAonOpen','Gap','NetGainInMinute']]['NetGainInMinute'].sum()"
      ],
      "metadata": {
        "colab": {
          "base_uri": "https://localhost:8080/"
        },
        "id": "6keJ1gA5EStD",
        "outputId": "04293342-575c-438a-b3ac-ba2f1072a212"
      },
      "execution_count": 110,
      "outputs": [
        {
          "output_type": "execute_result",
          "data": {
            "text/plain": [
              "2.3140999999998826"
            ]
          },
          "metadata": {},
          "execution_count": 110
        }
      ]
    }
  ]
}