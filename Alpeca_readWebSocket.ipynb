{
  "nbformat": 4,
  "nbformat_minor": 0,
  "metadata": {
    "colab": {
      "name": "Alpeca_readWebSocket.ipynb",
      "provenance": [],
      "authorship_tag": "ABX9TyNCRQLLFjGchBm/KEXIuNnV",
      "include_colab_link": true
    },
    "kernelspec": {
      "name": "python3",
      "display_name": "Python 3"
    },
    "language_info": {
      "name": "python"
    }
  },
  "cells": [
    {
      "cell_type": "markdown",
      "metadata": {
        "id": "view-in-github",
        "colab_type": "text"
      },
      "source": [
        "<a href=\"https://colab.research.google.com/github/paridaabhishek/Alpacatrade/blob/master/Alpeca_readWebSocket.ipynb\" target=\"_parent\"><img src=\"https://colab.research.google.com/assets/colab-badge.svg\" alt=\"Open In Colab\"/></a>"
      ]
    },
    {
      "cell_type": "code",
      "execution_count": 1,
      "metadata": {
        "colab": {
          "base_uri": "https://localhost:8080/"
        },
        "id": "ZF0HuOpIoPLY",
        "outputId": "42224703-b31c-406a-b157-0c066cb04cb9"
      },
      "outputs": [
        {
          "output_type": "stream",
          "name": "stdout",
          "text": [
            "Mounted at /content/drive\n"
          ]
        }
      ],
      "source": [
        "from google.colab import drive\n",
        "drive.mount('/content/drive')\n"
      ]
    },
    {
      "cell_type": "code",
      "source": [
        "import pandas as pd\n",
        "from datetime import datetime"
      ],
      "metadata": {
        "id": "ibp-kf-JoeuJ"
      },
      "execution_count": 2,
      "outputs": []
    },
    {
      "cell_type": "code",
      "source": [
        "df = pd.read_csv('/content/drive/MyDrive/AAPL.csv',skiprows=3,index_col=False)\n",
        "\n",
        "df.columns"
      ],
      "metadata": {
        "colab": {
          "base_uri": "https://localhost:8080/"
        },
        "id": "ko30F1CRok8m",
        "outputId": "00b7d024-a510-459c-c25e-ab5ab90674f1"
      },
      "execution_count": 18,
      "outputs": [
        {
          "output_type": "execute_result",
          "data": {
            "text/plain": [
              "Index(['b', 'AAPL', '172.9', '172.83', '172.93', '172.73', '139404',\n",
              "       '2022-01-31T16:18:00Z', '1535', '172.824783'],\n",
              "      dtype='object')"
            ]
          },
          "metadata": {},
          "execution_count": 18
        }
      ]
    },
    {
      "cell_type": "code",
      "source": [
        ""
      ],
      "metadata": {
        "id": "jST6w2eZxWZ4"
      },
      "execution_count": 3,
      "outputs": []
    },
    {
      "cell_type": "code",
      "source": [
        "df.columns =['Message Type', \n",
        "             'Symbol', \n",
        "             'Open', \n",
        "             'Close',\n",
        "             'High',\n",
        "             'Low',\n",
        "             'Volume',\n",
        "             'TimeStamp',\n",
        "             'n',\n",
        "             'vw']\n",
        "\n",
        "             "
      ],
      "metadata": {
        "id": "LBOEdyTpp_No"
      },
      "execution_count": 19,
      "outputs": []
    },
    {
      "cell_type": "code",
      "source": [
        "df\n"
      ],
      "metadata": {
        "colab": {
          "base_uri": "https://localhost:8080/",
          "height": 424
        },
        "id": "r-qmGjbUxwV9",
        "outputId": "9fcc6efb-ada1-4fa6-d008-04fea7afbad3"
      },
      "execution_count": 31,
      "outputs": [
        {
          "output_type": "execute_result",
          "data": {
            "text/html": [
              "\n",
              "  <div id=\"df-9d34a832-9619-4916-ab3c-3ee92e2501b8\">\n",
              "    <div class=\"colab-df-container\">\n",
              "      <div>\n",
              "<style scoped>\n",
              "    .dataframe tbody tr th:only-of-type {\n",
              "        vertical-align: middle;\n",
              "    }\n",
              "\n",
              "    .dataframe tbody tr th {\n",
              "        vertical-align: top;\n",
              "    }\n",
              "\n",
              "    .dataframe thead th {\n",
              "        text-align: right;\n",
              "    }\n",
              "</style>\n",
              "<table border=\"1\" class=\"dataframe\">\n",
              "  <thead>\n",
              "    <tr style=\"text-align: right;\">\n",
              "      <th></th>\n",
              "      <th>Message Type</th>\n",
              "      <th>Symbol</th>\n",
              "      <th>Open</th>\n",
              "      <th>Close</th>\n",
              "      <th>High</th>\n",
              "      <th>Low</th>\n",
              "      <th>Volume</th>\n",
              "      <th>TimeStamp</th>\n",
              "      <th>n</th>\n",
              "      <th>vw</th>\n",
              "    </tr>\n",
              "  </thead>\n",
              "  <tbody>\n",
              "    <tr>\n",
              "      <th>0</th>\n",
              "      <td>b</td>\n",
              "      <td>AAPL</td>\n",
              "      <td>172.82</td>\n",
              "      <td>172.8101</td>\n",
              "      <td>172.95</td>\n",
              "      <td>172.7000</td>\n",
              "      <td>131099</td>\n",
              "      <td>2022-01-31T16:19:00Z</td>\n",
              "      <td>1615</td>\n",
              "      <td>172.819059</td>\n",
              "    </tr>\n",
              "    <tr>\n",
              "      <th>1</th>\n",
              "      <td>b</td>\n",
              "      <td>AAPL</td>\n",
              "      <td>172.82</td>\n",
              "      <td>172.8500</td>\n",
              "      <td>172.98</td>\n",
              "      <td>172.8100</td>\n",
              "      <td>177425</td>\n",
              "      <td>2022-01-31T16:20:00Z</td>\n",
              "      <td>1987</td>\n",
              "      <td>172.887658</td>\n",
              "    </tr>\n",
              "    <tr>\n",
              "      <th>2</th>\n",
              "      <td>b</td>\n",
              "      <td>AAPL</td>\n",
              "      <td>172.82</td>\n",
              "      <td>172.8500</td>\n",
              "      <td>172.98</td>\n",
              "      <td>172.8100</td>\n",
              "      <td>177426</td>\n",
              "      <td>2022-01-31T16:20:00Z</td>\n",
              "      <td>1988</td>\n",
              "      <td>172.887658</td>\n",
              "    </tr>\n",
              "    <tr>\n",
              "      <th>3</th>\n",
              "      <td>b</td>\n",
              "      <td>AAPL</td>\n",
              "      <td>172.85</td>\n",
              "      <td>172.7998</td>\n",
              "      <td>173.00</td>\n",
              "      <td>172.7998</td>\n",
              "      <td>146230</td>\n",
              "      <td>2022-01-31T16:21:00Z</td>\n",
              "      <td>1756</td>\n",
              "      <td>172.895073</td>\n",
              "    </tr>\n",
              "    <tr>\n",
              "      <th>4</th>\n",
              "      <td>b</td>\n",
              "      <td>AAPL</td>\n",
              "      <td>172.79</td>\n",
              "      <td>172.6200</td>\n",
              "      <td>172.79</td>\n",
              "      <td>172.5000</td>\n",
              "      <td>266468</td>\n",
              "      <td>2022-01-31T16:22:00Z</td>\n",
              "      <td>2706</td>\n",
              "      <td>172.613082</td>\n",
              "    </tr>\n",
              "    <tr>\n",
              "      <th>...</th>\n",
              "      <td>...</td>\n",
              "      <td>...</td>\n",
              "      <td>...</td>\n",
              "      <td>...</td>\n",
              "      <td>...</td>\n",
              "      <td>...</td>\n",
              "      <td>...</td>\n",
              "      <td>...</td>\n",
              "      <td>...</td>\n",
              "      <td>...</td>\n",
              "    </tr>\n",
              "    <tr>\n",
              "      <th>412</th>\n",
              "      <td>b</td>\n",
              "      <td>AAPL</td>\n",
              "      <td>174.33</td>\n",
              "      <td>174.3400</td>\n",
              "      <td>174.34</td>\n",
              "      <td>174.3000</td>\n",
              "      <td>1514</td>\n",
              "      <td>2022-01-31T21:56:00Z</td>\n",
              "      <td>30</td>\n",
              "      <td>174.318900</td>\n",
              "    </tr>\n",
              "    <tr>\n",
              "      <th>413</th>\n",
              "      <td>b</td>\n",
              "      <td>AAPL</td>\n",
              "      <td>174.34</td>\n",
              "      <td>174.3400</td>\n",
              "      <td>174.34</td>\n",
              "      <td>174.3200</td>\n",
              "      <td>2031</td>\n",
              "      <td>2022-01-31T21:57:00Z</td>\n",
              "      <td>47</td>\n",
              "      <td>174.335862</td>\n",
              "    </tr>\n",
              "    <tr>\n",
              "      <th>414</th>\n",
              "      <td>b</td>\n",
              "      <td>AAPL</td>\n",
              "      <td>174.35</td>\n",
              "      <td>174.3500</td>\n",
              "      <td>174.35</td>\n",
              "      <td>174.3500</td>\n",
              "      <td>515</td>\n",
              "      <td>2022-01-31T21:59:00Z</td>\n",
              "      <td>24</td>\n",
              "      <td>174.336806</td>\n",
              "    </tr>\n",
              "    <tr>\n",
              "      <th>415</th>\n",
              "      <td>b</td>\n",
              "      <td>AAPL</td>\n",
              "      <td>174.35</td>\n",
              "      <td>174.3400</td>\n",
              "      <td>174.35</td>\n",
              "      <td>174.3400</td>\n",
              "      <td>1228</td>\n",
              "      <td>2022-01-31T22:00:00Z</td>\n",
              "      <td>22</td>\n",
              "      <td>174.350094</td>\n",
              "    </tr>\n",
              "    <tr>\n",
              "      <th>416</th>\n",
              "      <td>b</td>\n",
              "      <td>AAPL</td>\n",
              "      <td>174.32</td>\n",
              "      <td>174.3200</td>\n",
              "      <td>174.32</td>\n",
              "      <td>174.3200</td>\n",
              "      <td>2729</td>\n",
              "      <td>2022-01-31T22:03:00Z</td>\n",
              "      <td>35</td>\n",
              "      <td>174.320606</td>\n",
              "    </tr>\n",
              "  </tbody>\n",
              "</table>\n",
              "<p>417 rows × 10 columns</p>\n",
              "</div>\n",
              "      <button class=\"colab-df-convert\" onclick=\"convertToInteractive('df-9d34a832-9619-4916-ab3c-3ee92e2501b8')\"\n",
              "              title=\"Convert this dataframe to an interactive table.\"\n",
              "              style=\"display:none;\">\n",
              "        \n",
              "  <svg xmlns=\"http://www.w3.org/2000/svg\" height=\"24px\"viewBox=\"0 0 24 24\"\n",
              "       width=\"24px\">\n",
              "    <path d=\"M0 0h24v24H0V0z\" fill=\"none\"/>\n",
              "    <path d=\"M18.56 5.44l.94 2.06.94-2.06 2.06-.94-2.06-.94-.94-2.06-.94 2.06-2.06.94zm-11 1L8.5 8.5l.94-2.06 2.06-.94-2.06-.94L8.5 2.5l-.94 2.06-2.06.94zm10 10l.94 2.06.94-2.06 2.06-.94-2.06-.94-.94-2.06-.94 2.06-2.06.94z\"/><path d=\"M17.41 7.96l-1.37-1.37c-.4-.4-.92-.59-1.43-.59-.52 0-1.04.2-1.43.59L10.3 9.45l-7.72 7.72c-.78.78-.78 2.05 0 2.83L4 21.41c.39.39.9.59 1.41.59.51 0 1.02-.2 1.41-.59l7.78-7.78 2.81-2.81c.8-.78.8-2.07 0-2.86zM5.41 20L4 18.59l7.72-7.72 1.47 1.35L5.41 20z\"/>\n",
              "  </svg>\n",
              "      </button>\n",
              "      \n",
              "  <style>\n",
              "    .colab-df-container {\n",
              "      display:flex;\n",
              "      flex-wrap:wrap;\n",
              "      gap: 12px;\n",
              "    }\n",
              "\n",
              "    .colab-df-convert {\n",
              "      background-color: #E8F0FE;\n",
              "      border: none;\n",
              "      border-radius: 50%;\n",
              "      cursor: pointer;\n",
              "      display: none;\n",
              "      fill: #1967D2;\n",
              "      height: 32px;\n",
              "      padding: 0 0 0 0;\n",
              "      width: 32px;\n",
              "    }\n",
              "\n",
              "    .colab-df-convert:hover {\n",
              "      background-color: #E2EBFA;\n",
              "      box-shadow: 0px 1px 2px rgba(60, 64, 67, 0.3), 0px 1px 3px 1px rgba(60, 64, 67, 0.15);\n",
              "      fill: #174EA6;\n",
              "    }\n",
              "\n",
              "    [theme=dark] .colab-df-convert {\n",
              "      background-color: #3B4455;\n",
              "      fill: #D2E3FC;\n",
              "    }\n",
              "\n",
              "    [theme=dark] .colab-df-convert:hover {\n",
              "      background-color: #434B5C;\n",
              "      box-shadow: 0px 1px 3px 1px rgba(0, 0, 0, 0.15);\n",
              "      filter: drop-shadow(0px 1px 2px rgba(0, 0, 0, 0.3));\n",
              "      fill: #FFFFFF;\n",
              "    }\n",
              "  </style>\n",
              "\n",
              "      <script>\n",
              "        const buttonEl =\n",
              "          document.querySelector('#df-9d34a832-9619-4916-ab3c-3ee92e2501b8 button.colab-df-convert');\n",
              "        buttonEl.style.display =\n",
              "          google.colab.kernel.accessAllowed ? 'block' : 'none';\n",
              "\n",
              "        async function convertToInteractive(key) {\n",
              "          const element = document.querySelector('#df-9d34a832-9619-4916-ab3c-3ee92e2501b8');\n",
              "          const dataTable =\n",
              "            await google.colab.kernel.invokeFunction('convertToInteractive',\n",
              "                                                     [key], {});\n",
              "          if (!dataTable) return;\n",
              "\n",
              "          const docLinkHtml = 'Like what you see? Visit the ' +\n",
              "            '<a target=\"_blank\" href=https://colab.research.google.com/notebooks/data_table.ipynb>data table notebook</a>'\n",
              "            + ' to learn more about interactive tables.';\n",
              "          element.innerHTML = '';\n",
              "          dataTable['output_type'] = 'display_data';\n",
              "          await google.colab.output.renderOutput(dataTable, element);\n",
              "          const docLink = document.createElement('div');\n",
              "          docLink.innerHTML = docLinkHtml;\n",
              "          element.appendChild(docLink);\n",
              "        }\n",
              "      </script>\n",
              "    </div>\n",
              "  </div>\n",
              "  "
            ],
            "text/plain": [
              "    Message Type Symbol    Open  ...             TimeStamp     n          vw\n",
              "0              b   AAPL  172.82  ...  2022-01-31T16:19:00Z  1615  172.819059\n",
              "1              b   AAPL  172.82  ...  2022-01-31T16:20:00Z  1987  172.887658\n",
              "2              b   AAPL  172.82  ...  2022-01-31T16:20:00Z  1988  172.887658\n",
              "3              b   AAPL  172.85  ...  2022-01-31T16:21:00Z  1756  172.895073\n",
              "4              b   AAPL  172.79  ...  2022-01-31T16:22:00Z  2706  172.613082\n",
              "..           ...    ...     ...  ...                   ...   ...         ...\n",
              "412            b   AAPL  174.33  ...  2022-01-31T21:56:00Z    30  174.318900\n",
              "413            b   AAPL  174.34  ...  2022-01-31T21:57:00Z    47  174.335862\n",
              "414            b   AAPL  174.35  ...  2022-01-31T21:59:00Z    24  174.336806\n",
              "415            b   AAPL  174.35  ...  2022-01-31T22:00:00Z    22  174.350094\n",
              "416            b   AAPL  174.32  ...  2022-01-31T22:03:00Z    35  174.320606\n",
              "\n",
              "[417 rows x 10 columns]"
            ]
          },
          "metadata": {},
          "execution_count": 31
        }
      ]
    },
    {
      "cell_type": "code",
      "source": [
        ""
      ],
      "metadata": {
        "id": "Lafl4Ig36h6P"
      },
      "execution_count": 68,
      "outputs": []
    },
    {
      "cell_type": "code",
      "source": [
        "df_unique=df.drop_duplicates(subset=['TimeStamp']).copy()\n"
      ],
      "metadata": {
        "id": "QSYklMVIy2I8"
      },
      "execution_count": 26,
      "outputs": []
    },
    {
      "cell_type": "code",
      "source": [
        "df_unique.info()"
      ],
      "metadata": {
        "colab": {
          "base_uri": "https://localhost:8080/"
        },
        "id": "cgKsqMEtPxQQ",
        "outputId": "9670150d-9904-4a59-f6a9-a0a91c6e51c5"
      },
      "execution_count": 27,
      "outputs": [
        {
          "output_type": "stream",
          "name": "stdout",
          "text": [
            "<class 'pandas.core.frame.DataFrame'>\n",
            "Int64Index: 341 entries, 0 to 416\n",
            "Data columns (total 10 columns):\n",
            " #   Column        Non-Null Count  Dtype  \n",
            "---  ------        --------------  -----  \n",
            " 0   Message Type  341 non-null    object \n",
            " 1   Symbol        341 non-null    object \n",
            " 2   Open          341 non-null    float64\n",
            " 3   Close         341 non-null    float64\n",
            " 4   High          341 non-null    float64\n",
            " 5   Low           341 non-null    float64\n",
            " 6   Volume        341 non-null    int64  \n",
            " 7   TimeStamp     341 non-null    object \n",
            " 8   n             341 non-null    int64  \n",
            " 9   vw            341 non-null    float64\n",
            "dtypes: float64(5), int64(2), object(3)\n",
            "memory usage: 29.3+ KB\n"
          ]
        }
      ]
    },
    {
      "cell_type": "code",
      "source": [
        "import pandas as pd\n",
        "pd.options.mode.chained_assignment = None"
      ],
      "metadata": {
        "id": "TvpFNSkYPpF8"
      },
      "execution_count": 84,
      "outputs": []
    },
    {
      "cell_type": "code",
      "source": [
        "df.loc[1,'TimeStamp'] = 'AA'"
      ],
      "metadata": {
        "id": "JtOX2lYrOFxn"
      },
      "execution_count": 17,
      "outputs": []
    },
    {
      "cell_type": "code",
      "source": [
        "df_unique.loc[:,'TimeStamp'] = 'AA'\n"
      ],
      "metadata": {
        "id": "ZCcai9icxKuE"
      },
      "execution_count": 28,
      "outputs": []
    },
    {
      "cell_type": "code",
      "source": [
        "df_unique.count()"
      ],
      "metadata": {
        "colab": {
          "base_uri": "https://localhost:8080/"
        },
        "id": "6saCbDnYOglr",
        "outputId": "d251affd-2817-40de-be4d-5d6535f2371c"
      },
      "execution_count": 29,
      "outputs": [
        {
          "output_type": "execute_result",
          "data": {
            "text/plain": [
              "Message Type    341\n",
              "Symbol          341\n",
              "Open            341\n",
              "Close           341\n",
              "High            341\n",
              "Low             341\n",
              "Volume          341\n",
              "TimeStamp       341\n",
              "n               341\n",
              "vw              341\n",
              "dtype: int64"
            ]
          },
          "metadata": {},
          "execution_count": 29
        }
      ]
    },
    {
      "cell_type": "code",
      "source": [
        "df_unique.tail()"
      ],
      "metadata": {
        "colab": {
          "base_uri": "https://localhost:8080/",
          "height": 206
        },
        "id": "CSPUuaT5P8F_",
        "outputId": "56282c2e-ea2b-4092-e6ce-0415fae1a4fe"
      },
      "execution_count": 89,
      "outputs": [
        {
          "output_type": "execute_result",
          "data": {
            "text/html": [
              "\n",
              "  <div id=\"df-adfabb93-eee2-4b50-a6c4-b8d74217f8c4\">\n",
              "    <div class=\"colab-df-container\">\n",
              "      <div>\n",
              "<style scoped>\n",
              "    .dataframe tbody tr th:only-of-type {\n",
              "        vertical-align: middle;\n",
              "    }\n",
              "\n",
              "    .dataframe tbody tr th {\n",
              "        vertical-align: top;\n",
              "    }\n",
              "\n",
              "    .dataframe thead th {\n",
              "        text-align: right;\n",
              "    }\n",
              "</style>\n",
              "<table border=\"1\" class=\"dataframe\">\n",
              "  <thead>\n",
              "    <tr style=\"text-align: right;\">\n",
              "      <th></th>\n",
              "      <th>Message Type</th>\n",
              "      <th>Symbol</th>\n",
              "      <th>Open</th>\n",
              "      <th>Close</th>\n",
              "      <th>High</th>\n",
              "      <th>Low</th>\n",
              "      <th>Volume</th>\n",
              "      <th>TimeStamp</th>\n",
              "      <th>n</th>\n",
              "      <th>vw</th>\n",
              "    </tr>\n",
              "  </thead>\n",
              "  <tbody>\n",
              "    <tr>\n",
              "      <th>412</th>\n",
              "      <td>b</td>\n",
              "      <td>AAPL</td>\n",
              "      <td>174.33</td>\n",
              "      <td>174.34</td>\n",
              "      <td>174.34</td>\n",
              "      <td>174.30</td>\n",
              "      <td>1514</td>\n",
              "      <td>2022-01-31 21:56:00</td>\n",
              "      <td>30</td>\n",
              "      <td>174.318900</td>\n",
              "    </tr>\n",
              "    <tr>\n",
              "      <th>413</th>\n",
              "      <td>b</td>\n",
              "      <td>AAPL</td>\n",
              "      <td>174.34</td>\n",
              "      <td>174.34</td>\n",
              "      <td>174.34</td>\n",
              "      <td>174.32</td>\n",
              "      <td>2031</td>\n",
              "      <td>2022-01-31 21:57:00</td>\n",
              "      <td>47</td>\n",
              "      <td>174.335862</td>\n",
              "    </tr>\n",
              "    <tr>\n",
              "      <th>414</th>\n",
              "      <td>b</td>\n",
              "      <td>AAPL</td>\n",
              "      <td>174.35</td>\n",
              "      <td>174.35</td>\n",
              "      <td>174.35</td>\n",
              "      <td>174.35</td>\n",
              "      <td>515</td>\n",
              "      <td>2022-01-31 21:59:00</td>\n",
              "      <td>24</td>\n",
              "      <td>174.336806</td>\n",
              "    </tr>\n",
              "    <tr>\n",
              "      <th>415</th>\n",
              "      <td>b</td>\n",
              "      <td>AAPL</td>\n",
              "      <td>174.35</td>\n",
              "      <td>174.34</td>\n",
              "      <td>174.35</td>\n",
              "      <td>174.34</td>\n",
              "      <td>1228</td>\n",
              "      <td>2022-01-31 22:00:00</td>\n",
              "      <td>22</td>\n",
              "      <td>174.350094</td>\n",
              "    </tr>\n",
              "    <tr>\n",
              "      <th>416</th>\n",
              "      <td>b</td>\n",
              "      <td>AAPL</td>\n",
              "      <td>174.32</td>\n",
              "      <td>174.32</td>\n",
              "      <td>174.32</td>\n",
              "      <td>174.32</td>\n",
              "      <td>2729</td>\n",
              "      <td>2022-01-31 22:03:00</td>\n",
              "      <td>35</td>\n",
              "      <td>174.320606</td>\n",
              "    </tr>\n",
              "  </tbody>\n",
              "</table>\n",
              "</div>\n",
              "      <button class=\"colab-df-convert\" onclick=\"convertToInteractive('df-adfabb93-eee2-4b50-a6c4-b8d74217f8c4')\"\n",
              "              title=\"Convert this dataframe to an interactive table.\"\n",
              "              style=\"display:none;\">\n",
              "        \n",
              "  <svg xmlns=\"http://www.w3.org/2000/svg\" height=\"24px\"viewBox=\"0 0 24 24\"\n",
              "       width=\"24px\">\n",
              "    <path d=\"M0 0h24v24H0V0z\" fill=\"none\"/>\n",
              "    <path d=\"M18.56 5.44l.94 2.06.94-2.06 2.06-.94-2.06-.94-.94-2.06-.94 2.06-2.06.94zm-11 1L8.5 8.5l.94-2.06 2.06-.94-2.06-.94L8.5 2.5l-.94 2.06-2.06.94zm10 10l.94 2.06.94-2.06 2.06-.94-2.06-.94-.94-2.06-.94 2.06-2.06.94z\"/><path d=\"M17.41 7.96l-1.37-1.37c-.4-.4-.92-.59-1.43-.59-.52 0-1.04.2-1.43.59L10.3 9.45l-7.72 7.72c-.78.78-.78 2.05 0 2.83L4 21.41c.39.39.9.59 1.41.59.51 0 1.02-.2 1.41-.59l7.78-7.78 2.81-2.81c.8-.78.8-2.07 0-2.86zM5.41 20L4 18.59l7.72-7.72 1.47 1.35L5.41 20z\"/>\n",
              "  </svg>\n",
              "      </button>\n",
              "      \n",
              "  <style>\n",
              "    .colab-df-container {\n",
              "      display:flex;\n",
              "      flex-wrap:wrap;\n",
              "      gap: 12px;\n",
              "    }\n",
              "\n",
              "    .colab-df-convert {\n",
              "      background-color: #E8F0FE;\n",
              "      border: none;\n",
              "      border-radius: 50%;\n",
              "      cursor: pointer;\n",
              "      display: none;\n",
              "      fill: #1967D2;\n",
              "      height: 32px;\n",
              "      padding: 0 0 0 0;\n",
              "      width: 32px;\n",
              "    }\n",
              "\n",
              "    .colab-df-convert:hover {\n",
              "      background-color: #E2EBFA;\n",
              "      box-shadow: 0px 1px 2px rgba(60, 64, 67, 0.3), 0px 1px 3px 1px rgba(60, 64, 67, 0.15);\n",
              "      fill: #174EA6;\n",
              "    }\n",
              "\n",
              "    [theme=dark] .colab-df-convert {\n",
              "      background-color: #3B4455;\n",
              "      fill: #D2E3FC;\n",
              "    }\n",
              "\n",
              "    [theme=dark] .colab-df-convert:hover {\n",
              "      background-color: #434B5C;\n",
              "      box-shadow: 0px 1px 3px 1px rgba(0, 0, 0, 0.15);\n",
              "      filter: drop-shadow(0px 1px 2px rgba(0, 0, 0, 0.3));\n",
              "      fill: #FFFFFF;\n",
              "    }\n",
              "  </style>\n",
              "\n",
              "      <script>\n",
              "        const buttonEl =\n",
              "          document.querySelector('#df-adfabb93-eee2-4b50-a6c4-b8d74217f8c4 button.colab-df-convert');\n",
              "        buttonEl.style.display =\n",
              "          google.colab.kernel.accessAllowed ? 'block' : 'none';\n",
              "\n",
              "        async function convertToInteractive(key) {\n",
              "          const element = document.querySelector('#df-adfabb93-eee2-4b50-a6c4-b8d74217f8c4');\n",
              "          const dataTable =\n",
              "            await google.colab.kernel.invokeFunction('convertToInteractive',\n",
              "                                                     [key], {});\n",
              "          if (!dataTable) return;\n",
              "\n",
              "          const docLinkHtml = 'Like what you see? Visit the ' +\n",
              "            '<a target=\"_blank\" href=https://colab.research.google.com/notebooks/data_table.ipynb>data table notebook</a>'\n",
              "            + ' to learn more about interactive tables.';\n",
              "          element.innerHTML = '';\n",
              "          dataTable['output_type'] = 'display_data';\n",
              "          await google.colab.output.renderOutput(dataTable, element);\n",
              "          const docLink = document.createElement('div');\n",
              "          docLink.innerHTML = docLinkHtml;\n",
              "          element.appendChild(docLink);\n",
              "        }\n",
              "      </script>\n",
              "    </div>\n",
              "  </div>\n",
              "  "
            ],
            "text/plain": [
              "    Message Type Symbol    Open  ...           TimeStamp   n          vw\n",
              "412            b   AAPL  174.33  ... 2022-01-31 21:56:00  30  174.318900\n",
              "413            b   AAPL  174.34  ... 2022-01-31 21:57:00  47  174.335862\n",
              "414            b   AAPL  174.35  ... 2022-01-31 21:59:00  24  174.336806\n",
              "415            b   AAPL  174.35  ... 2022-01-31 22:00:00  22  174.350094\n",
              "416            b   AAPL  174.32  ... 2022-01-31 22:03:00  35  174.320606\n",
              "\n",
              "[5 rows x 10 columns]"
            ]
          },
          "metadata": {},
          "execution_count": 89
        }
      ]
    }
  ]
}