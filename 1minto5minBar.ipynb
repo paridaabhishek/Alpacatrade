{
  "nbformat": 4,
  "nbformat_minor": 0,
  "metadata": {
    "colab": {
      "name": "1minto5minBar.ipynb",
      "provenance": [],
      "authorship_tag": "ABX9TyPClf8GYDc5knW9Q3+IPkbR",
      "include_colab_link": true
    },
    "kernelspec": {
      "name": "python3",
      "display_name": "Python 3"
    },
    "language_info": {
      "name": "python"
    }
  },
  "cells": [
    {
      "cell_type": "markdown",
      "metadata": {
        "id": "view-in-github",
        "colab_type": "text"
      },
      "source": [
        "<a href=\"https://colab.research.google.com/github/paridaabhishek/Alpacatrade/blob/master/1minto5minBar.ipynb\" target=\"_parent\"><img src=\"https://colab.research.google.com/assets/colab-badge.svg\" alt=\"Open In Colab\"/></a>"
      ]
    },
    {
      "cell_type": "code",
      "execution_count": null,
      "metadata": {
        "colab": {
          "base_uri": "https://localhost:8080/"
        },
        "id": "yINPnUdJQE4Z",
        "outputId": "956c74bc-131f-4504-ac70-608bec5d773b"
      },
      "outputs": [
        {
          "output_type": "stream",
          "name": "stdout",
          "text": [
            "Collecting websocket-client\n",
            "  Downloading websocket_client-1.2.3-py3-none-any.whl (53 kB)\n",
            "\u001b[?25l\r\u001b[K     |██████▏                         | 10 kB 20.0 MB/s eta 0:00:01\r\u001b[K     |████████████▎                   | 20 kB 12.8 MB/s eta 0:00:01\r\u001b[K     |██████████████████▍             | 30 kB 9.8 MB/s eta 0:00:01\r\u001b[K     |████████████████████████▌       | 40 kB 8.5 MB/s eta 0:00:01\r\u001b[K     |██████████████████████████████▋ | 51 kB 5.6 MB/s eta 0:00:01\r\u001b[K     |████████████████████████████████| 53 kB 1.4 MB/s \n",
            "\u001b[?25hInstalling collected packages: websocket-client\n",
            "Successfully installed websocket-client-1.2.3\n",
            "Collecting alpaca-trade-api\n",
            "  Downloading alpaca_trade_api-1.5.0-py3-none-any.whl (45 kB)\n",
            "\u001b[K     |████████████████████████████████| 45 kB 1.6 MB/s \n",
            "\u001b[?25hRequirement already satisfied: urllib3<2,>1.24 in /usr/local/lib/python3.7/dist-packages (from alpaca-trade-api) (1.24.3)\n",
            "Collecting websockets<10,>=8.0\n",
            "  Downloading websockets-9.1-cp37-cp37m-manylinux2010_x86_64.whl (103 kB)\n",
            "\u001b[K     |████████████████████████████████| 103 kB 10.2 MB/s \n",
            "\u001b[?25hRequirement already satisfied: numpy>=1.11.1 in /usr/local/lib/python3.7/dist-packages (from alpaca-trade-api) (1.19.5)\n",
            "Collecting deprecation==2.1.0\n",
            "  Downloading deprecation-2.1.0-py2.py3-none-any.whl (11 kB)\n",
            "Requirement already satisfied: requests<3,>2 in /usr/local/lib/python3.7/dist-packages (from alpaca-trade-api) (2.23.0)\n",
            "Requirement already satisfied: pandas>=0.18.1 in /usr/local/lib/python3.7/dist-packages (from alpaca-trade-api) (1.3.5)\n",
            "Requirement already satisfied: websocket-client<2,>=0.56.0 in /usr/local/lib/python3.7/dist-packages (from alpaca-trade-api) (1.2.3)\n",
            "Collecting PyYAML==5.4.1\n",
            "  Downloading PyYAML-5.4.1-cp37-cp37m-manylinux1_x86_64.whl (636 kB)\n",
            "\u001b[K     |████████████████████████████████| 636 kB 49.5 MB/s \n",
            "\u001b[?25hCollecting aiohttp==3.7.4\n",
            "  Downloading aiohttp-3.7.4-cp37-cp37m-manylinux2014_x86_64.whl (1.3 MB)\n",
            "\u001b[K     |████████████████████████████████| 1.3 MB 37.3 MB/s \n",
            "\u001b[?25hCollecting msgpack==1.0.2\n",
            "  Downloading msgpack-1.0.2-cp37-cp37m-manylinux1_x86_64.whl (273 kB)\n",
            "\u001b[K     |████████████████████████████████| 273 kB 49.5 MB/s \n",
            "\u001b[?25hCollecting async-timeout<4.0,>=3.0\n",
            "  Downloading async_timeout-3.0.1-py3-none-any.whl (8.2 kB)\n",
            "Collecting multidict<7.0,>=4.5\n",
            "  Downloading multidict-6.0.2-cp37-cp37m-manylinux_2_17_x86_64.manylinux2014_x86_64.whl (94 kB)\n",
            "\u001b[K     |████████████████████████████████| 94 kB 3.4 MB/s \n",
            "\u001b[?25hRequirement already satisfied: attrs>=17.3.0 in /usr/local/lib/python3.7/dist-packages (from aiohttp==3.7.4->alpaca-trade-api) (21.4.0)\n",
            "Requirement already satisfied: typing-extensions>=3.6.5 in /usr/local/lib/python3.7/dist-packages (from aiohttp==3.7.4->alpaca-trade-api) (3.10.0.2)\n",
            "Collecting yarl<2.0,>=1.0\n",
            "  Downloading yarl-1.7.2-cp37-cp37m-manylinux_2_5_x86_64.manylinux1_x86_64.manylinux_2_12_x86_64.manylinux2010_x86_64.whl (271 kB)\n",
            "\u001b[K     |████████████████████████████████| 271 kB 48.1 MB/s \n",
            "\u001b[?25hRequirement already satisfied: chardet<4.0,>=2.0 in /usr/local/lib/python3.7/dist-packages (from aiohttp==3.7.4->alpaca-trade-api) (3.0.4)\n",
            "Requirement already satisfied: packaging in /usr/local/lib/python3.7/dist-packages (from deprecation==2.1.0->alpaca-trade-api) (21.3)\n",
            "Requirement already satisfied: python-dateutil>=2.7.3 in /usr/local/lib/python3.7/dist-packages (from pandas>=0.18.1->alpaca-trade-api) (2.8.2)\n",
            "Requirement already satisfied: pytz>=2017.3 in /usr/local/lib/python3.7/dist-packages (from pandas>=0.18.1->alpaca-trade-api) (2018.9)\n",
            "Requirement already satisfied: six>=1.5 in /usr/local/lib/python3.7/dist-packages (from python-dateutil>=2.7.3->pandas>=0.18.1->alpaca-trade-api) (1.15.0)\n",
            "Requirement already satisfied: idna<3,>=2.5 in /usr/local/lib/python3.7/dist-packages (from requests<3,>2->alpaca-trade-api) (2.10)\n",
            "Requirement already satisfied: certifi>=2017.4.17 in /usr/local/lib/python3.7/dist-packages (from requests<3,>2->alpaca-trade-api) (2021.10.8)\n",
            "Requirement already satisfied: pyparsing!=3.0.5,>=2.0.2 in /usr/local/lib/python3.7/dist-packages (from packaging->deprecation==2.1.0->alpaca-trade-api) (3.0.7)\n",
            "Installing collected packages: multidict, yarl, async-timeout, websockets, PyYAML, msgpack, deprecation, aiohttp, alpaca-trade-api\n",
            "  Attempting uninstall: PyYAML\n",
            "    Found existing installation: PyYAML 3.13\n",
            "    Uninstalling PyYAML-3.13:\n",
            "      Successfully uninstalled PyYAML-3.13\n",
            "  Attempting uninstall: msgpack\n",
            "    Found existing installation: msgpack 1.0.3\n",
            "    Uninstalling msgpack-1.0.3:\n",
            "      Successfully uninstalled msgpack-1.0.3\n",
            "Successfully installed PyYAML-5.4.1 aiohttp-3.7.4 alpaca-trade-api-1.5.0 async-timeout-3.0.1 deprecation-2.1.0 msgpack-1.0.2 multidict-6.0.2 websockets-9.1 yarl-1.7.2\n"
          ]
        }
      ],
      "source": [
        "#Install WebSocket\n",
        "!pip install websocket-client\n",
        "!pip install alpaca-trade-api"
      ]
    },
    {
      "cell_type": "code",
      "source": [
        "#Import Libreris\n",
        "import websocket \n",
        "import json\n",
        "from datetime import datetime\n",
        "import pandas as pd\n",
        "import numpy as np\n",
        "from IPython.core.display import JSON"
      ],
      "metadata": {
        "id": "mLksTCLeQSyw"
      },
      "execution_count": null,
      "outputs": []
    },
    {
      "cell_type": "code",
      "source": [
        "#Map Google drive\n",
        "from google.colab import drive\n",
        "drive.mount('/content/drive',force_remount=True)"
      ],
      "metadata": {
        "colab": {
          "base_uri": "https://localhost:8080/"
        },
        "id": "mdOtJ8q6QXGG",
        "outputId": "d589554f-a9a0-47f6-eea7-3e5563ac5b6d"
      },
      "execution_count": null,
      "outputs": [
        {
          "output_type": "stream",
          "name": "stdout",
          "text": [
            "Mounted at /content/drive\n"
          ]
        }
      ]
    },
    {
      "cell_type": "code",
      "source": [
        "ticket_interested = (input('Enter The Stock yo wanted to autotrade')).upper()\n",
        "print(ticket_interested+ ' Will be autotraded now!! Sitback and enjoy your day!!')\n",
        "\n",
        "listen_message='{\"action\":\"subscribe\",\"bars\":[\"'+ticket_interested+'\"]}'\n",
        "print(listen_message)"
      ],
      "metadata": {
        "colab": {
          "base_uri": "https://localhost:8080/"
        },
        "id": "uu2s8VSuQ6Zg",
        "outputId": "70b16352-2e14-4166-8178-c5ce42ecd5ea"
      },
      "execution_count": null,
      "outputs": [
        {
          "output_type": "stream",
          "name": "stdout",
          "text": [
            "Enter The Stock yo wanted to autotradeBTCUSD\n",
            "BTCUSD Will be autotraded now!! Sitback and enjoy your day!!\n",
            "{\"action\":\"subscribe\",\"bars\":[\"BTCUSD\"]}\n"
          ]
        }
      ]
    },
    {
      "cell_type": "code",
      "source": [
        "#Import Credentials. Kept the credential in the file Cred.py under the dir below for security.\n",
        "import sys\n",
        "import os\n",
        "import glob\n",
        "print(glob.glob(\"/content/drive/*\"))\n",
        "os.chdir('/content/drive//MyDrive/AlpecaTrading/Config')\n",
        "#sys.path.append('/content/drive/AlpecaTrading/Config')\n",
        "print(os.getcwd())\n",
        "from  Cred import *\n",
        "print(API_KEY)\n",
        "print(SECRET_KEY)"
      ],
      "metadata": {
        "colab": {
          "base_uri": "https://localhost:8080/"
        },
        "id": "XAziHY60Q6c2",
        "outputId": "22c7f5ac-36dc-43a2-c28b-3bcb89f5c903"
      },
      "execution_count": null,
      "outputs": [
        {
          "output_type": "stream",
          "name": "stdout",
          "text": [
            "['/content/drive/MyDrive']\n",
            "/content/drive/MyDrive/AlpecaTrading/Config\n",
            "PKENE1R5LIQR1J3778D0\n",
            "nT8XMPHULWGvTu4jnDJc6UMK2tSyUAc2YS7npTNV\n"
          ]
        }
      ]
    },
    {
      "cell_type": "code",
      "source": [
        "#Websocket Code\n",
        "#socket = \"wss://stream.data.alpaca.markets/v2/sip\" #Webscoket given by alpeca for \n",
        "#socket = \"wss://paper-api.alpaca.markets/stream\" #Webscoket given by alpeca for \n",
        "socket = \"wss://stream.data.alpaca.markets/v1beta1/crypto\"\n",
        "\n",
        "print(socket.split('/')[-1])\n",
        "\n",
        "def on_ope_fun(ws):\n",
        "    print(\"Opened\")\n",
        "    auth_data = {\"action\": \"auth\",\"key\": API_KEY,\"secret\": SECRET_KEY }  #Key and Secret getting from the Cred file. \n",
        "    ws.send(json.dumps(auth_data))\n",
        "    #listen_message={\"action\":\"subscribe\",\"trades\":[\"BTCUSD\"],\"quotes\":[\"LTCUSD\",\"ETHUSD\"],\"bars\":[\"BCHUSD\"]}\n",
        "    #listen_message={\"action\":\"subscribe\",\"trades\":[\"BTCUSD\"]}\n",
        "    #listen_message={\"action\":\"subscribe\",\"bars\":[\"BTCUSD\"]}\n",
        "    listen_message='{\"action\":\"subscribe\",\"bars\":[\"'+ticket_interested+'\"]}'\n",
        "    print(listen_message)\n",
        "    #listen_message={\"action\":\"subscribe\",\"bars\":[\"AAPL\"]}  ### --> Modify based on whatever symbol you want to check\n",
        "    ws.send(json.dumps(json.loads(listen_message)))\n",
        "\n",
        "\n",
        "    print('Still Open')\n",
        "\n",
        "def on_msg_fun(ws,message):\n",
        "    now = datetime.now()\n",
        "    current_time = now.strftime(\"%H:%M:%S\")\n",
        "    print(\"messgae received at\"+ current_time)\n",
        "    print(message)\n",
        "    print('Strated wring to the steam file')\n",
        "    Oneminto5minBar(message)\n",
        "    print('Wrttin  steam file')\n",
        "\n",
        "def on_clg_fun(ws):\n",
        "    print(\"Closed\")"
      ],
      "metadata": {
        "colab": {
          "base_uri": "https://localhost:8080/"
        },
        "id": "W0b8WgFsRQKK",
        "outputId": "92b635d8-ef6d-4d79-9ae0-35e15c49d98f"
      },
      "execution_count": null,
      "outputs": [
        {
          "output_type": "stream",
          "name": "stdout",
          "text": [
            "crypto\n"
          ]
        }
      ]
    },
    {
      "cell_type": "code",
      "source": [
        "def Oneminto5minBar(message):\n",
        "  messageJson = json.loads(message)\n",
        "  df = pd.DataFrame(messageJson)\n",
        "  df.to_csv('/content/drive//MyDrive/AlpecaTrading/DataFiles/StreamFiles/{}.csv'.format(ticket_interested),mode='a', index=False, header=False)\n",
        "  \n",
        "\n",
        "\n"
      ],
      "metadata": {
        "id": "IsDsFdJtRe4k"
      },
      "execution_count": null,
      "outputs": []
    },
    {
      "cell_type": "code",
      "source": [
        "ws = websocket.WebSocketApp(socket, on_open=on_ope_fun,on_message=on_msg_fun)\n",
        "ws.run_forever()"
      ],
      "metadata": {
        "colab": {
          "base_uri": "https://localhost:8080/"
        },
        "id": "MjHew07OSl9Z",
        "outputId": "9333e80e-816b-4c1d-faa9-e3c595bd0027"
      },
      "execution_count": null,
      "outputs": [
        {
          "output_type": "stream",
          "name": "stdout",
          "text": [
            "Opened\n",
            "{\"action\":\"subscribe\",\"bars\":[\"BTCUSD\"]}\n",
            "Still Open\n",
            "messgae received at07:02:29\n",
            "[{\"T\":\"success\",\"msg\":\"connected\"}]\n",
            "Strated wring to the steam file\n",
            "Wrttin  steam file\n",
            "messgae received at07:02:30\n",
            "[{\"T\":\"success\",\"msg\":\"authenticated\"}]\n",
            "Strated wring to the steam file\n",
            "Wrttin  steam file\n",
            "messgae received at07:02:30\n",
            "[{\"T\":\"subscription\",\"trades\":[],\"quotes\":[],\"bars\":[\"BTCUSD\"],\"dailyBars\":[]}]\n",
            "Strated wring to the steam file\n",
            "Wrttin  steam file\n",
            "messgae received at07:03:00\n",
            "[{\"T\":\"b\",\"S\":\"BTCUSD\",\"x\":\"CBSE\",\"o\":43765.4,\"c\":43700.02,\"h\":43766.48,\"l\":43700,\"v\":4.48198529,\"t\":\"2022-02-09T07:02:00Z\",\"n\":189,\"vw\":43734.7726325953}]\n",
            "Strated wring to the steam file\n",
            "Wrttin  steam file\n",
            "messgae received at07:03:00\n",
            "[{\"T\":\"b\",\"S\":\"BTCUSD\",\"x\":\"FTXU\",\"o\":43760,\"c\":43717,\"h\":43760,\"l\":43717,\"v\":0.1151,\"t\":\"2022-02-09T07:02:00Z\",\"n\":4,\"vw\":43736.0208514335}]\n",
            "Strated wring to the steam file\n",
            "Wrttin  steam file\n",
            "messgae received at07:04:00\n",
            "[{\"T\":\"b\",\"S\":\"BTCUSD\",\"x\":\"CBSE\",\"o\":43700.01,\"c\":43686.8,\"h\":43708.69,\"l\":43672.77,\"v\":3.71777378,\"t\":\"2022-02-09T07:03:00Z\",\"n\":207,\"vw\":43698.4171572994}]\n",
            "Strated wring to the steam file\n",
            "Wrttin  steam file\n",
            "messgae received at07:04:00\n",
            "[{\"T\":\"b\",\"S\":\"BTCUSD\",\"x\":\"FTXU\",\"o\":43695,\"c\":43681,\"h\":43695,\"l\":43681,\"v\":0.0004,\"t\":\"2022-02-09T07:03:00Z\",\"n\":2,\"vw\":43688}]\n",
            "Strated wring to the steam file\n",
            "Wrttin  steam file\n",
            "messgae received at07:05:00\n",
            "[{\"T\":\"b\",\"S\":\"BTCUSD\",\"x\":\"CBSE\",\"o\":43681.25,\"c\":43676.25,\"h\":43695.75,\"l\":43666.67,\"v\":4.24568305,\"t\":\"2022-02-09T07:04:00Z\",\"n\":232,\"vw\":43682.7490005297}]\n",
            "Strated wring to the steam file\n",
            "Wrttin  steam file\n",
            "messgae received at07:05:00\n",
            "[{\"T\":\"b\",\"S\":\"BTCUSD\",\"x\":\"FTXU\",\"o\":43674,\"c\":43674,\"h\":43674,\"l\":43674,\"v\":0.0002,\"t\":\"2022-02-09T07:04:00Z\",\"n\":1,\"vw\":43674}]\n",
            "Strated wring to the steam file\n",
            "Wrttin  steam file\n",
            "messgae received at07:05:30\n",
            "[{\"T\":\"b\",\"S\":\"BTCUSD\",\"x\":\"CBSE\",\"o\":43681.25,\"c\":43676.25,\"h\":43695.75,\"l\":43666.67,\"v\":4.25292606,\"t\":\"2022-02-09T07:04:00Z\",\"n\":234,\"vw\":43682.73793466}]\n",
            "Strated wring to the steam file\n",
            "Wrttin  steam file\n",
            "messgae received at07:06:00\n",
            "[{\"T\":\"b\",\"S\":\"BTCUSD\",\"x\":\"CBSE\",\"o\":43668.53,\"c\":43673.47,\"h\":43694.63,\"l\":43665.24,\"v\":2.91896529,\"t\":\"2022-02-09T07:05:00Z\",\"n\":170,\"vw\":43678.5105585209}]\n",
            "Strated wring to the steam file\n",
            "Wrttin  steam file\n",
            "messgae received at07:06:00\n",
            "[{\"T\":\"b\",\"S\":\"BTCUSD\",\"x\":\"FTXU\",\"o\":43671,\"c\":43678,\"h\":43678,\"l\":43671,\"v\":0.0734,\"t\":\"2022-02-09T07:05:00Z\",\"n\":2,\"vw\":43671.0190735695}]\n",
            "Strated wring to the steam file\n",
            "Wrttin  steam file\n",
            "messgae received at07:07:00\n",
            "[{\"T\":\"b\",\"S\":\"BTCUSD\",\"x\":\"CBSE\",\"o\":43673.47,\"c\":43693.92,\"h\":43703.82,\"l\":43673.47,\"v\":6.23378705,\"t\":\"2022-02-09T07:06:00Z\",\"n\":180,\"vw\":43693.9194680907}]\n",
            "Strated wring to the steam file\n",
            "Wrttin  steam file\n",
            "messgae received at07:07:00\n",
            "[{\"T\":\"b\",\"S\":\"BTCUSD\",\"x\":\"FTXU\",\"o\":43691,\"c\":43689,\"h\":43691,\"l\":43689,\"v\":0.0588,\"t\":\"2022-02-09T07:06:00Z\",\"n\":2,\"vw\":43690.9931972789}]\n",
            "Strated wring to the steam file\n",
            "Wrttin  steam file\n",
            "messgae received at07:07:30\n",
            "[{\"T\":\"b\",\"S\":\"BTCUSD\",\"x\":\"CBSE\",\"o\":43673.47,\"c\":43693.92,\"h\":43703.82,\"l\":43673.47,\"v\":6.24521315,\"t\":\"2022-02-09T07:06:00Z\",\"n\":181,\"vw\":43693.9194690639}]\n",
            "Strated wring to the steam file\n",
            "Wrttin  steam file\n",
            "messgae received at07:08:00\n",
            "[{\"T\":\"b\",\"S\":\"BTCUSD\",\"x\":\"CBSE\",\"o\":43691.25,\"c\":43690.81,\"h\":43695.61,\"l\":43681.43,\"v\":1.29461241,\"t\":\"2022-02-09T07:07:00Z\",\"n\":141,\"vw\":43691.3262970407}]\n",
            "Strated wring to the steam file\n",
            "Wrttin  steam file\n",
            "messgae received at07:08:00\n",
            "[{\"T\":\"b\",\"S\":\"BTCUSD\",\"x\":\"FTXU\",\"o\":43684,\"c\":43686,\"h\":43686,\"l\":43681,\"v\":0.047,\"t\":\"2022-02-09T07:07:00Z\",\"n\":3,\"vw\":43685.985106383}]\n",
            "Strated wring to the steam file\n",
            "Wrttin  steam file\n"
          ]
        },
        {
          "output_type": "execute_result",
          "data": {
            "text/plain": [
              "False"
            ]
          },
          "metadata": {},
          "execution_count": 9
        }
      ]
    }
  ]
}